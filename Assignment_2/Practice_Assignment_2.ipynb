{
 "cells": [
  {
   "cell_type": "code",
   "execution_count": 1,
   "metadata": {},
   "outputs": [],
   "source": [
    "import io\n",
    "import os\n",
    "import numpy as np\n",
    "import scipy\n",
    "import matplotlib.pyplot as plt"
   ]
  },
  {
   "cell_type": "code",
   "execution_count": 2,
   "metadata": {},
   "outputs": [],
   "source": [
    "PATH_TO_DATA = \"./data\""
   ]
  },
  {
   "cell_type": "code",
   "execution_count": 3,
   "metadata": {},
   "outputs": [],
   "source": [
    "class Word2vec():\n",
    "    def __init__(self, fname, nmax=100000):\n",
    "        self.load_wordvec(fname, nmax)\n",
    "        self.word2id = dict.fromkeys(self.word2vec.keys())\n",
    "        self.id2word = {v: k for k, v in self.word2id.items()}\n",
    "        self.embeddings = np.array(self.word2vec.values())\n",
    "    \n",
    "    def load_wordvec(self, fname, nmax):\n",
    "        self.word2vec = {}\n",
    "        with io.open(fname, encoding='utf-8') as f:\n",
    "            next(f)\n",
    "            for i, line in enumerate(f):\n",
    "                word, vec = line.split(' ', 1)\n",
    "                self.word2vec[word] = np.fromstring(vec, sep=' ')\n",
    "                if i == (nmax - 1):\n",
    "                    break\n",
    "        print('Loaded %s pretrained word vectors' % (len(self.word2vec)))\n",
    "\n",
    "    def most_similar(self, w, K=5):\n",
    "        # K most similar words: self.score  -  np.argsort \n",
    "        cosine_sim_list = []\n",
    "        sim_words = []\n",
    "        count = 0\n",
    "        \n",
    "        for key in self.word2vec.keys():\n",
    "            self.word2id[key]=count\n",
    "            count=count+1\n",
    "            \n",
    "        self.id2word = {v: k for k, v in self.word2id.items()}\n",
    "        \n",
    "        #Computing Scores\n",
    "        for word in self.word2vec.keys():\n",
    "            cosine_sim_list.append(self.score(w,word))\n",
    "        \n",
    "        #Sorting and extracting top k nearest neighbors\n",
    "        cosine_sim_mat = np.array(cosine_sim_list)\n",
    "        sorted_id = np.argsort(cosine_sim_mat)\n",
    "        sorted_id = sorted_id[::-1][0:K]\n",
    "        \n",
    "        #Get Names from IDs\n",
    "        for id in sorted_id:\n",
    "            sim_words.append(self.id2word[id])\n",
    "            \n",
    "        return sim_words\n",
    "        \n",
    "\n",
    "    def score(self, w1, w2):\n",
    "        # cosine similarity: np.dot  -  np.linalg.norm\n",
    "        \n",
    "        w1_embedding = self.word2vec[w1]\n",
    "        w2_embedding = self.word2vec[w2]\n",
    "              \n",
    "        cosine_similarity_score = np.dot(w1_embedding, w2_embedding) / (np.linalg.norm(w1_embedding) * np.linalg.norm(w2_embedding))\n",
    "        return cosine_similarity_score"
   ]
  },
  {
   "cell_type": "code",
   "execution_count": 4,
   "metadata": {},
   "outputs": [
    {
     "name": "stdout",
     "output_type": "stream",
     "text": [
      "Loaded 100000 pretrained word vectors\n",
      "('cat', 'dog', 0.671683666279249)\n",
      "('dog', 'pet', 0.6842064029669219)\n",
      "('dogs', 'cats', 0.7074389328052403)\n",
      "('paris', 'france', 0.7775108541288558)\n",
      "('germany', 'berlin', 0.7420295235998394)\n",
      "[u'cat', u'cats', u'kitty', u'kitten', u'feline']\n",
      "[u'dog', u'dogs', u'puppy', u'Dog', u'doggie']\n",
      "[u'dogs', u'dog', u'pooches', u'Dogs', u'doggies']\n",
      "[u'paris', u'france', u'Paris', u'london', u'berlin']\n",
      "[u'germany', u'austria', u'europe', u'german', u'berlin']\n"
     ]
    }
   ],
   "source": [
    "w2v = Word2vec(os.path.join(PATH_TO_DATA, 'crawl-300d-200k.vec'), nmax=100000) \n",
    "\n",
    "# You will be evaluated on the output of the following:\n",
    "for w1, w2 in zip(('cat', 'dog', 'dogs', 'paris', 'germany'), ('dog', 'pet', 'cats', 'france', 'berlin')):\n",
    "    print(w1, w2, w2v.score(w1, w2))\n",
    "for w1 in ['cat', 'dog', 'dogs', 'paris', 'germany']:\n",
    "    print(w2v.most_similar(w1))\n",
    "    \n",
    "#Note: After discussing with one of the course TA, I changed nmax from 25000 to 100000 to incorporate words \n",
    "#like france, germany."
   ]
  },
  {
   "cell_type": "code",
   "execution_count": 6,
   "metadata": {},
   "outputs": [],
   "source": [
    "class BoV():\n",
    "    def __init__(self, w2v):\n",
    "        self.w2v = w2v\n",
    "    \n",
    "    '''def encode(self, sentences, idf=False):\n",
    "        # takes a list of sentences, outputs a numpy array of sentence embeddings\n",
    "        # see TP1 for help\n",
    "        sentemb = []\n",
    "  \n",
    "        for sent in sentences:\n",
    "            temp_embedding = np.zeros([1,300])\n",
    "            sent = sent.split(' ')\n",
    "            sent = [x for x in sent if x]\n",
    "            #sent = ' '.join(sent).split()\n",
    "            \n",
    "            for w in sent:\n",
    "                #print w\n",
    "                \n",
    "                    \n",
    "                if idf is False:\n",
    "                    # mean of word vectors\n",
    "                    #print w\n",
    "                    if self.w2v.word2vec.get(w) is None:\n",
    "                        continue\n",
    "                    temp_embedding = temp_embedding + self.w2v.word2vec[w]\n",
    "                else:\n",
    "                    # idf-weighted mean of word vectors\n",
    "                    #print w\n",
    "                    if self.w2v.word2vec.get(w) is None or idf.get(w) is None:\n",
    "                        continue\n",
    "                    temp_embedding = temp_embedding + self.w2v.word2vec[w]*idf[w]\n",
    "                \n",
    "            temp_embedding = temp_embedding/len(sent)\n",
    "            sentemb.append(temp_embedding)\n",
    "        return np.vstack(sentemb)'''\n",
    "    def encode(self, sentences, idf=False):\n",
    "        # takes a list of sentences, outputs a numpy array of sentence embeddings\n",
    "        # see TP1 for help\n",
    "        sentemb = []\n",
    "        for sent in sentences:\n",
    "            if idf is False:\n",
    "                # mean of word vectors \n",
    "                embeddings = []\n",
    "                for word in sent:\n",
    "                    if word in self.w2v.word2vec:\n",
    "                        embeddings.append(self.w2v.word2vec[word])\n",
    "                if len(embeddings) == 0:\n",
    "                    sentemb.append(np.zeros(list(self.w2v.word2vec.values())[0].shape))\n",
    "                else:\n",
    "                    sentemb.append(np.mean(embeddings, axis=0))\n",
    "            else:\n",
    "                # idf-weighted mean of word vectors\n",
    "                embeddings = []\n",
    "                for word in sent:\n",
    "                    if word in self.w2v.word2vec:\n",
    "                        embeddings.append(idf[word] * self.w2v.word2vec[word])\n",
    "                if len(embeddings) == 0:\n",
    "                    sentemb.append(np.zeros(list(self.w2v.word2vec.values())[0].shape))\n",
    "                else:\n",
    "                    sentemb.append(np.mean(embeddings, axis=0))\n",
    "        return np.vstack(sentemb)\n",
    "\n",
    "    '''def most_similar(self, s, sentences, idf=False, K=5):\n",
    "        # get most similar sentences and **print** them\n",
    "        keys = self.encode(sentences, idf)\n",
    "        query = self.encode([s], idf)\n",
    "        \n",
    "        cosine_sim_list = []\n",
    "        \n",
    "        sim_sentences = []\n",
    "        \n",
    "        for vec in keys:\n",
    "            #print vec\n",
    "            #print query\n",
    "            \n",
    "            temp_cos_sim = np.dot(query, vec) / (np.linalg.norm(query) * np.linalg.norm(vec))\n",
    "            #print temp_cos_sim\n",
    "            cosine_sim_list.append(temp_cos_sim)\n",
    "            \n",
    "        print len(cosine_sim_list)\n",
    "            \n",
    "        cosine_sim_mat = np.array(cosine_sim_list)\n",
    "        \n",
    "        print cosine_sim_mat.shape\n",
    "        \n",
    "        print cosine_sim_mat[0:10]\n",
    "        \n",
    "        sorted_id = np.argsort(cosine_sim_mat)\n",
    "        \n",
    "        #print sorted_id\n",
    "        \n",
    "        sorted_id = sorted_id[::-1][0:K]\n",
    "        \n",
    "        #print sorted_id\n",
    "                \n",
    "        for id in sorted_id:\n",
    "            print id\n",
    "            sim_sentences.append(sentences[id])\n",
    "            \n",
    "        return sim_sentences'''\n",
    "    def most_similar(self, s, sentences, idf=False, K=5):\n",
    "        # get most similar sentences and **print** them\n",
    "        keys = self.encode(sentences, idf)\n",
    "        query = self.encode([s], idf)\n",
    "        \n",
    "        scores = []\n",
    "        similar_sentences = []\n",
    "        # Computing scores\n",
    "        for id_sentence in sentences:\n",
    "            scores.append(self.score(s, id_sentence, idf))\n",
    "        \n",
    "        # Extracting the K best ids (K last with sorted list)\n",
    "        id_K_most_similar = (np.argsort(scores)[::-1][0:K])\n",
    "    \n",
    "        # Getting the sentences\n",
    "        for id_similar_sentence in id_K_most_similar:\n",
    "            similar_sentences.append(sentences[id_similar_sentence])\n",
    "        print(\"\\nSimilar sentences to \", \" \".join(s), \" :\") \n",
    "        print(\"\\n\".join([\" \".join(sentence) for sentence in similar_sentences]))\n",
    "        return similar_sentences\n",
    "    \n",
    "    \n",
    "\n",
    "    def score(self, s1, s2, idf=False):\n",
    "        # cosine similarity: use   np.dot  and  np.linalg.norm\n",
    "        s1_embedding = self.encode([s1],idf)\n",
    "        s2_embedding = self.encode([s2],idf)\n",
    "        \n",
    "        s1_embedding = s1_embedding.reshape(300,1)\n",
    "        #s2_embedding = s2_embedding.transpose\n",
    "        \n",
    "        if np.linalg.norm(s1_embedding)!= 0 and np.linalg.norm(s2_embedding) !=0:\n",
    "            cosine_similarity_score = np.dot(s1_embedding, s2_embedding) / (np.linalg.norm(s1_embedding) * np.linalg.norm(s2_embedding))\n",
    "            return cosine_similarity_score\n",
    "        else:\n",
    "            return 0\n",
    "    \n",
    "    def build_idf(self, sentences):\n",
    "        # build the idf dictionary: associate each word to its idf value\n",
    "        idf = {}       \n",
    "        \n",
    "        for sent in sentences:\n",
    "            sent = sent.split(' ')\n",
    "            sent = [x for x in sent if x]\n",
    "            #sent = ' '.join(sent).split()\n",
    "            \n",
    "            for w in set(sent):\n",
    "                idf[w] = idf.get(w, 0) + 1\n",
    "        \n",
    "        for word, val in idf.items():\n",
    "            idf[word] = max(1, np.log10(len(sentences) / (idf[word])))\n",
    "                \n",
    "        return idf"
   ]
  },
  {
   "cell_type": "code",
   "execution_count": null,
   "metadata": {},
   "outputs": [
    {
     "name": "stdout",
     "output_type": "stream",
     "text": [
      "Loaded 5000 pretrained word vectors\n"
     ]
    }
   ],
   "source": [
    "w2v = Word2vec(os.path.join(PATH_TO_DATA, 'crawl-300d-200k.vec'), nmax=5000)\n",
    "s2v = BoV(w2v)\n",
    "\n",
    "# Load sentences in \"PATH_TO_DATA/sentences.txt\"\n",
    "import re\n",
    "def remPunct(sentence):\n",
    "    return re.sub(r'([^\\s\\w]|_)+', '', sentence)\n",
    "\n",
    "sentences = []\n",
    "sentences = [remPunct(line) for line in open(os.path.join(PATH_TO_DATA,'sentences.txt'))]\n",
    "sentences = [line.rstrip('\\n') for line in sentences]\n",
    "\n",
    "# Build idf scores for each word\n",
    "idf = s2v.build_idf(sentences)\n",
    "\n",
    "#print idf\n",
    "\n",
    "# You will be evaluated on the output of the following:\n",
    "print s2v.most_similar('' if not sentences else sentences[10], sentences)  # BoV-mean\n",
    "print s2v.score('' if not sentences else sentences[7], '' if not sentences else sentences[13])\n",
    "\n",
    "\n",
    "idf = {}  \n",
    "s2v.most_similar('' if not sentences else sentences[10], sentences, idf)  # BoV-idf\n",
    "s2v.score('' if not sentences else sentences[7], '' if not sentences else sentences[13], idf)"
   ]
  },
  {
   "cell_type": "markdown",
   "metadata": {},
   "source": [
    "## 2) Multi-Lingual Word Embeddings"
   ]
  },
  {
   "cell_type": "code",
   "execution_count": 12,
   "metadata": {},
   "outputs": [
    {
     "name": "stdout",
     "output_type": "stream",
     "text": [
      "Loaded 100000 pretrained word vectors\n",
      "Loaded 100000 pretrained word vectors\n",
      "-0.020153589388610674\n"
     ]
    }
   ],
   "source": [
    "# 1 - Download and load 50k first vectors of\n",
    "#     https://s3-us-west-1.amazonaws.com/fasttext-vectors/wiki.en.vec\n",
    "#     https://s3-us-west-1.amazonaws.com/fasttext-vectors/wiki.fr.vec\n",
    "\n",
    "def cosine_similarity(vec_a, vec_b):\n",
    "        \"\"\"Compute cosine similarity between vec_a and vec_b\"\"\"\n",
    "        return np.dot(vec_a, vec_b) / (np.linalg.norm(vec_a) * np.linalg.norm(vec_b))\n",
    "\n",
    "# TYPE CODE HERE\n",
    "en2v = Word2vec(os.path.join(PATH_TO_DATA, 'wiki.en.vec'), nmax=100000)\n",
    "fr2v = Word2vec(os.path.join(PATH_TO_DATA, 'wiki.fr.vec'), nmax=100000)\n",
    "\n",
    "count = 0\n",
    "\n",
    "for key in en2v.word2vec.keys():\n",
    "    en2v.word2id[key]=count\n",
    "    count=count+1\n",
    "\n",
    "en2v.id2word = {v: k for k, v in en2v.word2id.items()}\n",
    "\n",
    "count = 0\n",
    "\n",
    "for key in fr2v.word2vec.keys():\n",
    "    fr2v.word2id[key]=count\n",
    "    count=count+1\n",
    "    \n",
    "fr2v.id2word = {v: k for k, v in fr2v.word2id.items()}\n",
    "\n",
    "en_vector = en2v.word2vec['hello']\n",
    "fr_vector = fr2v.word2vec['bonjour']\n",
    "print(cosine_similarity(fr_vector, en_vector))"
   ]
  },
  {
   "cell_type": "code",
   "execution_count": 8,
   "metadata": {},
   "outputs": [
    {
     "name": "stdout",
     "output_type": "stream",
     "text": [
      "18970\n",
      "(18970, 300)\n",
      "(18970, 300)\n"
     ]
    }
   ],
   "source": [
    "# 2 - Get words that appear in both vocabs (= identical character strings)\n",
    "#     Use it to create the matrix X and Y (of aligned embeddings for these words)\n",
    "\n",
    "def normalized(a, axis=-1, order=2):\n",
    "    \"\"\"Utility function to normalize the rows of a numpy array.\"\"\"\n",
    "    l2 = np.atleast_1d(np.linalg.norm(a, order, axis))\n",
    "    l2[l2==0] = 1\n",
    "    return a / np.expand_dims(l2, axis)\n",
    "\n",
    "def make_training_matrices(source_dictionary, target_dictionary, bilingual_dictionary):\n",
    "    \"\"\"\n",
    "    Source and target dictionaries are the FastVector objects of\n",
    "    source/target languages. bilingual_dictionary is a list of \n",
    "    translation pair tuples [(source_word, target_word), ...].\n",
    "    \"\"\"\n",
    "    source_matrix = []\n",
    "    target_matrix = []\n",
    "\n",
    "    for (source, target) in bilingual_dictionary:\n",
    "        if source in source_dictionary and target in target_dictionary:\n",
    "            source_matrix.append(source_dictionary[source])\n",
    "            target_matrix.append(target_dictionary[target])\n",
    "\n",
    "    # return training matrices\n",
    "    return np.array(source_matrix), np.array(target_matrix)\n",
    "\n",
    "# TYPE CODE HERE\n",
    "en_words = set(en2v.word2id.keys())\n",
    "fr_words = set(fr2v.word2id.keys())\n",
    "\n",
    "overlap = list(en_words & fr_words)\n",
    "print len(overlap)\n",
    "bilingual_dictionary = [(entry, entry) for entry in overlap]\n",
    "\n",
    "source_matrix, target_matrix = make_training_matrices(fr2v.word2vec, en2v.word2vec, bilingual_dictionary)\n",
    "\n",
    "print source_matrix.shape\n",
    "print target_matrix.shape"
   ]
  },
  {
   "cell_type": "code",
   "execution_count": 9,
   "metadata": {},
   "outputs": [],
   "source": [
    "# 3 - Solve the Procrustes using the scipy package and: scipy.linalg.svd() and get the optimal W\n",
    "#     Now W*French_vector is in the same space as English_vector\n",
    "\n",
    "def learn_transformation(source_matrix, target_matrix, normalize_vectors=True):\n",
    "    \"\"\"\n",
    "    Source and target matrices are numpy arrays, shape\n",
    "    (dictionary_length, embedding_dimension). These contain paired\n",
    "    word vectors from the bilingual dictionary.\n",
    "    \"\"\"\n",
    "    # optionally normalize the training vectors\n",
    "    if normalize_vectors:\n",
    "        source_matrix = normalized(source_matrix)\n",
    "        target_matrix = normalized(target_matrix)\n",
    "\n",
    "    # perform the SVD\n",
    "    product = np.matmul(source_matrix.transpose(), target_matrix)\n",
    "    U, s, V = np.linalg.svd(product)\n",
    "\n",
    "    # return orthogonal transformation which aligns source language to the target\n",
    "    return np.matmul(U, V)\n",
    "\n",
    "def apply_transform(embed,transform):\n",
    "        \"\"\"\n",
    "        Apply the given transformation to the vector space\n",
    "        Right-multiplies given transform with embeddings E:\n",
    "            E = E * transform\n",
    "        Transform can either be a string with a filename to a\n",
    "        text file containing a ndarray (compat. with np.loadtxt)\n",
    "        or a numpy ndarray.\n",
    "        \"\"\"\n",
    "        transmat = np.loadtxt(transform) if isinstance(transform, str) else transform\n",
    "        embed = np.matmul(embed, transmat)\n",
    "        \n",
    "        return embed\n",
    "\n",
    "\n",
    "# TYPE CODE HERE\n",
    "# learn and apply the transformation\n",
    "transform = learn_transformation(source_matrix, target_matrix,False)\n",
    "fr2v.embeddings = apply_transform(fr2v.embeddings,transform)\n",
    "\n",
    "#en2v.embeddings = apply_transform(en2v.embeddings,transform)"
   ]
  },
  {
   "cell_type": "code",
   "execution_count": 10,
   "metadata": {},
   "outputs": [
    {
     "name": "stdout",
     "output_type": "stream",
     "text": [
      "comment/discuss\n"
     ]
    }
   ],
   "source": [
    "# 4 - After alignment with W, give examples of English nearest neighbors of some French words (and vice versa)\n",
    "#     You will be evaluated on that part and the code above\n",
    "\n",
    "def translate_nearest_neighbour(target_lang_instance, source_vector):\n",
    "        \"\"\"Obtain translation of source_vector using nearest neighbour retrieval\"\"\"\n",
    "        similarity_vector = np.matmul((target_lang_instance.embeddings), source_vector)\n",
    "        target_id = np.argmax(similarity_vector)\n",
    "        return target_lang_instance.id2word[target_id]\n",
    "\n",
    "\n",
    "# TYPE CODE HERE\n",
    "fr_vector_transformed = fr2v.word2vec[\"salut\"]\n",
    "#en_vector = en2v.word2vec[\"divine\"]\n",
    "\n",
    "#print en2v.id2word\n",
    "print translate_nearest_neighbour(en2v,fr_vector_transformed)\n",
    "\n",
    "\n",
    "#print cosine_similarity(fr_vector_transformed, fr_vector)"
   ]
  },
  {
   "cell_type": "markdown",
   "metadata": {},
   "source": [
    "## 3) Sentence Classification with BoW and Scikit"
   ]
  },
  {
   "cell_type": "code",
   "execution_count": 11,
   "metadata": {},
   "outputs": [
    {
     "name": "stdout",
     "output_type": "stream",
     "text": [
      "8544\n",
      "1101\n",
      "8544\n",
      "1101\n",
      "2210\n"
     ]
    }
   ],
   "source": [
    "# 1 - Load train/dev/test of Stanford Sentiment TreeBank (SST)\n",
    "#     (https://nlp.stanford.edu/~socherr/EMNLP2013_RNTN.pdf)\n",
    "\n",
    "# TYPE CODE HERE\n",
    "import re\n",
    "def remPunct(sentence):\n",
    "    return re.sub(r'([^\\s\\w]|_)+', '', sentence)\n",
    "\n",
    "def organize_labeled_dataset(data):\n",
    "    \n",
    "    label = []\n",
    "    sentence = []\n",
    "    \n",
    "    for sent in data:\n",
    "        \n",
    "        s = sent.split(\" \")\n",
    "        s = [x for x in s if x]\n",
    "        \n",
    "        temp_label = s.pop(0)\n",
    "        \n",
    "        s = \" \".join(s)\n",
    "        \n",
    "        label.append(temp_label)\n",
    "        sentence.append(s)\n",
    "        \n",
    "    return sentence, label\n",
    "\n",
    "\n",
    "def organize_test_dataset(data):\n",
    "\n",
    "    sentence = []\n",
    "    \n",
    "    for sent in data:\n",
    "        \n",
    "        s = sent.split(\" \")\n",
    "        s = [x for x in s if x]\n",
    "        \n",
    "        s = \" \".join(s)\n",
    "        \n",
    "        sentence.append(s)\n",
    "        \n",
    "    return sentence\n",
    "        \n",
    "sst_train = []\n",
    "sst_train = [remPunct(line) for line in open(os.path.join(PATH_TO_DATA,'SST/stsa.fine.train'))]\n",
    "\n",
    "\n",
    "print len(sst_train)\n",
    "\n",
    "sst_dev = []\n",
    "sst_dev = [remPunct(sent) for sent in open(os.path.join(PATH_TO_DATA,'SST/stsa.fine.dev'))]\n",
    "\n",
    "\n",
    "print len(sst_dev)\n",
    "\n",
    "sst_test = []\n",
    "sst_test = [remPunct(sent) for sent in open(os.path.join(PATH_TO_DATA,'SST/stsa.fine.test.X'))]\n",
    "\n",
    "sst_train_data, sst_train_label = organize_labeled_dataset(sst_train)\n",
    "sst_dev_data, sst_dev_label = organize_labeled_dataset(sst_dev)\n",
    "sst_test_data = organize_test_dataset(sst_test)\n",
    "\n",
    "print len(sst_train_data)\n",
    "\n",
    "print len(sst_dev_data)\n",
    "\n",
    "print len(sst_test_data)"
   ]
  },
  {
   "cell_type": "code",
   "execution_count": 12,
   "metadata": {},
   "outputs": [
    {
     "name": "stdout",
     "output_type": "stream",
     "text": [
      "Loaded 25000 pretrained word vectors\n"
     ]
    }
   ],
   "source": [
    "# 2 - Encode sentences with the BoV model above\n",
    "\n",
    "# TYPE CODE HERE\n",
    "w2v = Word2vec(os.path.join(PATH_TO_DATA, 'crawl-300d-200k.vec'), nmax=25000)\n",
    "s2v = BoV(w2v)\n",
    "\n",
    "idf = s2v.build_idf(sst_train_data)\n",
    "\n",
    "train_sentemb = s2v.encode(sst_train_data,idf)\n",
    "\n",
    "dev_sentemb = s2v.encode(sst_dev_data,idf)\n",
    "\n",
    "test_sentemb = s2v.encode(sst_test_data,idf)"
   ]
  },
  {
   "cell_type": "code",
   "execution_count": 13,
   "metadata": {},
   "outputs": [
    {
     "name": "stdout",
     "output_type": "stream",
     "text": [
      "(8544, 300)\n",
      "(1101, 300)\n",
      "(2210, 300)\n"
     ]
    },
    {
     "name": "stderr",
     "output_type": "stream",
     "text": [
      "/home/ayush/anaconda2/lib/python2.7/site-packages/sklearn/linear_model/logistic.py:459: FutureWarning: Default multi_class will be changed to 'auto' in 0.22. Specify the multi_class option to silence this warning.\n",
      "  \"this warning.\", FutureWarning)\n"
     ]
    },
    {
     "name": "stdout",
     "output_type": "stream",
     "text": [
      "['3' '1' '3' '3' '3' '3' '3' '3' '3' '1']\n",
      "The accuracy achieved by the Logistic Regression Classifier Model on Dev Set is:  0.407811080835604\n"
     ]
    }
   ],
   "source": [
    "# 3 - Learn Logistic Regression on top of sentence embeddings using scikit-learn\n",
    "#     (consider tuning the L2 regularization on the dev set)\n",
    "\n",
    "# TYPE CODE HERE\n",
    "\n",
    "from sklearn.linear_model import LogisticRegression\n",
    "from sklearn.preprocessing import MinMaxScaler\n",
    "from sklearn.metrics import accuracy_score, f1_score\n",
    "\n",
    "print train_sentemb.shape\n",
    "print dev_sentemb.shape\n",
    "print test_sentemb.shape\n",
    "\n",
    "min_max_scaler = MinMaxScaler()\n",
    "train_features = min_max_scaler.fit_transform(train_sentemb)\n",
    "dev_features = min_max_scaler.transform(dev_sentemb)\n",
    "test_features = min_max_scaler.transform(test_sentemb)\n",
    "\n",
    "\n",
    "#Training the classifier\n",
    "classifier = LogisticRegression(solver='lbfgs',max_iter=1000,penalty='l2')\n",
    "classifier = classifier.fit(train_features,sst_train_label)\n",
    "\n",
    "# Testing the classifier on Dev Data\n",
    "y_dev_pred = classifier.predict(dev_features)\n",
    "\n",
    "print y_dev_pred[0:10]\n",
    "\n",
    "#Compute Accuracy Score\n",
    "acc = accuracy_score(sst_dev_label,y_dev_pred,normalize=True)\n",
    "print 'The accuracy achieved by the Logistic Regression Classifier Model on Dev Set is: ', acc\n",
    "    \n",
    "#Compute F1 Score\n",
    "#f1score = f1_score(y_test, y_test_pred,average='weighted')\n",
    "#print 'The F1 Score achieved by the Logistic Rgeression Classifier Model is:', f1score"
   ]
  },
  {
   "cell_type": "code",
   "execution_count": 14,
   "metadata": {},
   "outputs": [],
   "source": [
    "# 4 - Produce 2210 predictions for the test set (in the same order). One line = one prediction (=0,1,2,3,4).\n",
    "#     Attach the output file \"logreg_bov_y_test_sst.txt\" to your deliverable.\n",
    "#     You will be evaluated on the results of the test set.\n",
    "\n",
    "# TYPE CODE HERE\n",
    "y_test_pred = classifier.predict(test_features)\n",
    "\n",
    "np.savetxt(\"logreg_bov_y_test_sst.txt\", y_test_pred,fmt='%s')"
   ]
  },
  {
   "cell_type": "code",
   "execution_count": 3,
   "metadata": {},
   "outputs": [
    {
     "ename": "ModuleNotFoundError",
     "evalue": "No module named 'xgboost'",
     "output_type": "error",
     "traceback": [
      "\u001b[0;31m---------------------------------------------------------------------------\u001b[0m",
      "\u001b[0;31mModuleNotFoundError\u001b[0m                       Traceback (most recent call last)",
      "\u001b[0;32m<ipython-input-3-e4d458cb9d1a>\u001b[0m in \u001b[0;36m<module>\u001b[0;34m()\u001b[0m\n\u001b[1;32m      4\u001b[0m \u001b[0;34m\u001b[0m\u001b[0m\n\u001b[1;32m      5\u001b[0m \u001b[0;31m# TYPE CODE HERE\u001b[0m\u001b[0;34m\u001b[0m\u001b[0;34m\u001b[0m\u001b[0;34m\u001b[0m\u001b[0m\n\u001b[0;32m----> 6\u001b[0;31m \u001b[0;32mfrom\u001b[0m \u001b[0mxgboost\u001b[0m \u001b[0;32mimport\u001b[0m \u001b[0mXGBClassifier\u001b[0m\u001b[0;34m\u001b[0m\u001b[0;34m\u001b[0m\u001b[0m\n\u001b[0m\u001b[1;32m      7\u001b[0m \u001b[0;34m\u001b[0m\u001b[0m\n\u001b[1;32m      8\u001b[0m \u001b[0mmodel\u001b[0m \u001b[0;34m=\u001b[0m \u001b[0mXGBClassifier\u001b[0m\u001b[0;34m(\u001b[0m\u001b[0;34m)\u001b[0m\u001b[0;34m\u001b[0m\u001b[0;34m\u001b[0m\u001b[0m\n",
      "\u001b[0;31mModuleNotFoundError\u001b[0m: No module named 'xgboost'"
     ]
    }
   ],
   "source": [
    "# BONUS!\n",
    "# 5 - Try to improve performance with another classifier\n",
    "#     Attach the output file \"XXX_bov_y_test_sst.txt\" to your deliverable (where XXX = the name of the classifier)\n",
    "\n",
    "# TYPE CODE HERE\n",
    "from xgboost import XGBClassifier\n",
    "\n",
    "model = XGBClassifier()\n",
    "model.fit(train_features, sst_train_label)\n",
    "\n",
    "y_dev_pred_values = model.predict(dev_features)\n",
    "\n",
    "# Compute Accuracy Score\n",
    "acc = accuracy_score(sst_dev_label,y_dev_pred_values,normalize=True)\n",
    "print 'The accuracy achieved by the Gradient Boosting Model from XgBoost on Dev Set is: ', acc\n",
    "\n",
    "y_test_pred = classifier.predict(test_features)\n",
    "print y_test_pred.shape\n",
    "\n",
    "np.savetxt(\"xgboost_gradientboosting_bov_y_test_sst.txt\", y_test_pred,fmt='%s')"
   ]
  },
  {
   "cell_type": "markdown",
   "metadata": {},
   "source": [
    "## 4) Sentence Classification with LSTM and Keras"
   ]
  },
  {
   "cell_type": "code",
   "execution_count": 15,
   "metadata": {},
   "outputs": [
    {
     "name": "stderr",
     "output_type": "stream",
     "text": [
      "Using TensorFlow backend.\n"
     ]
    }
   ],
   "source": [
    "import keras"
   ]
  },
  {
   "cell_type": "code",
   "execution_count": 16,
   "metadata": {},
   "outputs": [
    {
     "name": "stdout",
     "output_type": "stream",
     "text": [
      "8544\n",
      "1101\n",
      "8544\n",
      "1101\n",
      "2210\n",
      "1\n",
      "if you ve ever entertained the notion of doing what the title of this film implies what sex with strangers actually shows may put you off the idea forever \n",
      "\n"
     ]
    }
   ],
   "source": [
    "# 1 - Load train/dev/test sets of SST\n",
    "PATH_TO_DATA = \"./data\"\n",
    "\n",
    "# TYPE CODE HERE\n",
    "\n",
    "def organize_labeled_dataset(data):\n",
    "    \n",
    "    label = []\n",
    "    sentence = []\n",
    "    \n",
    "    for sent in data:\n",
    "        \n",
    "        s = sent.split(\" \")\n",
    "        s = [x for x in s if x]\n",
    "        \n",
    "        temp_label = s.pop(0)\n",
    "        \n",
    "        s = \" \".join(s)\n",
    "        \n",
    "        label.append(temp_label)\n",
    "        sentence.append(s)\n",
    "        \n",
    "    return sentence, label\n",
    "\n",
    "\n",
    "def organize_test_dataset(data):\n",
    "\n",
    "    sentence = []\n",
    "    \n",
    "    for sent in data:\n",
    "        \n",
    "        s = sent.split(\" \")\n",
    "        s = [x for x in s if x]\n",
    "        \n",
    "        s = \" \".join(s)\n",
    "        \n",
    "        sentence.append(s)\n",
    "        \n",
    "    return sentence\n",
    "        \n",
    "sst_train = []\n",
    "sst_train = [remPunct(line) for line in open(os.path.join(PATH_TO_DATA,'SST/stsa.fine.train'))]\n",
    "\n",
    "\n",
    "print len(sst_train)\n",
    "\n",
    "sst_dev = []\n",
    "sst_dev = [remPunct(sent) for sent in open(os.path.join(PATH_TO_DATA,'SST/stsa.fine.dev'))]\n",
    "\n",
    "print len(sst_dev)\n",
    "\n",
    "sst_test = []\n",
    "sst_test = [remPunct(sent) for sent in open(os.path.join(PATH_TO_DATA,'SST/stsa.fine.test.X'))]\n",
    "\n",
    "\n",
    "sst_train_data, sst_train_label = organize_labeled_dataset(sst_train)\n",
    "sst_dev_data, sst_dev_label = organize_labeled_dataset(sst_dev)\n",
    "sst_test_data = organize_test_dataset(sst_test)\n",
    "\n",
    "print len(sst_train_data)\n",
    "\n",
    "print len(sst_dev_data)\n",
    "\n",
    "print len(sst_test_data)\n",
    "\n",
    "print sst_dev_label[2]\n",
    "print sst_dev_data[2]"
   ]
  },
  {
   "cell_type": "code",
   "execution_count": 17,
   "metadata": {},
   "outputs": [
    {
     "name": "stdout",
     "output_type": "stream",
     "text": [
      "(8544, 30)\n",
      "(1101, 30)\n",
      "(2210, 30)\n"
     ]
    }
   ],
   "source": [
    "# 3 - Pad your sequences using keras.preprocessing.sequence.pad_sequences\n",
    "#     https://keras.io/preprocessing/sequence/\n",
    "\n",
    "# TYPE CODE HERE\n",
    "\n",
    "from keras.preprocessing.text import Tokenizer\n",
    "\n",
    "tokenizer = Tokenizer(num_words=50)\n",
    "tokenizer.fit_on_texts(sst_train_data)\n",
    "\n",
    "X_train = tokenizer.texts_to_sequences(sst_train_data)\n",
    "X_dev = tokenizer.texts_to_sequences(sst_dev_data)\n",
    "X_test = tokenizer.texts_to_sequences(sst_test_data)\n",
    "\n",
    "vocab_size = len(tokenizer.word_index) + 1  # Adding 1 because of reserved 0 index\n",
    "\n",
    "y_train = keras.utils.to_categorical(sst_train_label)\n",
    "y_dev = keras.utils.to_categorical(sst_dev_label)\n",
    "\n",
    "#print (sst_train_data[2])\n",
    "#print (X_train[2])\n",
    "\n",
    "#---------------------------------------------------------------\n",
    "\n",
    "from keras.preprocessing.sequence import pad_sequences\n",
    "\n",
    "max_len = 30\n",
    "\n",
    "X_train = pad_sequences(X_train, padding='post', maxlen=max_len)\n",
    "X_dev = pad_sequences(X_dev, padding='post', maxlen=max_len)\n",
    "X_test = pad_sequences(X_test, padding='post', maxlen=max_len)\n",
    "\n",
    "#print(X_train[0, :])\n",
    "\n",
    "print X_train.shape\n",
    "print X_dev.shape\n",
    "print X_test.shape"
   ]
  },
  {
   "cell_type": "code",
   "execution_count": 18,
   "metadata": {},
   "outputs": [
    {
     "name": "stderr",
     "output_type": "stream",
     "text": [
      "/home/ayush/anaconda2/lib/python2.7/site-packages/ipykernel_launcher.py:20: UserWarning: Update your `LSTM` call to the Keras 2 API: `LSTM(64, dropout=0.2, recurrent_dropout=0.2)`\n"
     ]
    }
   ],
   "source": [
    "# 4 - Design your encoder + classifier using keras.layers\n",
    "#     In Keras, Torch and other deep learning framework, we create a \"container\" which is the Sequential() module.\n",
    "#     Then we add components to this contained : the lookuptable, the LSTM, the classifier etc.\n",
    "#     All of these components are contained in the Sequential() and are trained together.\n",
    "\n",
    "\n",
    "# ADAPT CODE BELOW\n",
    "\n",
    "\n",
    "from keras.models import Sequential\n",
    "from keras.layers import Embedding, LSTM, Dense, Activation, GlobalMaxPooling1D, Conv1D\n",
    "\n",
    "embed_dim  = 50  # word embedding dimension\n",
    "nhid       = 64  # number of hidden units in the LSTM\n",
    "vocab_size = len(tokenizer.word_index) + 1  # size of the vocabulary\n",
    "n_classes  = 5\n",
    "\n",
    "model = Sequential()\n",
    "model.add(Embedding(vocab_size, embed_dim))\n",
    "model.add(LSTM(nhid, dropout_W=0.2, dropout_U=0.2))\n",
    "model.add(Dense(n_classes, activation='softmax'))"
   ]
  },
  {
   "cell_type": "code",
   "execution_count": 19,
   "metadata": {},
   "outputs": [
    {
     "name": "stdout",
     "output_type": "stream",
     "text": [
      "_________________________________________________________________\n",
      "Layer (type)                 Output Shape              Param #   \n",
      "=================================================================\n",
      "embedding_1 (Embedding)      (None, None, 50)          822500    \n",
      "_________________________________________________________________\n",
      "lstm_1 (LSTM)                (None, 64)                29440     \n",
      "_________________________________________________________________\n",
      "dense_1 (Dense)              (None, 5)                 325       \n",
      "=================================================================\n",
      "Total params: 852,265\n",
      "Trainable params: 852,265\n",
      "Non-trainable params: 0\n",
      "_________________________________________________________________\n",
      "None\n"
     ]
    }
   ],
   "source": [
    "# 5 - Define your loss/optimizer/metrics\n",
    "\n",
    "# MODIFY CODE BELOW\n",
    "\n",
    "loss_classif     =  'categorical_crossentropy' # find the right loss for multi-class classification\n",
    "optimizer        =  'rmsprop' # find the right optimizer\n",
    "metrics_classif  =  ['accuracy']\n",
    "\n",
    "# Observe how easy (but blackboxed) this is in Keras\n",
    "model.compile(loss=loss_classif,\n",
    "              optimizer=optimizer,\n",
    "              metrics=metrics_classif)\n",
    "print(model.summary())"
   ]
  },
  {
   "cell_type": "code",
   "execution_count": 20,
   "metadata": {},
   "outputs": [
    {
     "name": "stdout",
     "output_type": "stream",
     "text": [
      "Train on 8544 samples, validate on 1101 samples\n",
      "Epoch 1/6\n",
      "8544/8544 [==============================] - 5s 612us/step - loss: 1.5726 - acc: 0.2719 - val_loss: 1.5777 - val_acc: 0.2534\n",
      "Epoch 2/6\n",
      "8544/8544 [==============================] - 4s 445us/step - loss: 1.5704 - acc: 0.2626 - val_loss: 1.5721 - val_acc: 0.2534\n",
      "Epoch 3/6\n",
      "8544/8544 [==============================] - 4s 444us/step - loss: 1.5702 - acc: 0.2674 - val_loss: 1.5727 - val_acc: 0.2534\n",
      "Epoch 4/6\n",
      "8544/8544 [==============================] - 4s 441us/step - loss: 1.5698 - acc: 0.2684 - val_loss: 1.5777 - val_acc: 0.2534\n",
      "Epoch 5/6\n",
      "8544/8544 [==============================] - 4s 444us/step - loss: 1.5688 - acc: 0.2752 - val_loss: 1.5717 - val_acc: 0.2625\n",
      "Epoch 6/6\n",
      "8544/8544 [==============================] - 4s 448us/step - loss: 1.5692 - acc: 0.2666 - val_loss: 1.5721 - val_acc: 0.2607\n"
     ]
    },
    {
     "data": {
      "image/png": "[encoded data removed]",
      "text/plain": [
       "<Figure size 432x288 with 1 Axes>"
      ]
     },
     "metadata": {
      "needs_background": "light"
     },
     "output_type": "display_data"
    },
    {
     "data": {
      "image/png": "[encoded data removed]",
      "text/plain": [
       "<Figure size 432x288 with 1 Axes>"
      ]
     },
     "metadata": {
      "needs_background": "light"
     },
     "output_type": "display_data"
    }
   ],
   "source": [
    "# 6 - Train your model and find the best hyperparameters for your dev set\n",
    "#     you will be evaluated on the quality of your predictions on the test set\n",
    "\n",
    "# ADAPT CODE BELOW\n",
    "bs = 64\n",
    "n_epochs = 6\n",
    "\n",
    "history = model.fit(X_train, y_train, batch_size=bs, epochs=n_epochs, validation_data=(X_dev, y_dev))\n",
    "\n",
    "plt.plot(history.history['acc'])\n",
    "plt.plot(history.history['val_acc'])\n",
    "plt.title('model accuracy')\n",
    "plt.ylabel('accuracy')\n",
    "plt.xlabel('epoch')\n",
    "plt.legend(['train', 'val'], loc='upper left')\n",
    "plt.show()\n",
    "\n",
    "plt.plot(history.history['loss'])\n",
    "plt.plot(history.history['val_loss'])\n",
    "plt.title('model loss')\n",
    "plt.ylabel('loss')\n",
    "plt.xlabel('epoch')\n",
    "plt.legend(['train', 'test'], loc='upper left')\n",
    "plt.show()"
   ]
  },
  {
   "cell_type": "code",
   "execution_count": 21,
   "metadata": {},
   "outputs": [
    {
     "name": "stdout",
     "output_type": "stream",
     "text": [
      "(2210, 5)\n"
     ]
    }
   ],
   "source": [
    "# 7 - Generate your predictions on the test set using model.predict(x_test)\n",
    "#     https://keras.io/models/model/\n",
    "#     Log your predictions in a file (one line = one integer: 0,1,2,3,4)\n",
    "#     Attach the output file \"logreg_lstm_y_test_sst.txt\" to your deliverable.\n",
    "\n",
    "# TYPE CODE HERE\n",
    "y_test_pred = model.predict(X_test)\n",
    "\n",
    "print y_test_pred.shape\n",
    "\n",
    "#print y_test_pred\n",
    "\n",
    "y_test_pred = np.argmax(y_test_pred, axis=1)\n",
    "\n",
    "#print y_test_pred.shape\n",
    "\n",
    "np.savetxt(\"logreg_lstm_y_test_sst.txt\", y_test_pred,fmt='%s')"
   ]
  },
  {
   "cell_type": "markdown",
   "metadata": {},
   "source": [
    "## Innovate"
   ]
  },
  {
   "cell_type": "code",
   "execution_count": 22,
   "metadata": {},
   "outputs": [
    {
     "name": "stdout",
     "output_type": "stream",
     "text": [
      "_________________________________________________________________\n",
      "Layer (type)                 Output Shape              Param #   \n",
      "=================================================================\n",
      "embedding_2 (Embedding)      (None, 30, 50)            822500    \n",
      "_________________________________________________________________\n",
      "conv1d_1 (Conv1D)            (None, 26, 128)           32128     \n",
      "_________________________________________________________________\n",
      "global_max_pooling1d_1 (Glob (None, 128)               0         \n",
      "_________________________________________________________________\n",
      "dense_2 (Dense)              (None, 10)                1290      \n",
      "_________________________________________________________________\n",
      "dense_3 (Dense)              (None, 5)                 55        \n",
      "=================================================================\n",
      "Total params: 855,973\n",
      "Trainable params: 855,973\n",
      "Non-trainable params: 0\n",
      "_________________________________________________________________\n"
     ]
    }
   ],
   "source": [
    "# 8 - Open question: find a model that is better on your dev set\n",
    "#     (e.g: use a 1D ConvNet, use a better classifier, pretrain your lookup tables ..)\n",
    "#     you will get point if the results on the test set are better: be careful of not overfitting your dev set too much..\n",
    "#     Attach the output file \"XXX_XXX_y_test_sst.txt\" to your deliverable.\n",
    "\n",
    "# TYPE CODE HERE\n",
    "\n",
    "\n",
    "#Using 1D Convnet\n",
    "new_model = Sequential()\n",
    "new_model.add(Embedding(vocab_size, embed_dim, input_length=max_len))\n",
    "new_model.add(Conv1D(128, 5, activation='relu'))\n",
    "new_model.add(GlobalMaxPooling1D())\n",
    "new_model.add(Dense(10, activation='relu'))\n",
    "new_model.add(Dense(n_classes, activation='softmax'))\n",
    "\n",
    "new_model.compile(optimizer='rmsprop',\n",
    "              loss='categorical_crossentropy',\n",
    "              metrics=['accuracy'])\n",
    "new_model.summary()"
   ]
  },
  {
   "cell_type": "code",
   "execution_count": 23,
   "metadata": {},
   "outputs": [
    {
     "name": "stdout",
     "output_type": "stream",
     "text": [
      "Train on 8544 samples, validate on 1101 samples\n",
      "Epoch 1/6\n",
      "8544/8544 [==============================] - 6s 656us/step - loss: 1.5654 - acc: 0.2647 - val_loss: 1.5594 - val_acc: 0.2961\n",
      "Epoch 2/6\n",
      "8544/8544 [==============================] - 0s 45us/step - loss: 1.5397 - acc: 0.3068 - val_loss: 1.5375 - val_acc: 0.3061\n",
      "Epoch 3/6\n",
      "8544/8544 [==============================] - 0s 48us/step - loss: 1.5143 - acc: 0.3103 - val_loss: 1.5292 - val_acc: 0.3143\n",
      "Epoch 4/6\n",
      "8544/8544 [==============================] - 0s 51us/step - loss: 1.4922 - acc: 0.3268 - val_loss: 1.5180 - val_acc: 0.3206\n",
      "Epoch 5/6\n",
      "8544/8544 [==============================] - 0s 44us/step - loss: 1.4734 - acc: 0.3435 - val_loss: 1.5223 - val_acc: 0.3134\n",
      "Epoch 6/6\n",
      "8544/8544 [==============================] - 0s 46us/step - loss: 1.4538 - acc: 0.3577 - val_loss: 1.5207 - val_acc: 0.2979\n"
     ]
    },
    {
     "data": {
      "image/png": "[encoded data removed]",
      "text/plain": [
       "<Figure size 432x288 with 1 Axes>"
      ]
     },
     "metadata": {
      "needs_background": "light"
     },
     "output_type": "display_data"
    },
    {
     "data": {
      "image/png": "[encoded data removed]",
      "text/plain": [
       "<Figure size 432x288 with 1 Axes>"
      ]
     },
     "metadata": {
      "needs_background": "light"
     },
     "output_type": "display_data"
    }
   ],
   "source": [
    "history = model.fit(X_train, y_train, batch_size=bs, epochs=n_epochs, validation_data=(X_dev, y_dev))\n",
    "\n",
    "plt.plot(history.history['acc'])\n",
    "plt.plot(history.history['val_acc'])\n",
    "plt.title('model accuracy')\n",
    "plt.ylabel('accuracy')\n",
    "plt.xlabel('epoch')\n",
    "plt.legend(['train', 'val'], loc='upper left')\n",
    "plt.show()\n",
    "\n",
    "plt.plot(history.history['loss'])\n",
    "plt.plot(history.history['val_loss'])\n",
    "plt.title('model loss')\n",
    "plt.ylabel('loss')\n",
    "plt.xlabel('epoch')\n",
    "plt.legend(['train', 'test'], loc='upper left')\n",
    "plt.show()\n",
    "\n",
    "\n",
    "\n",
    "\n",
    "y_test_pred = model.predict(X_test)\n",
    "print y_test_pred.shape\n",
    "#print y_test_pred\n",
    "y_test_pred = np.argmax(y_test_pred, axis=1)\n",
    "#print y_test_pred.shape\n",
    "np.savetxt(\"logreg_lstm_y_test_sst.txt\", y_test_pred,fmt='%s')"
   ]
  },
  {
   "cell_type": "code",
   "execution_count": null,
   "metadata": {},
   "outputs": [],
   "source": []
  }
 ],
 "metadata": {
  "kernelspec": {
   "display_name": "Python 3",
   "language": "python",
   "name": "python3"
  },
  "language_info": {
   "codemirror_mode": {
    "name": "ipython",
    "version": 3
   },
   "file_extension": ".py",
   "mimetype": "text/x-python",
   "name": "python",
   "nbconvert_exporter": "python",
   "pygments_lexer": "ipython3",
   "version": "3.6.6"
  }
 },
 "nbformat": 4,
 "nbformat_minor": 2
}
