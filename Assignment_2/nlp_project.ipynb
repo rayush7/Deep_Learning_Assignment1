{
 "cells": [
  {
   "cell_type": "markdown",
   "metadata": {},
   "source": [
    "# Deep Learning for NLP - Project"
   ]
  },
  {
   "cell_type": "markdown",
   "metadata": {},
   "source": [
    "RULES:\n",
    "\n",
    "* Do not create any additional cell\n",
    "\n",
    "* Fill in the blanks\n",
    "\n",
    "* All cells should be runnable (modulo trivial compatibility bugs that we'd fix)\n",
    "\n",
    "* 4 / 20 points will be allocated to the clarity of your code\n",
    "\n",
    "* Efficient code will have a bonus\n",
    "\n",
    "DELIVERABLE:\n",
    "\n",
    "* this notebook\n",
    "* the predictions of the SST test set\n",
    "\n",
    "DO NOT INCLUDE THE DATASETS IN THE DELIVERABLE.."
   ]
  },
  {
   "cell_type": "code",
   "execution_count": 67,
   "metadata": {},
   "outputs": [],
   "source": [
    "import io\n",
    "import os\n",
    "import numpy as np\n",
    "import scipy"
   ]
  },
  {
   "cell_type": "code",
   "execution_count": 68,
   "metadata": {},
   "outputs": [],
   "source": [
    "PATH_TO_DATA = \"./data\""
   ]
  },
  {
   "cell_type": "markdown",
   "metadata": {},
   "source": [
    "# 1) Monolingual (English) word embeddings "
   ]
  },
  {
   "cell_type": "code",
   "execution_count": 69,
   "metadata": {},
   "outputs": [],
   "source": [
    "class Word2vec():\n",
    "    def __init__(self, fname, nmax=100000):\n",
    "        self.load_wordvec(fname, nmax)\n",
    "        self.word2id = dict.fromkeys(self.word2vec.keys())\n",
    "        self.id2word = {v: k for k, v in self.word2id.items()}\n",
    "        self.embeddings = np.array(self.word2vec.values())\n",
    "    \n",
    "    def load_wordvec(self, fname, nmax):\n",
    "        self.word2vec = {}\n",
    "        with io.open(fname, encoding='utf-8') as f:\n",
    "            next(f)\n",
    "            for i, line in enumerate(f):\n",
    "                word, vec = line.split(' ', 1)\n",
    "                self.word2vec[word] = np.fromstring(vec, sep=' ')\n",
    "                if i == (nmax - 1):\n",
    "                    break\n",
    "        print('Loaded %s pretrained word vectors' % (len(self.word2vec)))\n",
    "\n",
    "    def most_similar(self, w, K=5):\n",
    "        # K most similar words: self.score  -  np.argsort \n",
    "        cosine_sim_list = []\n",
    "        sim_words = []\n",
    "        count = 0\n",
    "        \n",
    "        for key in self.word2vec.keys():\n",
    "            self.word2id[key]=count\n",
    "            count=count+1\n",
    "            \n",
    "        self.id2word = {v: k for k, v in self.word2id.items()}\n",
    "        \n",
    "        #Computing Scores\n",
    "        for word in self.word2vec.keys():\n",
    "            cosine_sim_list.append(self.score(w,word))\n",
    "        \n",
    "        #Sorting and extracting top k nearest neighbors\n",
    "        cosine_sim_mat = np.array(cosine_sim_list)\n",
    "        sorted_id = np.argsort(cosine_sim_mat)\n",
    "        sorted_id = sorted_id[::-1][0:K]\n",
    "        \n",
    "        #Get Names from IDs\n",
    "        for id in sorted_id:\n",
    "            sim_words.append(self.id2word[id])\n",
    "            \n",
    "        return sim_words\n",
    "        \n",
    "\n",
    "    def score(self, w1, w2):\n",
    "        # cosine similarity: np.dot  -  np.linalg.norm\n",
    "        \n",
    "        w1_embedding = self.word2vec[w1]\n",
    "        w2_embedding = self.word2vec[w2]\n",
    "              \n",
    "        cosine_similarity_score = np.dot(w1_embedding, w2_embedding) / (np.linalg.norm(w1_embedding) * np.linalg.norm(w2_embedding))\n",
    "        return cosine_similarity_score"
   ]
  },
  {
   "cell_type": "code",
   "execution_count": 70,
   "metadata": {},
   "outputs": [
    {
     "name": "stdout",
     "output_type": "stream",
     "text": [
      "Loaded 100000 pretrained word vectors\n",
      "cat dog 0.671683666279249\n",
      "dog pet 0.6842064029669219\n",
      "dogs cats 0.7074389328052403\n",
      "paris france 0.7775108541288558\n",
      "germany berlin 0.7420295235998394\n",
      "['cat', 'cats', 'kitty', 'kitten', 'feline']\n",
      "['dog', 'dogs', 'puppy', 'Dog', 'doggie']\n",
      "['dogs', 'dog', 'pooches', 'Dogs', 'doggies']\n",
      "['paris', 'france', 'Paris', 'london', 'berlin']\n",
      "['germany', 'austria', 'europe', 'german', 'berlin']\n"
     ]
    }
   ],
   "source": [
    "w2v = Word2vec(os.path.join(PATH_TO_DATA, 'crawl-300d-200k.vec'), nmax=100000) \n",
    "\n",
    "# You will be evaluated on the output of the following:\n",
    "for w1, w2 in zip(('cat', 'dog', 'dogs', 'paris', 'germany'), ('dog', 'pet', 'cats', 'france', 'berlin')):\n",
    "    print(w1, w2, w2v.score(w1, w2))\n",
    "for w1 in ['cat', 'dog', 'dogs', 'paris', 'germany']:\n",
    "    print(w2v.most_similar(w1))\n",
    "    \n",
    "#Note: After discussing with one of the course TA, I changed nmax from 25000 to 100000 to incorporate words \n",
    "#like france, germany."
   ]
  },
  {
   "cell_type": "code",
   "execution_count": 71,
   "metadata": {},
   "outputs": [],
   "source": [
    "class BoV():\n",
    "    def __init__(self, w2v):\n",
    "        self.w2v = w2v\n",
    "    \n",
    "    def encode(self, sentences, idf=False):\n",
    "        # takes a list of sentences, outputs a numpy array of sentence embeddings\n",
    "        # see TP1 for help\n",
    "        sentemb = []\n",
    "        idf_dic = idf\n",
    "        for sent in sentences:\n",
    "            if idf is False:\n",
    "                # mean of word vectors\n",
    "                list_embeddings = [self.w2v.word2vec[w] for w in sent if w in w2v.word2vec]\n",
    "                if len(list_embeddings)==0: #if any word in the sentence is in our lookup table\n",
    "                    sentemb.append(np.zeros(list(self.w2v.word2vec.values())[0].shape))\n",
    "                else:\n",
    "                    sentemb.append(np.mean(list_embeddings, axis=0))\n",
    "            else:\n",
    "                # idf-weighted mean of word vectors\n",
    "                list_embeddings = [idf_dic[w]*self.w2v.word2vec[w] for w in sent if w in w2v.word2vec]\n",
    "                if len(list_embeddings)==0: #if any word in the sentence is in our lookup table\n",
    "                    sentemb.append(np.zeros(list(self.w2v.word2vec.values())[0].shape))\n",
    "                else:\n",
    "                    sentemb.append(np.mean(list_embeddings, axis=0))\n",
    "        return np.vstack(sentemb)\n",
    "\n",
    "    def most_similar(self, s, sentences, idf=False, K=5):\n",
    "        # get most similar sentences and **print** them\n",
    "        #keys = self.encode(sentences, idf)\n",
    "        #query = self.encode([s], idf)\n",
    "        list_score = [self.score(s,key_sent,idf) for key_sent in sentences]\n",
    "        index_best_sent = (np.argsort(list_score)[::-1][:K])\n",
    "        all_sent = []\n",
    "        print('Top-%s Nearest Neighbours of the sentence \\n\"%s\"\\n\\n' % (K, ' '.join(s)))\n",
    "        if max(list_score)>0:\n",
    "            for i,ind_best in enumerate(index_best_sent):\n",
    "                print('%s) %s' % (i + 1, ' '.join(sentences[ind_best])))\n",
    "                all_sent.append(sentences[ind_best])\n",
    "        else: #empty sentence or sentence with unknown words\n",
    "            print('The input sentence does not contains words that are present in the loaded embedding')\n",
    "        return all_sent\n",
    "\n",
    "    def score(self, s1, s2, idf=False):\n",
    "        # cosine similarity: use   np.dot  and  np.linalg.norm\n",
    "        emb2 = self.encode([s2], idf)\n",
    "        emb1 = self.encode([s1], idf)\n",
    "        if ((np.linalg.norm(emb1)!=0) and ((np.linalg.norm(emb2)!=0))):\n",
    "            return emb1.dot(emb2.T)/(np.linalg.norm(emb1)*np.linalg.norm(emb2))\n",
    "        else: #if an embedding as a zero vector\n",
    "            return 0\n",
    "                                           \n",
    "    def build_idf(self, sentences):\n",
    "        # build the idf dictionary: associate each word to its idf value\n",
    "        idf = {}\n",
    "        for sent in sentences:\n",
    "            for w in set(sent):\n",
    "                idf[w] = idf.get(w, 0) + 1        \n",
    "        for w in idf:\n",
    "            idf[w] = max(1, np.log10(len(sentences) / (idf[w])))\n",
    "        return idf"
   ]
  },
  {
   "cell_type": "code",
   "execution_count": 72,
   "metadata": {},
   "outputs": [
    {
     "name": "stdout",
     "output_type": "stream",
     "text": [
      "Loaded 5000 pretrained word vectors\n",
      "Top-5 Nearest Neighbours of the sentence \n",
      "\"1 smiling african american boy .\"\n",
      "\n",
      "\n",
      "1) 1 smiling african american boy .\n",
      "2) blond boy waterskiing .\n",
      "3) a boy jumps .\n",
      "4) a boy jumps .\n",
      "5) a boy smiles underwater .\n",
      "[[0.60894451]]\n",
      "\n",
      "----\n",
      "\n",
      "Top-5 Nearest Neighbours of the sentence \n",
      "\"1 smiling african american boy .\"\n",
      "\n",
      "\n",
      "1) 1 smiling african american boy .\n",
      "2) 5 women and 1 man are smiling for the camera .\n",
      "3) a man rides a 4 wheeler in the desert .\n",
      "4) 3 males and 1 woman enjoying a sporting event\n",
      "5) a man in black is juggling 3 flamed bottles .\n",
      "[[0.59633357]]\n"
     ]
    }
   ],
   "source": [
    "w2v = Word2vec(os.path.join(PATH_TO_DATA, 'crawl-300d-200k.vec'), nmax=5000)\n",
    "s2v = BoV(w2v)\n",
    "\n",
    "# Load sentences in \"PATH_TO_DATA/sentences.txt\"\n",
    "\n",
    "with open(os.path.join(PATH_TO_DATA,'sentences.txt')) as f:\n",
    "    sentences = f.readlines()\n",
    "\n",
    "sentences = [sent.split() for sent in sentences]\n",
    "# Build idf scores for each word\n",
    "idf = {} if False else s2v.build_idf(sentences)\n",
    "\n",
    "# You will be evaluated on the output of the following:\n",
    "s2v.most_similar('' if not sentences else sentences[10], sentences)  # BoV-mean\n",
    "print(s2v.score('' if not sentences else sentences[7], '' if not sentences else sentences[13]))\n",
    "print('\\n----\\n')\n",
    "\n",
    "s2v.most_similar('' if not sentences else sentences[10], sentences, idf)  # BoV-idf\n",
    "print(s2v.score('' if not sentences else sentences[7], '' if not sentences else sentences[13], idf))"
   ]
  },
  {
   "cell_type": "markdown",
   "metadata": {},
   "source": [
    "# 2) Multilingual (English-French) word embeddings"
   ]
  },
  {
   "cell_type": "markdown",
   "metadata": {},
   "source": [
    "Let's consider a bilingual dictionary of size V_a (e.g French-English).\n",
    "\n",
    "Let's define **X** and **Y** the **French** and **English** matrices.\n",
    "\n",
    "They contain the embeddings associated to the words in the bilingual dictionary.\n",
    "\n",
    "We want to find a **mapping W** that will project the source word space (e.g French) to the target word space (e.g English).\n",
    "\n",
    "Procrustes : **W\\* = argmin || W.X - Y ||  s.t  W^T.W = Id**\n",
    "has a closed form solution:\n",
    "**W = U.V^T  where  U.Sig.V^T = SVD(Y.X^T)**\n",
    "\n",
    "In what follows, you are asked to: "
   ]
  },
  {
   "cell_type": "code",
   "execution_count": 73,
   "metadata": {},
   "outputs": [
    {
     "name": "stdout",
     "output_type": "stream",
     "text": [
      "Loading the English Word Embeddings\n",
      "Loaded 50000 pretrained word vectors\n",
      "Loading the French Word Embeddings\n",
      "Loaded 50000 pretrained word vectors\n"
     ]
    }
   ],
   "source": [
    "# 1 - Download and load 50k first vectors of\n",
    "#     https://s3-us-west-1.amazonaws.com/fasttext-vectors/wiki.en.vec\n",
    "#     https://s3-us-west-1.amazonaws.com/fasttext-vectors/wiki.fr.vec\n",
    "\n",
    "# TYPE CODE HERE\n",
    "print(\"Loading the English Word Embeddings\")\n",
    "word2vec_en = Word2vec(os.path.join(PATH_TO_DATA, 'wiki.en.vec'), nmax=50000)\n",
    "print(\"Loading the French Word Embeddings\")\n",
    "word2vec_fr = Word2vec(os.path.join(PATH_TO_DATA, 'wiki.fr.vec'), nmax=50000)\n",
    "\n",
    "# Patching id2word\n",
    "for i, key in enumerate(word2vec_fr.word2vec.keys()):\n",
    "    word2vec_fr.word2id[key]=i    \n",
    "word2vec_fr.id2word = {v: k for k, v in word2vec_fr.word2id.items()}\n",
    "\n",
    "for i, key in enumerate(word2vec_en.word2vec.keys()):\n",
    "    word2vec_en.word2id[key]=i    \n",
    "word2vec_en.id2word = {v: k for k, v in word2vec_en.word2id.items()}"
   ]
  },
  {
   "cell_type": "code",
   "execution_count": 74,
   "metadata": {},
   "outputs": [
    {
     "name": "stdout",
     "output_type": "stream",
     "text": [
      "Number of words in the Shared Vocabulary 18970\n",
      "X shape :  (300, 18970)\n",
      "Y shape :  (300, 18970)\n"
     ]
    }
   ],
   "source": [
    "# 2 - Get words that appear in both vocabs (= identical character strings)\n",
    "#     Use it to create the matrix X and Y (of aligned embeddings for these words)\n",
    "\n",
    "shared_words = []\n",
    "for word in word2vec_en.word2vec:\n",
    "    if word in word2vec_fr.word2vec:\n",
    "        shared_words.append(word)\n",
    "\n",
    "print(\"Number of words in the Shared Vocabulary\", len(shared_words))\n",
    "\n",
    "X = []\n",
    "Y = []\n",
    "for word in shared_words:\n",
    "    X.append(word2vec_en.word2vec[word])\n",
    "    Y.append(word2vec_fr.word2vec[word])\n",
    "    \n",
    "X = np.array(X).T\n",
    "Y = np.array(Y).T\n",
    "\n",
    "print(\"X shape : \", X.shape)\n",
    "print(\"Y shape : \", X.shape)"
   ]
  },
  {
   "cell_type": "code",
   "execution_count": 76,
   "metadata": {},
   "outputs": [
    {
     "name": "stdout",
     "output_type": "stream",
     "text": [
      "U shape (300, 300)\n",
      "W shape (300, 300)\n",
      "word2vec_fr_aligned_to_en space shape (50000, 300)\n"
     ]
    }
   ],
   "source": [
    "# 3 - Solve the Procrustes using the scipy package and: scipy.linalg.svd() and get the optimal W\n",
    "#     Now W*French_vector is in the same space as English_vector\n",
    "\n",
    "from scipy import linalg\n",
    "U, S, V = linalg.svd(np.dot(Y, X.T))\n",
    "W = np.dot(U, V)\n",
    "word2vec_fr_aligned_to_en = np.dot(list(word2vec_fr.word2vec.values()), W)\n",
    "\n",
    "id2word_fr_aligned_to_en = dict()\n",
    "id2word_fr_list_aligned_to_en = list(word2vec_fr.word2vec)\n",
    "\n",
    "for id_word in range(len(word2vec_fr_aligned_to_en)):\n",
    "    id2word_fr_aligned_to_en[id2word_fr_list_aligned_to_en[id_word]] = word2vec_fr_aligned_to_en[id_word]\n",
    "\n",
    "print(\"U shape\", U.shape)\n",
    "print(\"W shape\", W.shape)\n",
    "print(\"word2vec_fr_aligned_to_en space shape\", word2vec_fr_aligned_to_en.shape)"
   ]
  },
  {
   "cell_type": "code",
   "execution_count": 77,
   "metadata": {},
   "outputs": [
    {
     "name": "stdout",
     "output_type": "stream",
     "text": [
      "\n",
      "Translating French Into English\n",
      "\n",
      "oiseau : ['bird', 'birds', 'flightless', 'owl', 'passerine']\n",
      "chat : ['cat', 'rabbit', 'hamster', 'feline', 'poodle']\n",
      "souris : ['mouse', 'mice', 'rats', 'rodents', 'raccoons']\n",
      "voiture : ['car', 'cars', 'limousine', 'suv', 'roadster']\n",
      "vacances : ['vacation', 'vacations', 'holiday', 'holidays', 'honeymoon']\n",
      "\n",
      " Translating English Into French \n",
      "\n",
      "actress : ['actrice', 'comédienne', 'actrices', 'réalisatrice', 'actress']\n",
      "phone : ['téléphone', 'téléphones', 'téléphonie', 'téléphonique', 'phone']\n",
      "elevator : ['ascenseur', 'ascenseurs', 'cabine', 'hangar', 'escaliers']\n",
      "king : ['roi', 'king', 'rois', 'reine', 'trône']\n",
      "kitchen : ['cuisines', 'cuisine', 'room', 'kitchen', 'cuisiner']\n"
     ]
    }
   ],
   "source": [
    "# 4 - After alignment with W, give examples of English nearest neighbors of some French words (and vice versa)\n",
    "#     You will be evaluated on that part and the code above\n",
    "\n",
    "def score(word_vec, word_vec_candidate):\n",
    "    return np.dot(word_vec, word_vec_candidate)/(np.linalg.norm(word_vec)*np.linalg.norm(word_vec_candidate))\n",
    "\n",
    "def translate_fr2en(word_to_translate, K = 5):\n",
    "    if word_to_translate not in id2word_fr_aligned_to_en:\n",
    "        raise ValueError(\"Word not in dic\")\n",
    "    \n",
    "    # Get scores\n",
    "    scores = {}\n",
    "    word_vec = id2word_fr_aligned_to_en[word_to_translate]\n",
    "    for word in word2vec_en.word2vec:\n",
    "        word_vec_candidate = word2vec_en.word2vec[word]\n",
    "        scores[word] = score(word_vec, word_vec_candidate)\n",
    "    return sorted(scores, key=scores.get)[::-1][0:K]\n",
    "\n",
    "print('\\nTranslating French Into English\\n')\n",
    "\n",
    "fr = [\"oiseau\", \"chat\", \"souris\", \"voiture\", \"vacances\"]\n",
    "for word in fr:\n",
    "    print(word, \":\", translate_fr2en(word))\n",
    "\n",
    "        \n",
    "def translate_en2fr(word_to_translate, K = 5):\n",
    "    if word_to_translate not in word2vec_en.word2vec:\n",
    "        raise ValueError(\"Word not in dic\")\n",
    "    \n",
    "    # Get scores\n",
    "    scores = {}\n",
    "    word_vec = word2vec_en.word2vec[word_to_translate]\n",
    "    for word in id2word_fr_aligned_to_en:\n",
    "        word_vec_candidate = np.array(id2word_fr_aligned_to_en[word])\n",
    "        scores[word] = score(word_vec, word_vec_candidate)\n",
    "    return sorted(scores, key=scores.get)[::-1][0:K]\n",
    "\n",
    "print(\"\\n Translating English Into French \\n\")\n",
    "\n",
    "en = [\"actress\", \"phone\", \"elevator\", \"king\", \"kitchen\"]\n",
    "for word in en:\n",
    "    print(word, \":\", translate_en2fr(word))"
   ]
  },
  {
   "cell_type": "markdown",
   "metadata": {},
   "source": [
    "If you want to dive deeper on this subject: https://github.com/facebookresearch/MUSE"
   ]
  },
  {
   "cell_type": "markdown",
   "metadata": {},
   "source": [
    "# 3) Sentence classification with BoV and scikit-learn"
   ]
  },
  {
   "cell_type": "code",
   "execution_count": 79,
   "metadata": {},
   "outputs": [],
   "source": [
    "# 1 - Load train/dev/test of Stanford Sentiment TreeBank (SST)\n",
    "#     (https://nlp.stanford.edu/~socherr/EMNLP2013_RNTN.pdf)\n",
    "\n",
    "# TYPE CODE HERE\n",
    "def read_training_data(file_path):\n",
    "    #This function allows to read the SST training file\n",
    "    with open(file_path,'r') as f:\n",
    "        lines = f.readlines()\n",
    "    y_train= [int(line[0]) for line in lines] \n",
    "    x_train= [line[2:].split() for line in lines]\n",
    "    return x_train,y_train\n",
    "\n",
    "def read_test_data(file_path):\n",
    "    #This function allows to read the SST test file\n",
    "    with open(file_path,'r') as f:\n",
    "        lines = f.readlines()\n",
    "    x_test = [line.split() for line in lines]\n",
    "    return x_test\n",
    "\n",
    "sst_train_data, sst_train_label = read_training_data(os.path.join(PATH_TO_DATA,'SST','stsa.fine.train'))\n",
    "sst_dev_data, sst_dev_label = read_training_data(os.path.join(PATH_TO_DATA,'SST','stsa.fine.dev'))\n",
    "sst_test_data = read_test_data(os.path.join(PATH_TO_DATA,'SST','stsa.fine.test.X'))\n",
    "\n",
    "#print(len(sst_train_data))\n",
    "#print(len(sst_dev_data))\n",
    "#print(len(sst_test_data))"
   ]
  },
  {
   "cell_type": "code",
   "execution_count": 80,
   "metadata": {},
   "outputs": [
    {
     "name": "stdout",
     "output_type": "stream",
     "text": [
      "Loaded 25000 pretrained word vectors\n"
     ]
    }
   ],
   "source": [
    "# 2 - Encode sentences with the BoV model above\n",
    "\n",
    "# TYPE CODE HERE\n",
    "w2v = Word2vec(os.path.join(PATH_TO_DATA, 'crawl-300d-200k.vec'), nmax=25000)\n",
    "s2v = BoV(w2v)\n",
    "\n",
    "idf = {} if False else s2v.build_idf(sst_train_data+sst_dev_data+sst_test_data)\n",
    "\n",
    "train_sentemb = s2v.encode(sst_train_data)\n",
    "train_sentemb_idf = s2v.encode(sst_train_data,idf)\n",
    "\n",
    "dev_sentemb = s2v.encode(sst_dev_data)\n",
    "dev_sentemb_idf = s2v.encode(sst_dev_data,idf)\n",
    "\n",
    "test_sentemb = s2v.encode(sst_test_data)\n",
    "test_sentemb_idf = s2v.encode(sst_test_data,idf)"
   ]
  },
  {
   "cell_type": "code",
   "execution_count": 81,
   "metadata": {},
   "outputs": [
    {
     "name": "stdout",
     "output_type": "stream",
     "text": [
      "The accuracy achieved by the Logistic Regression Classifier Model (without IDF features) on Train Set is:  0.4774110486891386\n",
      "The accuracy achieved by the Logistic Regression Classifier Model (without IDF features) on Dev Set is:  0.4069028156221617\n",
      "The accuracy achieved by the Logistic Regression Classifier Model (with IDF features) on Train Set is:  0.4637172284644195\n",
      "The accuracy achieved by the Logistic Regression Classifier Model (with IDF features) on Dev Set is:  0.3941871026339691\n"
     ]
    }
   ],
   "source": [
    "# 3 - Learn Logistic Regression on top of sentence embeddings using scikit-learn\n",
    "#     (consider tuning the L2 regularization on the dev set)\n",
    "\n",
    "# TYPE CODE HERE\n",
    "from sklearn.linear_model import LogisticRegression\n",
    "from sklearn.preprocessing import MinMaxScaler\n",
    "from sklearn.metrics import accuracy_score\n",
    "\n",
    "#print(train_sentemb.shape)\n",
    "#print(dev_sentemb.shape)\n",
    "#print(test_sentemb.shape)\n",
    "\n",
    "min_max_scaler = MinMaxScaler()\n",
    "train_features = min_max_scaler.fit_transform(train_sentemb)\n",
    "dev_features = min_max_scaler.transform(dev_sentemb)\n",
    "test_features = min_max_scaler.transform(test_sentemb)\n",
    "\n",
    "min_max_scaler = MinMaxScaler()\n",
    "train_features_idf = min_max_scaler.fit_transform(train_sentemb_idf)\n",
    "dev_features_idf = min_max_scaler.transform(dev_sentemb_idf)\n",
    "test_features_idf = min_max_scaler.transform(test_sentemb_idf)\n",
    "\n",
    "#Training the classifier without IDF\n",
    "classifier = LogisticRegression(solver='lbfgs',max_iter=1000,penalty='l2')\n",
    "classifier = classifier.fit(train_features,sst_train_label)\n",
    "\n",
    "#Testing the classifier on Train Data\n",
    "y_train_pred = classifier.predict(train_features)\n",
    "acc = accuracy_score(sst_train_label,y_train_pred,normalize=True)\n",
    "print('The accuracy achieved by the Logistic Regression Classifier Model (without IDF features) on Train Set is: ', acc)\n",
    "\n",
    "# Testing the classifier on Dev Data\n",
    "y_dev_pred = classifier.predict(dev_features)\n",
    "#Compute Accuracy Score\n",
    "acc = accuracy_score(sst_dev_label,y_dev_pred,normalize=True)\n",
    "print('The accuracy achieved by the Logistic Regression Classifier Model (without IDF features) on Dev Set is: ', acc)\n",
    "    \n",
    "#-------------------------------------------------IDF Features--------------------------------------\n",
    "\n",
    "#Training the classifier with idf features\n",
    "classifier_idf = LogisticRegression(solver='lbfgs',max_iter=1000,penalty='l2')\n",
    "classifier_idf = classifier.fit(train_features_idf,sst_train_label)\n",
    "\n",
    "#Testing the classifier on Train Data\n",
    "y_train_pred_idf = classifier.predict(train_features_idf)\n",
    "acc = accuracy_score(sst_train_label,y_train_pred_idf,normalize=True)\n",
    "print('The accuracy achieved by the Logistic Regression Classifier Model (with IDF features) on Train Set is: ', acc)\n",
    "\n",
    "# Testing the classifier on Dev Data\n",
    "y_dev_pred_idf = classifier.predict(dev_features_idf)\n",
    "\n",
    "#Compute Accuracy Score\n",
    "acc = accuracy_score(sst_dev_label,y_dev_pred_idf,normalize=True)\n",
    "print('The accuracy achieved by the Logistic Regression Classifier Model (with IDF features) on Dev Set is: ', acc)"
   ]
  },
  {
   "cell_type": "code",
   "execution_count": 82,
   "metadata": {},
   "outputs": [],
   "source": [
    "# 4 - Produce 2210 predictions for the test set (in the same order). One line = one prediction (=0,1,2,3,4).\n",
    "#     Attach the output file \"logreg_bov_y_test_sst.txt\" to your deliverable.\n",
    "#     You will be evaluated on the results of the test set.\n",
    "\n",
    "# TYPE CODE HERE\n",
    "y_test_pred = classifier.predict(test_features)\n",
    "np.savetxt(\"logreg_bov_y_test_sst.txt\", y_test_pred,fmt='%s')"
   ]
  },
  {
   "cell_type": "code",
   "execution_count": 83,
   "metadata": {},
   "outputs": [
    {
     "name": "stdout",
     "output_type": "stream",
     "text": [
      "The accuracy achieved by the Gradient Boosting Model from LGBM Library on Dev Set is:  0.4087193460490463\n"
     ]
    },
    {
     "name": "stderr",
     "output_type": "stream",
     "text": [
      "/home/ayush/anaconda2/envs/my_python_3/lib/python3.6/site-packages/sklearn/preprocessing/label.py:151: DeprecationWarning: The truth value of an empty array is ambiguous. Returning False, but in future this will result in an error. Use `array.size > 0` to check that an array is not empty.\n",
      "  if diff:\n",
      "/home/ayush/anaconda2/envs/my_python_3/lib/python3.6/site-packages/sklearn/preprocessing/label.py:151: DeprecationWarning: The truth value of an empty array is ambiguous. Returning False, but in future this will result in an error. Use `array.size > 0` to check that an array is not empty.\n",
      "  if diff:\n"
     ]
    }
   ],
   "source": [
    "# BONUS!\n",
    "# 5 - Try to improve performance with another classifier\n",
    "#     Attach the output file \"XXX_bov_y_test_sst.txt\" to your deliverable (where XXX = the name of the classifier)\n",
    "\n",
    "# TYPE CODE HERE\n",
    "\n",
    "#-------------Using Gradient Boosting Classifier from LGBM Library---------------------------------\n",
    "\n",
    "from lightgbm import LGBMClassifier\n",
    "lgb_classifier = LGBMClassifier(max_depth=5,n_estimators=5000,reg_lambda=2)\n",
    "lgb_classifier.fit(train_features,sst_train_label,verbose=False,early_stopping_rounds=30,eval_metric='multi_logloss',eval_set=[(train_features_idf,sst_train_label),(dev_features_idf,sst_dev_label)])\n",
    "\n",
    "y_dev_pred_values = lgb_classifier.predict(dev_features)\n",
    "acc = accuracy_score(sst_dev_label,y_dev_pred_values,normalize=True)\n",
    "print('The accuracy achieved by the Gradient Boosting Model from LGBM Library on Dev Set is: ', acc)\n",
    "\n",
    "y_test_pred = lgb_classifier.predict(test_features)\n",
    "#print(y_test_pred.shape)\n",
    "np.savetxt(\"lgbm_gradientboosting_bov_y_test_sst.txt\", y_test_pred,fmt='%s')"
   ]
  },
  {
   "cell_type": "markdown",
   "metadata": {},
   "source": [
    "# 4) Sentence classification with LSTMs in Keras"
   ]
  },
  {
   "cell_type": "markdown",
   "metadata": {},
   "source": [
    "## 4.1 - Preprocessing"
   ]
  },
  {
   "cell_type": "code",
   "execution_count": 93,
   "metadata": {},
   "outputs": [],
   "source": [
    "import keras"
   ]
  },
  {
   "cell_type": "code",
   "execution_count": 94,
   "metadata": {},
   "outputs": [],
   "source": [
    "# 1 - Load train/dev/test sets of SST\n",
    "# TYPE CODE HERE\n",
    "PATH_TO_DATA = \"./data/\"\n",
    "\n",
    "x_train,y_train = read_training_data(os.path.join(PATH_TO_DATA,'SST','stsa.fine.train'))\n",
    "x_dev,y_dev = read_training_data(os.path.join(PATH_TO_DATA,'SST','stsa.fine.dev'))\n",
    "x_test = read_test_data(os.path.join(PATH_TO_DATA,'SST','stsa.fine.test.X'))"
   ]
  },
  {
   "cell_type": "code",
   "execution_count": 95,
   "metadata": {},
   "outputs": [],
   "source": [
    "# 2 - Transform text to integers using keras.preprocessing.text.one_hot function\n",
    "#     https://keras.io/preprocessing/text/\n",
    "\n",
    "# TYPE CODE HERE\n",
    "from keras.preprocessing import text\n",
    "from keras.utils import to_categorical\n",
    "\n",
    "list_w = set([w for sent in (x_train+x_dev+x_test) for w in sent ])\n",
    "num_words = len(list_w)\n",
    "\n",
    "\n",
    "x_train_one_hot = [text.one_hot(' '.join(x),num_words) for x in x_train]\n",
    "x_dev_one_hot = [text.one_hot(' '.join(x),num_words) for x in x_dev]\n",
    "x_test_one_hot = [text.one_hot(' '.join(x),num_words) for x in x_test]\n",
    "\n",
    "\n",
    "y_train = to_categorical(y_train)\n",
    "y_val = to_categorical(y_dev)\n",
    "#print(y_train.shape)"
   ]
  },
  {
   "cell_type": "markdown",
   "metadata": {},
   "source": [
    "**Padding input data**\n",
    "\n",
    "Models in Keras (and elsewhere) take batches of sentences of the same length as input. It is because Deep Learning framework have been designed to handle well Tensors, which are particularly suited for fast computation on the GPU.\n",
    "\n",
    "Since sentences have different sizes, we \"pad\" them. That is, we add dummy \"padding\" tokens so that they all have the same length.\n",
    "\n",
    "The input to a Keras model thus has this size : (batchsize, maxseqlen) where maxseqlen is the maximum length of a sentence in the batch."
   ]
  },
  {
   "cell_type": "code",
   "execution_count": 96,
   "metadata": {},
   "outputs": [],
   "source": [
    "# 3 - Pad your sequences using keras.preprocessing.sequence.pad_sequences\n",
    "#     https://keras.io/preprocessing/sequence/\n",
    "\n",
    "# TYPE CODE HERE\n",
    "from keras.preprocessing.sequence import pad_sequences\n",
    "\n",
    "\n",
    "x_train_pad = pad_sequences(x_train_one_hot, maxlen=20)\n",
    "x_val_pad = pad_sequences(x_dev_one_hot, maxlen=20)\n",
    "x_test_pad = pad_sequences(x_test_one_hot,maxlen=20)"
   ]
  },
  {
   "cell_type": "markdown",
   "metadata": {},
   "source": [
    "## 4.2 - Design and train your model"
   ]
  },
  {
   "cell_type": "code",
   "execution_count": 97,
   "metadata": {},
   "outputs": [],
   "source": [
    "# 4 - Design your encoder + classifier using keras.layers\n",
    "#     In Keras, Torch and other deep learning framework, we create a \"container\" which is the Sequential() module.\n",
    "#     Then we add components to this contained : the lookuptable, the LSTM, the classifier etc.\n",
    "#     All of these components are contained in the Sequential() and are trained together.\n",
    "\n",
    "\n",
    "# ADAPT CODE BELOW\n",
    "\n",
    "\n",
    "from keras.models import Sequential\n",
    "from keras.layers import Embedding, LSTM, Dense, Activation\n",
    "\n",
    "embed_dim  = 20  # word embedding dimension\n",
    "nhid       = 8  # number of hidden units in the LSTM\n",
    "vocab_size = num_words  # size of the vocabulary\n",
    "n_classes  = 5\n",
    "\n",
    "model = Sequential()\n",
    "model.add(Embedding(vocab_size, embed_dim))\n",
    "model.add(LSTM(nhid, dropout=0.6, recurrent_dropout=0.6))\n",
    "model.add(Dense(n_classes, activation='softmax'))"
   ]
  },
  {
   "cell_type": "code",
   "execution_count": 98,
   "metadata": {},
   "outputs": [
    {
     "name": "stdout",
     "output_type": "stream",
     "text": [
      "_________________________________________________________________\n",
      "Layer (type)                 Output Shape              Param #   \n",
      "=================================================================\n",
      "embedding_52 (Embedding)     (None, None, 20)          390720    \n",
      "_________________________________________________________________\n",
      "lstm_36 (LSTM)               (None, 8)                 928       \n",
      "_________________________________________________________________\n",
      "dense_69 (Dense)             (None, 5)                 45        \n",
      "=================================================================\n",
      "Total params: 391,693\n",
      "Trainable params: 391,693\n",
      "Non-trainable params: 0\n",
      "_________________________________________________________________\n",
      "None\n"
     ]
    }
   ],
   "source": [
    "# 5 - Define your loss/optimizer/metrics\n",
    "\n",
    "# MODIFY CODE BELOW\n",
    "\n",
    "loss_classif     =  'categorical_crossentropy' # find the right loss for multi-class classification\n",
    "optimizer        =  'rmsprop' # find the right optimizer\n",
    "metrics_classif  =  ['accuracy']\n",
    "\n",
    "# Observe how easy (but blackboxed) this is in Keras\n",
    "model.compile(loss=loss_classif,\n",
    "              optimizer=optimizer,\n",
    "              metrics=metrics_classif)\n",
    "print(model.summary())"
   ]
  },
  {
   "cell_type": "code",
   "execution_count": 99,
   "metadata": {},
   "outputs": [
    {
     "name": "stdout",
     "output_type": "stream",
     "text": [
      "Train on 8544 samples, validate on 1101 samples\n",
      "Epoch 1/10\n",
      "8544/8544 [==============================] - 22s 3ms/step - loss: 1.5745 - acc: 0.2726 - val_loss: 1.5670 - val_acc: 0.3134\n",
      "Epoch 2/10\n",
      "8544/8544 [==============================] - 13s 2ms/step - loss: 1.5490 - acc: 0.3123 - val_loss: 1.5294 - val_acc: 0.3270\n",
      "Epoch 3/10\n",
      "8544/8544 [==============================] - 12s 1ms/step - loss: 1.4946 - acc: 0.3530 - val_loss: 1.4770 - val_acc: 0.3497\n",
      "Epoch 4/10\n",
      "8544/8544 [==============================] - 12s 1ms/step - loss: 1.4305 - acc: 0.3796 - val_loss: 1.4408 - val_acc: 0.3778\n",
      "Epoch 5/10\n",
      "8544/8544 [==============================] - 13s 1ms/step - loss: 1.3633 - acc: 0.4120 - val_loss: 1.4243 - val_acc: 0.3778\n",
      "Epoch 6/10\n",
      "8544/8544 [==============================] - 12s 1ms/step - loss: 1.3047 - acc: 0.4439 - val_loss: 1.4109 - val_acc: 0.4033\n",
      "Epoch 7/10\n",
      "8544/8544 [==============================] - 13s 2ms/step - loss: 1.2614 - acc: 0.4631 - val_loss: 1.4062 - val_acc: 0.3996\n",
      "Epoch 8/10\n",
      "8544/8544 [==============================] - 12s 1ms/step - loss: 1.2196 - acc: 0.4883 - val_loss: 1.4216 - val_acc: 0.3933\n",
      "Epoch 9/10\n",
      "8544/8544 [==============================] - 12s 1ms/step - loss: 1.1818 - acc: 0.5011 - val_loss: 1.4538 - val_acc: 0.3969\n",
      "Epoch 10/10\n",
      "8544/8544 [==============================] - 12s 1ms/step - loss: 1.1543 - acc: 0.5171 - val_loss: 1.4539 - val_acc: 0.3842\n"
     ]
    },
    {
     "data": {
      "image/png": "[encoded data removed]",
      "text/plain": [
       "<Figure size 432x288 with 1 Axes>"
      ]
     },
     "metadata": {
      "needs_background": "light"
     },
     "output_type": "display_data"
    },
    {
     "data": {
      "image/png": "[encoded data removed]",
      "text/plain": [
       "<Figure size 432x288 with 1 Axes>"
      ]
     },
     "metadata": {
      "needs_background": "light"
     },
     "output_type": "display_data"
    }
   ],
   "source": [
    "# 6 - Train your model and find the best hyperparameters for your dev set\n",
    "#     you will be evaluated on the quality of your predictions on the test set\n",
    "\n",
    "# ADAPT CODE BELOW\n",
    "import matplotlib.pyplot as plt\n",
    "%matplotlib inline\n",
    "\n",
    "bs = 8\n",
    "n_epochs = 10\n",
    "\n",
    "# For early stopping\n",
    "estop = keras.callbacks.EarlyStopping(monitor='val_loss', min_delta=0, patience=10, verbose=1, mode='auto')\n",
    "history = model.fit(x_train_pad, y_train, batch_size=bs, epochs=n_epochs, validation_data=(x_val_pad, y_val),shuffle=True,callbacks=[estop])\n",
    "\n",
    "plt.figure(1)\n",
    "plt.plot(history.history['acc'])\n",
    "plt.plot(history.history['val_acc'])\n",
    "plt.title('model accuracy')\n",
    "plt.ylabel('accuracy')\n",
    "plt.xlabel('epoch')\n",
    "plt.legend(['train', 'val'], loc='upper left')\n",
    "#plt.show()\n",
    "plt.savefig('Accuracy_Plot_LSTM')\n",
    "\n",
    "plt.figure(2)\n",
    "plt.plot(history.history['loss'])\n",
    "plt.plot(history.history['val_loss'])\n",
    "plt.title('model loss')\n",
    "plt.ylabel('loss')\n",
    "plt.xlabel('epoch')\n",
    "plt.legend(['train', 'val'], loc='upper left')\n",
    "#plt.show()\n",
    "plt.savefig('Loss_Plot_LSTM')"
   ]
  },
  {
   "cell_type": "code",
   "execution_count": 100,
   "metadata": {},
   "outputs": [],
   "source": [
    "# 7 - Generate your predictions on the test set using model.predict(x_test)\n",
    "#     https://keras.io/models/model/\n",
    "#     Log your predictions in a file (one line = one integer: 0,1,2,3,4)\n",
    "#     Attach the output file \"logreg_lstm_y_test_sst.txt\" to your deliverable.\n",
    "\n",
    "# TYPE CODE HERE\n",
    "y_test_pred = model.predict(x_test_pad)\n",
    "#print(y_test_pred.shape)\n",
    "#print y_test_pred\n",
    "y_test_pred = np.argmax(y_test_pred, axis=1)\n",
    "#print y_test_pred.shape\n",
    "np.savetxt(\"logreg_lstm_y_test_sst.txt\", y_test_pred,fmt='%s')"
   ]
  },
  {
   "cell_type": "markdown",
   "metadata": {},
   "source": [
    "## 4.3 -- innovate !"
   ]
  },
  {
   "cell_type": "code",
   "execution_count": 105,
   "metadata": {},
   "outputs": [
    {
     "name": "stdout",
     "output_type": "stream",
     "text": [
      "_________________________________________________________________\n",
      "Layer (type)                 Output Shape              Param #   \n",
      "=================================================================\n",
      "embedding_57 (Embedding)     (None, 20, 20)            390720    \n",
      "_________________________________________________________________\n",
      "dropout_78 (Dropout)         (None, 20, 20)            0         \n",
      "_________________________________________________________________\n",
      "conv1d_55 (Conv1D)           (None, 14, 32)            4512      \n",
      "_________________________________________________________________\n",
      "global_max_pooling1d_49 (Glo (None, 32)                0         \n",
      "_________________________________________________________________\n",
      "dense_78 (Dense)             (None, 10)                330       \n",
      "_________________________________________________________________\n",
      "dropout_79 (Dropout)         (None, 10)                0         \n",
      "_________________________________________________________________\n",
      "dense_79 (Dense)             (None, 5)                 55        \n",
      "=================================================================\n",
      "Total params: 395,617\n",
      "Trainable params: 395,617\n",
      "Non-trainable params: 0\n",
      "_________________________________________________________________\n",
      "Train on 8544 samples, validate on 1101 samples\n",
      "Epoch 1/10\n",
      "8544/8544 [==============================] - 14s 2ms/step - loss: 1.5771 - acc: 0.2631 - val_loss: 1.5711 - val_acc: 0.2852\n",
      "Epoch 2/10\n",
      "8544/8544 [==============================] - 3s 406us/step - loss: 1.5621 - acc: 0.2770 - val_loss: 1.5487 - val_acc: 0.3224\n",
      "Epoch 3/10\n",
      "8544/8544 [==============================] - 3s 390us/step - loss: 1.5399 - acc: 0.3107 - val_loss: 1.5122 - val_acc: 0.3406\n",
      "Epoch 4/10\n",
      "8544/8544 [==============================] - 3s 392us/step - loss: 1.5087 - acc: 0.3420 - val_loss: 1.4747 - val_acc: 0.3551\n",
      "Epoch 5/10\n",
      "8544/8544 [==============================] - 3s 407us/step - loss: 1.4745 - acc: 0.3614 - val_loss: 1.4448 - val_acc: 0.3669\n",
      "Epoch 6/10\n",
      "8544/8544 [==============================] - 3s 397us/step - loss: 1.4437 - acc: 0.3819 - val_loss: 1.4181 - val_acc: 0.3887\n",
      "Epoch 7/10\n",
      "8544/8544 [==============================] - 3s 397us/step - loss: 1.4266 - acc: 0.3936 - val_loss: 1.3978 - val_acc: 0.3896\n",
      "Epoch 8/10\n",
      "8544/8544 [==============================] - 3s 399us/step - loss: 1.4008 - acc: 0.4040 - val_loss: 1.3910 - val_acc: 0.3824\n",
      "Epoch 9/10\n",
      "8544/8544 [==============================] - 3s 398us/step - loss: 1.3832 - acc: 0.4157 - val_loss: 1.3904 - val_acc: 0.3833\n",
      "Epoch 10/10\n",
      "8544/8544 [==============================] - 3s 398us/step - loss: 1.3626 - acc: 0.4271 - val_loss: 1.4020 - val_acc: 0.3906\n"
     ]
    },
    {
     "data": {
      "image/png": "[encoded data removed]",
      "text/plain": [
       "<Figure size 432x288 with 1 Axes>"
      ]
     },
     "metadata": {
      "needs_background": "light"
     },
     "output_type": "display_data"
    },
    {
     "data": {
      "image/png": "[encoded data removed]",
      "text/plain": [
       "<Figure size 432x288 with 1 Axes>"
      ]
     },
     "metadata": {
      "needs_background": "light"
     },
     "output_type": "display_data"
    }
   ],
   "source": [
    "# 8 - Open question: find a model that is better on your dev set\n",
    "#     (e.g: use a 1D ConvNet, use a better classifier, pretrain your lookup tables ..)\n",
    "#     you will get point if the results on the test set are better: be careful of not overfitting your dev set too much..\n",
    "#     Attach the output file \"XXX_XXX_y_test_sst.txt\" to your deliverable.\n",
    "\n",
    "# TYPE CODE HERE\n",
    "from keras.models import Sequential\n",
    "from keras.layers import Embedding, LSTM, Dense, Activation, GlobalMaxPooling1D, Conv1D, Bidirectional\n",
    "from keras.layers import Dense, Embedding, Dropout, LSTM\n",
    "from keras.layers.normalization import BatchNormalization\n",
    "\n",
    "\n",
    "\n",
    "embed_dim  = 20  # word embedding dimension\n",
    "nhid       = 8  # number of hidden units in the LSTM\n",
    "vocab_size = num_words  # size of the vocabulary\n",
    "n_classes  = 5\n",
    "n_epochs = 10\n",
    "bs = 8\n",
    "\n",
    "new_model = Sequential()\n",
    "new_model.add(Embedding(vocab_size, embed_dim,input_length=20))\n",
    "new_model.add(Dropout(0.5))\n",
    "new_model.add(Conv1D(32, 7, activation='relu'))\n",
    "new_model.add(GlobalMaxPooling1D())\n",
    "new_model.add(Dense(10, activation='relu'))\n",
    "new_model.add(Dropout(0.5))\n",
    "new_model.add(Dense(n_classes, activation='softmax'))\n",
    "\n",
    "new_model.compile(optimizer='rmsprop',\n",
    "              loss='categorical_crossentropy',\n",
    "              metrics=['accuracy'])\n",
    "new_model.summary()\n",
    "\n",
    "estop = keras.callbacks.EarlyStopping(monitor='val_loss', min_delta=0, patience=10, verbose=1, mode='auto')\n",
    "history = new_model.fit(x_train_pad, y_train, batch_size=bs, epochs=n_epochs, validation_data=(x_val_pad, y_val),callbacks=[estop])\n",
    "\n",
    "plt.figure(1)\n",
    "plt.plot(history.history['acc'])\n",
    "plt.plot(history.history['val_acc'])\n",
    "plt.title('model accuracy')\n",
    "plt.ylabel('accuracy')\n",
    "plt.xlabel('epoch')\n",
    "plt.legend(['train', 'val'], loc='upper left')\n",
    "plt.savefig('Accuracy_Plot_Conv1D')\n",
    "\n",
    "plt.figure(2)\n",
    "plt.plot(history.history['loss'])\n",
    "plt.plot(history.history['val_loss'])\n",
    "plt.title('model loss')\n",
    "plt.ylabel('loss')\n",
    "plt.xlabel('epoch')\n",
    "plt.legend(['train', 'val'], loc='upper left')\n",
    "plt.savefig('Loss_Plot_Conv1D')\n",
    "\n",
    "y_test_pred = model.predict(x_test_pad)\n",
    "#print y_test_pred.shape\n",
    "##print y_test_pred\n",
    "y_test_pred = np.argmax(y_test_pred, axis=1)\n",
    "#print y_test_pred.shape\n",
    "np.savetxt(\"conv1D_bilstm_y_test_sst.txt\", y_test_pred,fmt='%s')"
   ]
  },
  {
   "cell_type": "code",
   "execution_count": null,
   "metadata": {},
   "outputs": [],
   "source": []
  }
 ],
 "metadata": {
  "kernelspec": {
   "display_name": "Python 3",
   "language": "python",
   "name": "python3"
  },
  "language_info": {
   "codemirror_mode": {
    "name": "ipython",
    "version": 3
   },
   "file_extension": ".py",
   "mimetype": "text/x-python",
   "name": "python",
   "nbconvert_exporter": "python",
   "pygments_lexer": "ipython3",
   "version": "3.6.6"
  }
 },
 "nbformat": 4,
 "nbformat_minor": 1
}
