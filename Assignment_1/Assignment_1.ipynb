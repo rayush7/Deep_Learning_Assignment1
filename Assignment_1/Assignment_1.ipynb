{
 "cells": [
  {
   "cell_type": "markdown",
   "metadata": {},
   "source": [
    "# Foundations of Deep Learning - Ecole CentraleSupelec - Fall 2018\n",
    "# Solution: Assignment 1\n",
    "\n",
    "#### Student Name: Ayush K. Rai\n",
    "#### MSc in AI, Ecole Centralesupelec"
   ]
  },
  {
   "cell_type": "code",
   "execution_count": 72,
   "metadata": {},
   "outputs": [],
   "source": [
    "import matplotlib.pyplot as plt\n",
    "import matplotlib.cm as cm\n",
    "from keras.utils import np_utils\n",
    "from keras.models import Sequential\n",
    "from keras.layers import Dropout\n",
    "from keras.layers import Flatten\n",
    "from keras.layers import Dense, Input\n",
    "import numpy as np\n",
    "from mp1 import *\n",
    "import keras\n",
    "from keras import optimizers\n",
    "from sklearn.preprocessing import MinMaxScaler\n",
    "from tensorflow.python.keras.wrappers.scikit_learn import KerasRegressor\n",
    "from keras.initializers import VarianceScaling\n",
    "from keras.engine.topology import Layer, InputSpec\n",
    "import os\n",
    "from keras import callbacks\n",
    "from keras.models import Model\n",
    "from keras.optimizers import SGD\n",
    "from keras.layers import Dense, Input, Conv2D, MaxPooling2D, UpSampling2D, merge, concatenate\n",
    "from keras.initializers import VarianceScaling\n",
    "from keras.engine.topology import Layer, InputSpec"
   ]
  },
  {
   "cell_type": "markdown",
   "metadata": {},
   "source": [
    "## 3. Simple Classification"
   ]
  },
  {
   "cell_type": "markdown",
   "metadata": {},
   "source": [
    "### Generate Training Dataset"
   ]
  },
  {
   "cell_type": "code",
   "execution_count": 35,
   "metadata": {},
   "outputs": [
    {
     "name": "stdout",
     "output_type": "stream",
     "text": [
      "Creating data for Classification:\n",
      "(300, 5184)\n",
      "(300,)\n"
     ]
    }
   ],
   "source": [
    "X_train, Y_train = generate_dataset_classification(300, 20)\n",
    "\n",
    "print X_train.shape\n",
    "print Y_train.shape\n",
    "\n",
    "#X_train = X_train.reshape(300, 10000)\n",
    "X_train = X_train.astype('float32')\n",
    "#X_train /= 255\n",
    "\n",
    "# convert class vectors to binary class matrices\n",
    "Y_train = keras.utils.to_categorical(Y_train, num_classes)"
   ]
  },
  {
   "cell_type": "markdown",
   "metadata": {},
   "source": [
    "### Designing the Model and Optimizing it using SGD"
   ]
  },
  {
   "cell_type": "code",
   "execution_count": 36,
   "metadata": {},
   "outputs": [
    {
     "name": "stdout",
     "output_type": "stream",
     "text": [
      "_________________________________________________________________\n",
      "Layer (type)                 Output Shape              Param #   \n",
      "=================================================================\n",
      "dense_13 (Dense)             (None, 512)               2654720   \n",
      "_________________________________________________________________\n",
      "dropout_9 (Dropout)          (None, 512)               0         \n",
      "_________________________________________________________________\n",
      "dense_14 (Dense)             (None, 512)               262656    \n",
      "_________________________________________________________________\n",
      "dropout_10 (Dropout)         (None, 512)               0         \n",
      "_________________________________________________________________\n",
      "dense_15 (Dense)             (None, 3)                 1539      \n",
      "=================================================================\n",
      "Total params: 2,918,915\n",
      "Trainable params: 2,918,915\n",
      "Non-trainable params: 0\n",
      "_________________________________________________________________\n",
      "Train on 210 samples, validate on 90 samples\n",
      "Epoch 1/50\n",
      "210/210 [==============================] - 0s 2ms/step - loss: 2.2009 - acc: 0.3238 - val_loss: 1.9942 - val_acc: 0.4556\n",
      "Epoch 2/50\n",
      "210/210 [==============================] - 0s 288us/step - loss: 1.5403 - acc: 0.4000 - val_loss: 0.8271 - val_acc: 0.7111\n",
      "Epoch 3/50\n",
      "210/210 [==============================] - 0s 281us/step - loss: 0.8871 - acc: 0.5810 - val_loss: 0.7686 - val_acc: 0.7000\n",
      "Epoch 4/50\n",
      "210/210 [==============================] - 0s 311us/step - loss: 0.8694 - acc: 0.6190 - val_loss: 0.7158 - val_acc: 0.7778\n",
      "Epoch 5/50\n",
      "210/210 [==============================] - 0s 316us/step - loss: 0.7848 - acc: 0.6857 - val_loss: 0.8839 - val_acc: 0.4556\n",
      "Epoch 6/50\n",
      "210/210 [==============================] - 0s 304us/step - loss: 0.9620 - acc: 0.5095 - val_loss: 0.6416 - val_acc: 0.6667\n",
      "Epoch 7/50\n",
      "210/210 [==============================] - 0s 322us/step - loss: 0.6944 - acc: 0.7333 - val_loss: 0.6873 - val_acc: 0.7667\n",
      "Epoch 8/50\n",
      "210/210 [==============================] - 0s 315us/step - loss: 0.7871 - acc: 0.6571 - val_loss: 0.6314 - val_acc: 0.8000\n",
      "Epoch 9/50\n",
      "210/210 [==============================] - 0s 319us/step - loss: 0.6696 - acc: 0.6952 - val_loss: 0.5047 - val_acc: 0.8444\n",
      "Epoch 10/50\n",
      "210/210 [==============================] - 0s 307us/step - loss: 0.6002 - acc: 0.7714 - val_loss: 0.5836 - val_acc: 0.7889\n",
      "Epoch 11/50\n",
      "210/210 [==============================] - 0s 320us/step - loss: 0.6970 - acc: 0.7095 - val_loss: 0.6193 - val_acc: 0.6889\n",
      "Epoch 12/50\n",
      "210/210 [==============================] - 0s 306us/step - loss: 0.8334 - acc: 0.6381 - val_loss: 0.7245 - val_acc: 0.7111\n",
      "Epoch 13/50\n",
      "210/210 [==============================] - 0s 327us/step - loss: 0.6277 - acc: 0.7286 - val_loss: 0.5899 - val_acc: 0.8000\n",
      "Epoch 14/50\n",
      "210/210 [==============================] - 0s 323us/step - loss: 0.5510 - acc: 0.8000 - val_loss: 0.6321 - val_acc: 0.7778\n",
      "Epoch 15/50\n",
      "210/210 [==============================] - 0s 332us/step - loss: 0.6089 - acc: 0.7667 - val_loss: 0.6481 - val_acc: 0.7000\n",
      "Epoch 16/50\n",
      "210/210 [==============================] - 0s 334us/step - loss: 0.6929 - acc: 0.6952 - val_loss: 0.4165 - val_acc: 0.8000\n",
      "Epoch 17/50\n",
      "210/210 [==============================] - 0s 324us/step - loss: 0.4626 - acc: 0.8524 - val_loss: 0.3894 - val_acc: 0.8889\n",
      "Epoch 18/50\n",
      "210/210 [==============================] - 0s 344us/step - loss: 0.4914 - acc: 0.8286 - val_loss: 0.4557 - val_acc: 0.7778\n",
      "Epoch 19/50\n",
      "210/210 [==============================] - 0s 309us/step - loss: 0.4538 - acc: 0.8333 - val_loss: 0.3998 - val_acc: 0.7778\n",
      "Epoch 20/50\n",
      "210/210 [==============================] - 0s 327us/step - loss: 0.4643 - acc: 0.8238 - val_loss: 0.6608 - val_acc: 0.7111\n",
      "Epoch 21/50\n",
      "210/210 [==============================] - 0s 327us/step - loss: 0.6919 - acc: 0.7095 - val_loss: 0.3900 - val_acc: 0.8556\n",
      "Epoch 22/50\n",
      "210/210 [==============================] - 0s 302us/step - loss: 0.4463 - acc: 0.8429 - val_loss: 0.8574 - val_acc: 0.6778\n",
      "Epoch 23/50\n",
      "210/210 [==============================] - 0s 307us/step - loss: 0.6437 - acc: 0.7667 - val_loss: 0.4604 - val_acc: 0.8556\n",
      "Epoch 24/50\n",
      "210/210 [==============================] - 0s 310us/step - loss: 0.3958 - acc: 0.8381 - val_loss: 0.3209 - val_acc: 0.9222\n",
      "Epoch 25/50\n",
      "210/210 [==============================] - 0s 306us/step - loss: 0.3841 - acc: 0.8619 - val_loss: 0.4209 - val_acc: 0.7667\n",
      "Epoch 26/50\n",
      "210/210 [==============================] - 0s 347us/step - loss: 0.3957 - acc: 0.8333 - val_loss: 0.3208 - val_acc: 0.8889\n",
      "Epoch 27/50\n",
      "210/210 [==============================] - 0s 314us/step - loss: 0.3598 - acc: 0.8429 - val_loss: 0.3227 - val_acc: 0.9000\n",
      "Epoch 28/50\n",
      "210/210 [==============================] - 0s 329us/step - loss: 0.3410 - acc: 0.8810 - val_loss: 0.3633 - val_acc: 0.8444\n",
      "Epoch 29/50\n",
      "210/210 [==============================] - 0s 315us/step - loss: 0.4991 - acc: 0.7810 - val_loss: 0.4343 - val_acc: 0.8000\n",
      "Epoch 30/50\n",
      "210/210 [==============================] - 0s 297us/step - loss: 0.3877 - acc: 0.8238 - val_loss: 0.3080 - val_acc: 0.8222\n",
      "Epoch 31/50\n",
      "210/210 [==============================] - 0s 280us/step - loss: 0.3136 - acc: 0.8952 - val_loss: 0.2854 - val_acc: 0.8444\n",
      "Epoch 32/50\n",
      "210/210 [==============================] - 0s 258us/step - loss: 0.3570 - acc: 0.8429 - val_loss: 0.2672 - val_acc: 0.9333\n",
      "Epoch 33/50\n",
      "210/210 [==============================] - 0s 270us/step - loss: 0.3219 - acc: 0.8810 - val_loss: 0.2865 - val_acc: 0.8778\n",
      "Epoch 34/50\n",
      "210/210 [==============================] - 0s 251us/step - loss: 0.2808 - acc: 0.9000 - val_loss: 0.2483 - val_acc: 0.9444\n",
      "Epoch 35/50\n",
      "210/210 [==============================] - 0s 259us/step - loss: 0.2781 - acc: 0.9143 - val_loss: 0.2905 - val_acc: 0.8556\n",
      "Epoch 36/50\n",
      "210/210 [==============================] - 0s 262us/step - loss: 0.3365 - acc: 0.8429 - val_loss: 0.8935 - val_acc: 0.6333\n",
      "Epoch 37/50\n",
      "210/210 [==============================] - 0s 264us/step - loss: 0.7031 - acc: 0.6905 - val_loss: 0.3372 - val_acc: 0.8889\n",
      "Epoch 38/50\n",
      "210/210 [==============================] - 0s 261us/step - loss: 0.3114 - acc: 0.9000 - val_loss: 0.2364 - val_acc: 0.9444\n",
      "Epoch 39/50\n",
      "210/210 [==============================] - 0s 257us/step - loss: 0.3025 - acc: 0.8810 - val_loss: 0.6276 - val_acc: 0.7556\n",
      "Epoch 40/50\n",
      "210/210 [==============================] - 0s 266us/step - loss: 0.3580 - acc: 0.8571 - val_loss: 0.2182 - val_acc: 0.9444\n",
      "Epoch 41/50\n",
      "210/210 [==============================] - 0s 261us/step - loss: 0.2443 - acc: 0.9238 - val_loss: 0.2788 - val_acc: 0.8444\n",
      "Epoch 42/50\n",
      "210/210 [==============================] - 0s 276us/step - loss: 0.2722 - acc: 0.8952 - val_loss: 0.2244 - val_acc: 0.8889\n",
      "Epoch 43/50\n",
      "210/210 [==============================] - 0s 268us/step - loss: 0.2950 - acc: 0.8905 - val_loss: 0.3221 - val_acc: 0.8000\n",
      "Epoch 44/50\n",
      "210/210 [==============================] - 0s 267us/step - loss: 0.4682 - acc: 0.7333 - val_loss: 0.2340 - val_acc: 0.8778\n",
      "Epoch 45/50\n",
      "210/210 [==============================] - 0s 288us/step - loss: 0.2344 - acc: 0.9286 - val_loss: 0.2245 - val_acc: 0.9111\n",
      "Epoch 46/50\n",
      "210/210 [==============================] - 0s 265us/step - loss: 0.2480 - acc: 0.9095 - val_loss: 0.1946 - val_acc: 0.9444\n",
      "Epoch 47/50\n",
      "210/210 [==============================] - 0s 264us/step - loss: 0.2003 - acc: 0.9429 - val_loss: 0.1893 - val_acc: 0.9667\n",
      "Epoch 48/50\n",
      "210/210 [==============================] - 0s 280us/step - loss: 0.2935 - acc: 0.8810 - val_loss: 0.2003 - val_acc: 0.9444\n",
      "Epoch 49/50\n",
      "210/210 [==============================] - 0s 288us/step - loss: 0.1962 - acc: 0.9429 - val_loss: 0.2445 - val_acc: 0.8778\n",
      "Epoch 50/50\n",
      "210/210 [==============================] - 0s 273us/step - loss: 0.2420 - acc: 0.9000 - val_loss: 0.1939 - val_acc: 0.9444\n"
     ]
    },
    {
     "data": {
      "image/png": "[encoded data removed]",
      "text/plain": [
       "<Figure size 432x288 with 1 Axes>"
      ]
     },
     "metadata": {
      "needs_background": "light"
     },
     "output_type": "display_data"
    }
   ],
   "source": [
    "batch_size = 64\n",
    "num_classes = 3\n",
    "epochs = 50\n",
    "\n",
    "model = Sequential()\n",
    "model.add(Dense(512, activation='relu', input_shape=(5184,)))\n",
    "model.add(Dropout(0.2))\n",
    "model.add(Dense(512, activation='relu'))\n",
    "model.add(Dropout(0.2))\n",
    "model.add(Dense(num_classes, activation='softmax'))\n",
    "\n",
    "model.summary()\n",
    "\n",
    "sgd = optimizers.SGD(lr=0.01, clipvalue=0.5)\n",
    "\n",
    "model.compile(loss='categorical_crossentropy',\n",
    "              optimizer=sgd,metrics=['accuracy'])\n",
    "\n",
    "history = model.fit(X_train, Y_train,\n",
    "                    batch_size=batch_size,\n",
    "                    epochs=epochs,\n",
    "                    verbose=1,\n",
    "                   validation_split=0.3)\n",
    "\n",
    "plt.plot(history.history['acc'])\n",
    "plt.plot(history.history['val_acc'])\n",
    "plt.title('model accuracy')\n",
    "plt.ylabel('accuracy')\n",
    "plt.xlabel('epoch')\n",
    "plt.legend(['train', 'val'], loc='upper left')\n",
    "plt.show()"
   ]
  },
  {
   "cell_type": "markdown",
   "metadata": {},
   "source": [
    "### Testing the Trained Model"
   ]
  },
  {
   "cell_type": "code",
   "execution_count": 37,
   "metadata": {},
   "outputs": [
    {
     "data": {
      "text/plain": [
       "array([[ 0.,  1.,  0.]], dtype=float32)"
      ]
     },
     "execution_count": 37,
     "metadata": {},
     "output_type": "execute_result"
    }
   ],
   "source": [
    "#Testing the Model\n",
    "X_test = generate_a_disk()\n",
    "X_test = X_test.reshape(1, X_test.shape[0])\n",
    "model.predict(X_test)"
   ]
  },
  {
   "cell_type": "markdown",
   "metadata": {},
   "source": [
    "### Designing the Model and Optimizing it using Adam Optimizer"
   ]
  },
  {
   "cell_type": "code",
   "execution_count": 38,
   "metadata": {},
   "outputs": [
    {
     "name": "stdout",
     "output_type": "stream",
     "text": [
      "_________________________________________________________________\n",
      "Layer (type)                 Output Shape              Param #   \n",
      "=================================================================\n",
      "dense_16 (Dense)             (None, 512)               2654720   \n",
      "_________________________________________________________________\n",
      "dropout_11 (Dropout)         (None, 512)               0         \n",
      "_________________________________________________________________\n",
      "dense_17 (Dense)             (None, 512)               262656    \n",
      "_________________________________________________________________\n",
      "dropout_12 (Dropout)         (None, 512)               0         \n",
      "_________________________________________________________________\n",
      "dense_18 (Dense)             (None, 3)                 1539      \n",
      "=================================================================\n",
      "Total params: 2,918,915\n",
      "Trainable params: 2,918,915\n",
      "Non-trainable params: 0\n",
      "_________________________________________________________________\n",
      "Train on 210 samples, validate on 90 samples\n",
      "Epoch 1/50\n",
      "210/210 [==============================] - 0s 2ms/step - loss: 6.9560 - acc: 0.3143 - val_loss: 2.1338 - val_acc: 0.4556\n",
      "Epoch 2/50\n",
      "210/210 [==============================] - 0s 498us/step - loss: 2.6790 - acc: 0.4381 - val_loss: 1.8848 - val_acc: 0.6333\n",
      "Epoch 3/50\n",
      "210/210 [==============================] - 0s 531us/step - loss: 1.6818 - acc: 0.5476 - val_loss: 1.0351 - val_acc: 0.3111\n",
      "Epoch 4/50\n",
      "210/210 [==============================] - 0s 484us/step - loss: 1.3045 - acc: 0.5333 - val_loss: 1.0151 - val_acc: 0.6444\n",
      "Epoch 5/50\n",
      "210/210 [==============================] - 0s 504us/step - loss: 1.0465 - acc: 0.6524 - val_loss: 0.4641 - val_acc: 0.8556\n",
      "Epoch 6/50\n",
      "210/210 [==============================] - 0s 501us/step - loss: 0.8071 - acc: 0.6667 - val_loss: 0.5117 - val_acc: 0.7667\n",
      "Epoch 7/50\n",
      "210/210 [==============================] - 0s 500us/step - loss: 0.6746 - acc: 0.7095 - val_loss: 0.3349 - val_acc: 0.8222\n",
      "Epoch 8/50\n",
      "210/210 [==============================] - 0s 532us/step - loss: 0.5846 - acc: 0.7095 - val_loss: 0.3078 - val_acc: 0.8556\n",
      "Epoch 9/50\n",
      "210/210 [==============================] - 0s 555us/step - loss: 0.4441 - acc: 0.8048 - val_loss: 0.2865 - val_acc: 0.8333\n",
      "Epoch 10/50\n",
      "210/210 [==============================] - 0s 534us/step - loss: 0.3533 - acc: 0.8571 - val_loss: 0.2711 - val_acc: 0.8444\n",
      "Epoch 11/50\n",
      "210/210 [==============================] - 0s 529us/step - loss: 0.3525 - acc: 0.8238 - val_loss: 0.2294 - val_acc: 0.9111\n",
      "Epoch 12/50\n",
      "210/210 [==============================] - 0s 495us/step - loss: 0.2984 - acc: 0.8571 - val_loss: 0.2248 - val_acc: 0.9333\n",
      "Epoch 13/50\n",
      "210/210 [==============================] - 0s 531us/step - loss: 0.2842 - acc: 0.8667 - val_loss: 0.1984 - val_acc: 0.9556\n",
      "Epoch 14/50\n",
      "210/210 [==============================] - 0s 505us/step - loss: 0.2382 - acc: 0.9000 - val_loss: 0.1863 - val_acc: 0.9444\n",
      "Epoch 15/50\n",
      "210/210 [==============================] - 0s 475us/step - loss: 0.2511 - acc: 0.8762 - val_loss: 0.1542 - val_acc: 0.9444\n",
      "Epoch 16/50\n",
      "210/210 [==============================] - 0s 523us/step - loss: 0.2299 - acc: 0.8905 - val_loss: 0.2508 - val_acc: 0.8667\n",
      "Epoch 17/50\n",
      "210/210 [==============================] - 0s 519us/step - loss: 0.1986 - acc: 0.9000 - val_loss: 0.1891 - val_acc: 0.9111\n",
      "Epoch 18/50\n",
      "210/210 [==============================] - 0s 507us/step - loss: 0.1779 - acc: 0.9286 - val_loss: 0.1283 - val_acc: 0.9444\n",
      "Epoch 19/50\n",
      "210/210 [==============================] - 0s 494us/step - loss: 0.1456 - acc: 0.9571 - val_loss: 0.1233 - val_acc: 0.9667\n",
      "Epoch 20/50\n",
      "210/210 [==============================] - 0s 515us/step - loss: 0.1395 - acc: 0.9476 - val_loss: 0.1012 - val_acc: 0.9778\n",
      "Epoch 21/50\n",
      "210/210 [==============================] - 0s 508us/step - loss: 0.1174 - acc: 0.9524 - val_loss: 0.0932 - val_acc: 0.9667\n",
      "Epoch 22/50\n",
      "210/210 [==============================] - 0s 501us/step - loss: 0.1031 - acc: 0.9762 - val_loss: 0.1540 - val_acc: 0.9333\n",
      "Epoch 23/50\n",
      "210/210 [==============================] - 0s 502us/step - loss: 0.1710 - acc: 0.9333 - val_loss: 0.0967 - val_acc: 0.9444\n",
      "Epoch 24/50\n",
      "210/210 [==============================] - 0s 518us/step - loss: 0.2381 - acc: 0.9095 - val_loss: 0.7326 - val_acc: 0.7667\n",
      "Epoch 25/50\n",
      "210/210 [==============================] - 0s 507us/step - loss: 0.3190 - acc: 0.8714 - val_loss: 0.4786 - val_acc: 0.7667\n",
      "Epoch 26/50\n",
      "210/210 [==============================] - 0s 521us/step - loss: 0.3055 - acc: 0.8524 - val_loss: 0.1322 - val_acc: 0.9667\n",
      "Epoch 27/50\n",
      "210/210 [==============================] - 0s 491us/step - loss: 0.1945 - acc: 0.9381 - val_loss: 0.1975 - val_acc: 0.9111\n",
      "Epoch 28/50\n",
      "210/210 [==============================] - 0s 514us/step - loss: 0.1951 - acc: 0.9143 - val_loss: 0.1045 - val_acc: 0.9778\n",
      "Epoch 29/50\n",
      "210/210 [==============================] - 0s 516us/step - loss: 0.1168 - acc: 0.9714 - val_loss: 0.0729 - val_acc: 0.9778\n",
      "Epoch 30/50\n",
      "210/210 [==============================] - 0s 501us/step - loss: 0.1336 - acc: 0.9571 - val_loss: 0.0648 - val_acc: 0.9778\n",
      "Epoch 31/50\n",
      "210/210 [==============================] - 0s 506us/step - loss: 0.0615 - acc: 0.9905 - val_loss: 0.0574 - val_acc: 1.0000\n",
      "Epoch 32/50\n",
      "210/210 [==============================] - 0s 460us/step - loss: 0.0915 - acc: 0.9571 - val_loss: 0.0572 - val_acc: 0.9778\n",
      "Epoch 33/50\n",
      "210/210 [==============================] - 0s 463us/step - loss: 0.0662 - acc: 0.9714 - val_loss: 0.0428 - val_acc: 1.0000\n",
      "Epoch 34/50\n",
      "210/210 [==============================] - 0s 459us/step - loss: 0.0748 - acc: 0.9667 - val_loss: 0.0570 - val_acc: 0.9778\n",
      "Epoch 35/50\n",
      "210/210 [==============================] - 0s 460us/step - loss: 0.0719 - acc: 0.9714 - val_loss: 0.0372 - val_acc: 1.0000\n",
      "Epoch 36/50\n",
      "210/210 [==============================] - 0s 480us/step - loss: 0.0505 - acc: 0.9905 - val_loss: 0.1164 - val_acc: 0.9444\n",
      "Epoch 37/50\n",
      "210/210 [==============================] - 0s 506us/step - loss: 0.0894 - acc: 0.9667 - val_loss: 0.1675 - val_acc: 0.9000\n",
      "Epoch 38/50\n",
      "210/210 [==============================] - 0s 534us/step - loss: 0.0928 - acc: 0.9619 - val_loss: 0.2181 - val_acc: 0.9333\n",
      "Epoch 39/50\n",
      "210/210 [==============================] - 0s 529us/step - loss: 0.1071 - acc: 0.9619 - val_loss: 0.0356 - val_acc: 1.0000\n",
      "Epoch 40/50\n",
      "210/210 [==============================] - 0s 529us/step - loss: 0.0686 - acc: 0.9762 - val_loss: 0.0263 - val_acc: 1.0000\n",
      "Epoch 41/50\n",
      "210/210 [==============================] - 0s 542us/step - loss: 0.0536 - acc: 0.9762 - val_loss: 0.0228 - val_acc: 1.0000\n",
      "Epoch 42/50\n",
      "210/210 [==============================] - 0s 508us/step - loss: 0.0348 - acc: 0.9810 - val_loss: 0.0186 - val_acc: 1.0000\n",
      "Epoch 43/50\n",
      "210/210 [==============================] - 0s 541us/step - loss: 0.0382 - acc: 0.9952 - val_loss: 0.0163 - val_acc: 1.0000\n",
      "Epoch 44/50\n",
      "210/210 [==============================] - 0s 557us/step - loss: 0.0251 - acc: 1.0000 - val_loss: 0.0121 - val_acc: 1.0000\n",
      "Epoch 45/50\n",
      "210/210 [==============================] - 0s 523us/step - loss: 0.0189 - acc: 1.0000 - val_loss: 0.0102 - val_acc: 1.0000\n",
      "Epoch 46/50\n",
      "210/210 [==============================] - 0s 508us/step - loss: 0.0141 - acc: 1.0000 - val_loss: 0.0169 - val_acc: 1.0000\n",
      "Epoch 47/50\n",
      "210/210 [==============================] - 0s 515us/step - loss: 0.0282 - acc: 0.9952 - val_loss: 0.0097 - val_acc: 1.0000\n",
      "Epoch 48/50\n",
      "210/210 [==============================] - 0s 535us/step - loss: 0.0136 - acc: 1.0000 - val_loss: 0.0123 - val_acc: 1.0000\n",
      "Epoch 49/50\n",
      "210/210 [==============================] - 0s 484us/step - loss: 0.0137 - acc: 0.9952 - val_loss: 0.0062 - val_acc: 1.0000\n",
      "Epoch 50/50\n",
      "210/210 [==============================] - 0s 502us/step - loss: 0.0116 - acc: 1.0000 - val_loss: 0.0040 - val_acc: 1.0000\n"
     ]
    },
    {
     "data": {
      "image/png": "[encoded data removed]",
      "text/plain": [
       "<Figure size 432x288 with 1 Axes>"
      ]
     },
     "metadata": {
      "needs_background": "light"
     },
     "output_type": "display_data"
    }
   ],
   "source": [
    "model = Sequential()\n",
    "model.add(Dense(512, activation='relu', input_shape=(5184,)))\n",
    "model.add(Dropout(0.2))\n",
    "model.add(Dense(512, activation='relu'))\n",
    "model.add(Dropout(0.2))\n",
    "model.add(Dense(num_classes, activation='softmax'))\n",
    "\n",
    "model.summary()\n",
    "\n",
    "adam = optimizers.Adam()\n",
    "batch_size = 64\n",
    "epochs = 50\n",
    "\n",
    "model.compile(loss='categorical_crossentropy',\n",
    "              optimizer=adam,metrics=['accuracy'])\n",
    "\n",
    "history = model.fit(X_train, Y_train,\n",
    "                    batch_size=batch_size,\n",
    "                    epochs=epochs,\n",
    "                    verbose=1,\n",
    "                   validation_split=0.3)\n",
    "\n",
    "plt.plot(history.history['acc'])\n",
    "plt.plot(history.history['val_acc'])\n",
    "plt.title('model accuracy')\n",
    "plt.ylabel('accuracy')\n",
    "plt.xlabel('epoch')\n",
    "plt.legend(['train', 'val'], loc='upper left')\n",
    "plt.show()"
   ]
  },
  {
   "cell_type": "markdown",
   "metadata": {},
   "source": [
    "### Testing the Model"
   ]
  },
  {
   "cell_type": "code",
   "execution_count": 39,
   "metadata": {},
   "outputs": [
    {
     "data": {
      "text/plain": [
       "array([[ 0.,  1.,  0.]], dtype=float32)"
      ]
     },
     "execution_count": 39,
     "metadata": {},
     "output_type": "execute_result"
    }
   ],
   "source": [
    "#Testing the Model\n",
    "X_test = generate_a_disk()\n",
    "X_test = X_test.reshape(1, X_test.shape[0])\n",
    "model.predict(X_test)"
   ]
  },
  {
   "cell_type": "markdown",
   "metadata": {},
   "source": [
    "## 4. Visualization of the Solution"
   ]
  },
  {
   "cell_type": "code",
   "execution_count": 40,
   "metadata": {},
   "outputs": [
    {
     "data": {
      "image/png": "[encoded data removed]",
      "text/plain": [
       "<Figure size 432x288 with 1 Axes>"
      ]
     },
     "metadata": {
      "needs_background": "light"
     },
     "output_type": "display_data"
    }
   ],
   "source": [
    "weights = model.get_weights()\n",
    "\n",
    "plt.imshow(np.array(weights[0])[:,0:1].reshape(72,72), cmap = cm.gray)\n",
    "plt.show()"
   ]
  },
  {
   "cell_type": "code",
   "execution_count": 41,
   "metadata": {},
   "outputs": [
    {
     "data": {
      "image/png": "[encoded data removed]",
      "text/plain": [
       "<Figure size 432x288 with 1 Axes>"
      ]
     },
     "metadata": {
      "needs_background": "light"
     },
     "output_type": "display_data"
    }
   ],
   "source": [
    "plt.imshow(np.array(weights[0])[:,1:2].reshape(72,72), cmap = cm.gray)\n",
    "plt.show()"
   ]
  },
  {
   "cell_type": "code",
   "execution_count": 42,
   "metadata": {},
   "outputs": [
    {
     "data": {
      "image/png": "[encoded data removed]",
      "text/plain": [
       "<Figure size 432x288 with 1 Axes>"
      ]
     },
     "metadata": {
      "needs_background": "light"
     },
     "output_type": "display_data"
    }
   ],
   "source": [
    "plt.imshow(np.array(weights[0])[:,2:3].reshape(72,72), cmap = cm.gray)\n",
    "plt.show()"
   ]
  },
  {
   "cell_type": "markdown",
   "metadata": {},
   "source": [
    "## 5. A More Difficult Classification Problem"
   ]
  },
  {
   "cell_type": "markdown",
   "metadata": {},
   "source": [
    "### Generating the Train Dataset"
   ]
  },
  {
   "cell_type": "code",
   "execution_count": 43,
   "metadata": {},
   "outputs": [
    {
     "name": "stdout",
     "output_type": "stream",
     "text": [
      "Creating data for Classification:\n"
     ]
    }
   ],
   "source": [
    "[X_train, Y_train] = generate_dataset_classification(300, 20, True)\n",
    "Y_train = keras.utils.to_categorical(Y_train, num_classes)"
   ]
  },
  {
   "cell_type": "markdown",
   "metadata": {},
   "source": [
    "### Generating the Test Dataset"
   ]
  },
  {
   "cell_type": "code",
   "execution_count": 44,
   "metadata": {},
   "outputs": [
    {
     "name": "stdout",
     "output_type": "stream",
     "text": [
      "Creating data for Classification:\n",
      "(300, 5184) (300, 3)\n"
     ]
    }
   ],
   "source": [
    "[X_test, Y_test] = generate_test_set_classification()\n",
    "\n",
    "print X_test.shape, Y_test.shape"
   ]
  },
  {
   "cell_type": "markdown",
   "metadata": {},
   "source": [
    "##### Here we are using the previous model (Only Fully Connected Layers and Dropout) to classify images (with noise)"
   ]
  },
  {
   "cell_type": "code",
   "execution_count": 45,
   "metadata": {},
   "outputs": [
    {
     "name": "stdout",
     "output_type": "stream",
     "text": [
      "Train on 210 samples, validate on 90 samples\n",
      "Epoch 1/50\n",
      "210/210 [==============================] - 0s 2ms/step - loss: 7.3110 - acc: 0.3286 - val_loss: 11.1036 - val_acc: 0.3111\n",
      "Epoch 2/50\n",
      "210/210 [==============================] - 0s 529us/step - loss: 10.6686 - acc: 0.3381 - val_loss: 11.1036 - val_acc: 0.3111\n",
      "Epoch 3/50\n",
      "210/210 [==============================] - 0s 514us/step - loss: 10.6686 - acc: 0.3381 - val_loss: 11.1036 - val_acc: 0.3111\n",
      "Epoch 4/50\n",
      "210/210 [==============================] - 0s 518us/step - loss: 10.6686 - acc: 0.3381 - val_loss: 11.1036 - val_acc: 0.3111\n",
      "Epoch 5/50\n",
      "210/210 [==============================] - 0s 531us/step - loss: 10.6686 - acc: 0.3381 - val_loss: 11.1036 - val_acc: 0.3111\n",
      "Epoch 6/50\n",
      "210/210 [==============================] - 0s 514us/step - loss: 10.6686 - acc: 0.3381 - val_loss: 11.1036 - val_acc: 0.3111\n",
      "Epoch 7/50\n",
      "210/210 [==============================] - 0s 511us/step - loss: 10.6686 - acc: 0.3381 - val_loss: 11.1036 - val_acc: 0.3111\n",
      "Epoch 8/50\n",
      "210/210 [==============================] - 0s 531us/step - loss: 10.6686 - acc: 0.3381 - val_loss: 11.1036 - val_acc: 0.3111\n",
      "Epoch 9/50\n",
      "210/210 [==============================] - 0s 553us/step - loss: 10.6686 - acc: 0.3381 - val_loss: 11.1036 - val_acc: 0.3111\n",
      "Epoch 10/50\n",
      "210/210 [==============================] - 0s 537us/step - loss: 10.6686 - acc: 0.3381 - val_loss: 11.1036 - val_acc: 0.3111\n",
      "Epoch 11/50\n",
      "210/210 [==============================] - 0s 517us/step - loss: 10.6686 - acc: 0.3381 - val_loss: 11.1036 - val_acc: 0.3111\n",
      "Epoch 12/50\n",
      "210/210 [==============================] - 0s 552us/step - loss: 10.6686 - acc: 0.3381 - val_loss: 11.1036 - val_acc: 0.3111\n",
      "Epoch 13/50\n",
      "210/210 [==============================] - 0s 560us/step - loss: 10.6686 - acc: 0.3381 - val_loss: 11.1036 - val_acc: 0.3111\n",
      "Epoch 14/50\n",
      "210/210 [==============================] - 0s 531us/step - loss: 10.6686 - acc: 0.3381 - val_loss: 11.1036 - val_acc: 0.3111\n",
      "Epoch 15/50\n",
      "210/210 [==============================] - 0s 536us/step - loss: 10.6686 - acc: 0.3381 - val_loss: 11.1036 - val_acc: 0.3111\n",
      "Epoch 16/50\n",
      "210/210 [==============================] - 0s 523us/step - loss: 10.6686 - acc: 0.3381 - val_loss: 11.1036 - val_acc: 0.3111\n",
      "Epoch 17/50\n",
      "210/210 [==============================] - 0s 537us/step - loss: 10.6686 - acc: 0.3381 - val_loss: 11.1036 - val_acc: 0.3111\n",
      "Epoch 18/50\n",
      "210/210 [==============================] - 0s 537us/step - loss: 10.6686 - acc: 0.3381 - val_loss: 11.1036 - val_acc: 0.3111\n",
      "Epoch 19/50\n",
      "210/210 [==============================] - 0s 524us/step - loss: 10.6686 - acc: 0.3381 - val_loss: 11.1036 - val_acc: 0.3111\n",
      "Epoch 20/50\n",
      "210/210 [==============================] - 0s 526us/step - loss: 10.6686 - acc: 0.3381 - val_loss: 11.1036 - val_acc: 0.3111\n",
      "Epoch 21/50\n",
      "210/210 [==============================] - 0s 511us/step - loss: 10.6686 - acc: 0.3381 - val_loss: 11.1036 - val_acc: 0.3111\n",
      "Epoch 22/50\n",
      "210/210 [==============================] - 0s 519us/step - loss: 10.6686 - acc: 0.3381 - val_loss: 11.1036 - val_acc: 0.3111\n",
      "Epoch 23/50\n",
      "210/210 [==============================] - 0s 510us/step - loss: 10.6686 - acc: 0.3381 - val_loss: 11.1036 - val_acc: 0.3111\n",
      "Epoch 24/50\n",
      "210/210 [==============================] - 0s 553us/step - loss: 10.6686 - acc: 0.3381 - val_loss: 11.1036 - val_acc: 0.3111\n",
      "Epoch 25/50\n",
      "210/210 [==============================] - 0s 517us/step - loss: 10.6686 - acc: 0.3381 - val_loss: 11.1036 - val_acc: 0.3111\n",
      "Epoch 26/50\n",
      "210/210 [==============================] - 0s 520us/step - loss: 10.6686 - acc: 0.3381 - val_loss: 11.1036 - val_acc: 0.3111\n",
      "Epoch 27/50\n",
      "210/210 [==============================] - 0s 536us/step - loss: 10.6686 - acc: 0.3381 - val_loss: 11.1036 - val_acc: 0.3111\n",
      "Epoch 28/50\n",
      "210/210 [==============================] - 0s 521us/step - loss: 10.6686 - acc: 0.3381 - val_loss: 11.1036 - val_acc: 0.3111\n",
      "Epoch 29/50\n",
      "210/210 [==============================] - 0s 477us/step - loss: 10.6686 - acc: 0.3381 - val_loss: 11.1036 - val_acc: 0.3111\n",
      "Epoch 30/50\n",
      "210/210 [==============================] - 0s 542us/step - loss: 10.6686 - acc: 0.3381 - val_loss: 11.1036 - val_acc: 0.3111\n",
      "Epoch 31/50\n",
      "210/210 [==============================] - 0s 568us/step - loss: 10.6686 - acc: 0.3381 - val_loss: 11.1036 - val_acc: 0.3111\n",
      "Epoch 32/50\n",
      "210/210 [==============================] - 0s 527us/step - loss: 10.6686 - acc: 0.3381 - val_loss: 11.1036 - val_acc: 0.3111\n",
      "Epoch 33/50\n",
      "210/210 [==============================] - 0s 554us/step - loss: 10.6686 - acc: 0.3381 - val_loss: 11.1036 - val_acc: 0.3111\n",
      "Epoch 34/50\n",
      "210/210 [==============================] - 0s 562us/step - loss: 10.6686 - acc: 0.3381 - val_loss: 11.1036 - val_acc: 0.3111\n",
      "Epoch 35/50\n",
      "210/210 [==============================] - 0s 543us/step - loss: 10.6686 - acc: 0.3381 - val_loss: 11.1036 - val_acc: 0.3111\n",
      "Epoch 36/50\n",
      "210/210 [==============================] - 0s 523us/step - loss: 10.6686 - acc: 0.3381 - val_loss: 11.1036 - val_acc: 0.3111\n",
      "Epoch 37/50\n",
      "210/210 [==============================] - 0s 500us/step - loss: 10.6686 - acc: 0.3381 - val_loss: 11.1036 - val_acc: 0.3111\n",
      "Epoch 38/50\n",
      "210/210 [==============================] - 0s 499us/step - loss: 10.6686 - acc: 0.3381 - val_loss: 11.1036 - val_acc: 0.3111\n",
      "Epoch 39/50\n",
      "210/210 [==============================] - 0s 533us/step - loss: 10.6686 - acc: 0.3381 - val_loss: 11.1036 - val_acc: 0.3111\n",
      "Epoch 40/50\n",
      "210/210 [==============================] - 0s 464us/step - loss: 10.6686 - acc: 0.3381 - val_loss: 11.1036 - val_acc: 0.3111\n",
      "Epoch 41/50\n",
      "210/210 [==============================] - 0s 464us/step - loss: 10.6686 - acc: 0.3381 - val_loss: 11.1036 - val_acc: 0.3111\n",
      "Epoch 42/50\n",
      "210/210 [==============================] - 0s 453us/step - loss: 10.6686 - acc: 0.3381 - val_loss: 11.1036 - val_acc: 0.3111\n",
      "Epoch 43/50\n",
      "210/210 [==============================] - 0s 541us/step - loss: 10.6686 - acc: 0.3381 - val_loss: 11.1036 - val_acc: 0.3111\n",
      "Epoch 44/50\n",
      "210/210 [==============================] - 0s 505us/step - loss: 10.6686 - acc: 0.3381 - val_loss: 11.1036 - val_acc: 0.3111\n",
      "Epoch 45/50\n",
      "210/210 [==============================] - 0s 487us/step - loss: 10.6686 - acc: 0.3381 - val_loss: 11.1036 - val_acc: 0.3111\n",
      "Epoch 46/50\n",
      "210/210 [==============================] - 0s 519us/step - loss: 10.6686 - acc: 0.3381 - val_loss: 11.1036 - val_acc: 0.3111\n",
      "Epoch 47/50\n",
      "210/210 [==============================] - 0s 524us/step - loss: 10.6686 - acc: 0.3381 - val_loss: 11.1036 - val_acc: 0.3111\n",
      "Epoch 48/50\n",
      "210/210 [==============================] - 0s 526us/step - loss: 10.6686 - acc: 0.3381 - val_loss: 11.1036 - val_acc: 0.3111\n",
      "Epoch 49/50\n",
      "210/210 [==============================] - 0s 460us/step - loss: 10.6686 - acc: 0.3381 - val_loss: 11.1036 - val_acc: 0.3111\n",
      "Epoch 50/50\n",
      "210/210 [==============================] - 0s 455us/step - loss: 10.6686 - acc: 0.3381 - val_loss: 11.1036 - val_acc: 0.3111\n"
     ]
    },
    {
     "data": {
      "image/png": "[encoded data removed]",
      "text/plain": [
       "<Figure size 432x288 with 1 Axes>"
      ]
     },
     "metadata": {
      "needs_background": "light"
     },
     "output_type": "display_data"
    }
   ],
   "source": [
    "model = Sequential()\n",
    "model.add(Dense(512, activation='relu', input_shape=(5184,)))\n",
    "model.add(Dropout(0.2))\n",
    "model.add(Dense(512, activation='relu'))\n",
    "model.add(Dropout(0.2))\n",
    "model.add(Dense(num_classes, activation='softmax'))\n",
    "\n",
    "\n",
    "batch_size = 64\n",
    "num_classes = 3\n",
    "epochs = 50\n",
    "\n",
    "model.compile(loss='categorical_crossentropy',\n",
    "              optimizer=adam,\n",
    "              metrics=['accuracy'])\n",
    "\n",
    "history = model.fit(X_train, Y_train,\n",
    "                    batch_size=batch_size,\n",
    "                    epochs=epochs,\n",
    "                    verbose=1,\n",
    "                   validation_split=0.3)\n",
    "\n",
    "plt.plot(history.history['acc'])\n",
    "plt.plot(history.history['val_acc'])\n",
    "plt.title('model accuracy')\n",
    "plt.ylabel('accuracy')\n",
    "plt.xlabel('epoch')\n",
    "plt.legend(['train', 'val'], loc='upper left')\n",
    "plt.show()"
   ]
  },
  {
   "cell_type": "code",
   "execution_count": 46,
   "metadata": {},
   "outputs": [
    {
     "name": "stdout",
     "output_type": "stream",
     "text": [
      "300/300 [==============================] - 0s 92us/step\n",
      "('Test loss:', 10.637942924499512)\n",
      "('Test accuracy:', 0.34000000009934106)\n"
     ]
    }
   ],
   "source": [
    "score = model.evaluate(X_test, Y_test)\n",
    "print('Test loss:', score[0])\n",
    "print('Test accuracy:', score[1])"
   ]
  },
  {
   "cell_type": "markdown",
   "metadata": {},
   "source": [
    "#### We make an observation that when the dataset has noise then just fully connected layers fails to recognize the images and the result we get is equivalent to random classification. 1/3 = 0.33 (approximate as the number of classes are 3)"
   ]
  },
  {
   "cell_type": "markdown",
   "metadata": {},
   "source": [
    "### Using Convolutional Neural Network\n",
    "\n",
    "#### Note: Here we are generating training data again because we want to train CNNs on more data to reduce the variance of the model."
   ]
  },
  {
   "cell_type": "code",
   "execution_count": 48,
   "metadata": {},
   "outputs": [
    {
     "name": "stdout",
     "output_type": "stream",
     "text": [
      "Creating data for Classification:\n",
      "('X_train shape:', (5000, 72, 72, 1))\n",
      "(5000, 'train samples')\n",
      "('X_test shape:', (300, 72, 72, 1))\n",
      "(300, 'test samples')\n",
      "_________________________________________________________________\n",
      "Layer (type)                 Output Shape              Param #   \n",
      "=================================================================\n",
      "conv2d_4 (Conv2D)            (None, 70, 70, 32)        320       \n",
      "_________________________________________________________________\n",
      "conv2d_5 (Conv2D)            (None, 66, 66, 64)        51264     \n",
      "_________________________________________________________________\n",
      "max_pooling2d_3 (MaxPooling2 (None, 33, 33, 64)        0         \n",
      "_________________________________________________________________\n",
      "conv2d_6 (Conv2D)            (None, 31, 31, 64)        36928     \n",
      "_________________________________________________________________\n",
      "max_pooling2d_4 (MaxPooling2 (None, 15, 15, 64)        0         \n",
      "_________________________________________________________________\n",
      "dropout_17 (Dropout)         (None, 15, 15, 64)        0         \n",
      "_________________________________________________________________\n",
      "flatten_2 (Flatten)          (None, 14400)             0         \n",
      "_________________________________________________________________\n",
      "dense_24 (Dense)             (None, 128)               1843328   \n",
      "_________________________________________________________________\n",
      "dropout_18 (Dropout)         (None, 128)               0         \n",
      "_________________________________________________________________\n",
      "dense_25 (Dense)             (None, 3)                 387       \n",
      "=================================================================\n",
      "Total params: 1,932,227\n",
      "Trainable params: 1,932,227\n",
      "Non-trainable params: 0\n",
      "_________________________________________________________________\n",
      "Train on 3500 samples, validate on 1500 samples\n",
      "Epoch 1/10\n",
      "3500/3500 [==============================] - 49s 14ms/step - loss: 0.9298 - acc: 0.5423 - val_loss: 0.7099 - val_acc: 0.6767\n",
      "Epoch 2/10\n",
      "3500/3500 [==============================] - 50s 14ms/step - loss: 0.4405 - acc: 0.8354 - val_loss: 0.2349 - val_acc: 0.9173\n",
      "Epoch 3/10\n",
      "3500/3500 [==============================] - 50s 14ms/step - loss: 0.1695 - acc: 0.9380 - val_loss: 0.1458 - val_acc: 0.9480\n",
      "Epoch 4/10\n",
      "3500/3500 [==============================] - 49s 14ms/step - loss: 0.1225 - acc: 0.9620 - val_loss: 0.1113 - val_acc: 0.9613\n",
      "Epoch 5/10\n",
      "3500/3500 [==============================] - 49s 14ms/step - loss: 0.0758 - acc: 0.9717 - val_loss: 0.0927 - val_acc: 0.9633\n",
      "Epoch 6/10\n",
      "3500/3500 [==============================] - 49s 14ms/step - loss: 0.0936 - acc: 0.9663 - val_loss: 0.1415 - val_acc: 0.9627\n",
      "Epoch 7/10\n",
      "3500/3500 [==============================] - 49s 14ms/step - loss: 0.0732 - acc: 0.9760 - val_loss: 0.0896 - val_acc: 0.9660\n",
      "Epoch 8/10\n",
      "3500/3500 [==============================] - 49s 14ms/step - loss: 0.0467 - acc: 0.9846 - val_loss: 0.1029 - val_acc: 0.9687\n",
      "Epoch 9/10\n",
      "3500/3500 [==============================] - 49s 14ms/step - loss: 0.0438 - acc: 0.9857 - val_loss: 0.0680 - val_acc: 0.9787\n",
      "Epoch 10/10\n",
      "3500/3500 [==============================] - 49s 14ms/step - loss: 0.0293 - acc: 0.9911 - val_loss: 0.0617 - val_acc: 0.9760\n"
     ]
    },
    {
     "data": {
      "image/png": "[encoded data removed]",
      "text/plain": [
       "<Figure size 432x288 with 1 Axes>"
      ]
     },
     "metadata": {
      "needs_background": "light"
     },
     "output_type": "display_data"
    }
   ],
   "source": [
    "#Generate Dataset\n",
    "[X_train, Y_train] = generate_dataset_classification(5000, 20, True)\n",
    "Y_train = keras.utils.to_categorical(Y_train, num_classes)\n",
    "\n",
    "img_rows, img_cols = 72, 72\n",
    "epochs = 10\n",
    "batch_size = 64\n",
    "\n",
    "X_train = X_train.reshape(X_train.shape[0], img_rows, img_cols, 1)\n",
    "input_shape = (img_rows, img_cols, 1)\n",
    "\n",
    "X_train = X_train.astype('float32')\n",
    "#X_train /= 255\n",
    "print('X_train shape:', X_train.shape)\n",
    "print(X_train.shape[0], 'train samples')\n",
    "\n",
    "X_test = X_test.reshape(X_test.shape[0], img_rows, img_cols, 1)\n",
    "#X_test /= 255\n",
    "print('X_test shape:', X_test.shape)\n",
    "print(X_test.shape[0], 'test samples')\n",
    "\n",
    "model = Sequential()\n",
    "\n",
    "model.add(Conv2D(32, kernel_size=(3, 3),\n",
    "                 activation='relu',\n",
    "                 input_shape=input_shape))\n",
    "\n",
    "model.add(Conv2D(64, (5, 5), activation='relu'))\n",
    "model.add(MaxPooling2D(pool_size=(2, 2)))\n",
    "model.add(Conv2D(64, (3, 3), activation='relu'))\n",
    "model.add(MaxPooling2D(pool_size=(2, 2)))\n",
    "model.add(Dropout(0.25))\n",
    "model.add(Flatten())\n",
    "model.add(Dense(128, activation='relu'))\n",
    "model.add(Dropout(0.5))\n",
    "model.add(Dense(num_classes, activation='softmax'))\n",
    "\n",
    "model.summary()\n",
    "\n",
    "model.compile(loss=keras.losses.categorical_crossentropy,\n",
    "              optimizer=keras.optimizers.Adam(),\n",
    "              metrics=['accuracy'])\n",
    "\n",
    "history = model.fit(X_train, Y_train,\n",
    "          batch_size=batch_size,\n",
    "          epochs=epochs,\n",
    "          verbose=1,\n",
    "         validation_split=0.3)\n",
    "\n",
    "plt.plot(history.history['acc'])\n",
    "plt.plot(history.history['val_acc'])\n",
    "plt.title('model accuracy')\n",
    "plt.ylabel('accuracy')\n",
    "plt.xlabel('epoch')\n",
    "plt.legend(['train', 'val'], loc='upper left')\n",
    "plt.show()"
   ]
  },
  {
   "cell_type": "code",
   "execution_count": 49,
   "metadata": {},
   "outputs": [
    {
     "name": "stdout",
     "output_type": "stream",
     "text": [
      "300/300 [==============================] - 1s 4ms/step\n",
      "('Test loss:', 0.074374269843101498)\n",
      "('Test accuracy:', 0.9766666674613953)\n"
     ]
    }
   ],
   "source": [
    "score = model.evaluate(X_test, Y_test, verbose=1,batch_size=batch_size)\n",
    "print('Test loss:', score[0])\n",
    "print('Test accuracy:', score[1])"
   ]
  },
  {
   "cell_type": "markdown",
   "metadata": {},
   "source": [
    "## 6. A Regression Problem"
   ]
  },
  {
   "cell_type": "markdown",
   "metadata": {},
   "source": [
    "### Generate Train Dataset and Visualize it"
   ]
  },
  {
   "cell_type": "code",
   "execution_count": 50,
   "metadata": {},
   "outputs": [
    {
     "name": "stdout",
     "output_type": "stream",
     "text": [
      "Creating data:\n",
      "0\n",
      "10\n",
      "20\n",
      "30\n",
      "40\n",
      "50\n",
      "60\n",
      "70\n",
      "80\n",
      "90\n",
      "100\n",
      "110\n",
      "120\n",
      "130\n",
      "140\n",
      "150\n",
      "160\n",
      "170\n",
      "180\n",
      "190\n",
      "200\n",
      "210\n",
      "220\n",
      "230\n",
      "240\n",
      "250\n",
      "260\n",
      "270\n",
      "280\n",
      "290\n",
      "300\n",
      "310\n",
      "320\n",
      "330\n",
      "340\n",
      "350\n",
      "360\n",
      "370\n",
      "380\n",
      "390\n",
      "400\n",
      "410\n",
      "420\n",
      "430\n",
      "440\n",
      "450\n",
      "460\n",
      "470\n",
      "480\n",
      "490\n",
      "500\n",
      "510\n",
      "520\n",
      "530\n",
      "540\n",
      "550\n",
      "560\n",
      "570\n",
      "580\n",
      "590\n",
      "600\n",
      "610\n",
      "620\n",
      "630\n",
      "640\n",
      "650\n",
      "660\n",
      "670\n",
      "680\n",
      "690\n",
      "700\n",
      "710\n",
      "720\n",
      "730\n",
      "740\n",
      "750\n",
      "760\n",
      "770\n",
      "780\n",
      "790\n",
      "800\n",
      "810\n",
      "820\n",
      "830\n",
      "840\n",
      "850\n",
      "860\n",
      "870\n",
      "880\n",
      "890\n",
      "900\n",
      "910\n",
      "920\n",
      "930\n",
      "940\n",
      "950\n",
      "960\n",
      "970\n",
      "980\n",
      "990\n",
      "1000\n",
      "1010\n",
      "1020\n",
      "1030\n",
      "1040\n",
      "1050\n",
      "1060\n",
      "1070\n",
      "1080\n",
      "1090\n",
      "1100\n",
      "1110\n",
      "1120\n",
      "1130\n",
      "1140\n",
      "1150\n",
      "1160\n",
      "1170\n",
      "1180\n",
      "1190\n",
      "1200\n",
      "1210\n",
      "1220\n",
      "1230\n",
      "1240\n",
      "1250\n",
      "1260\n",
      "1270\n",
      "1280\n",
      "1290\n",
      "1300\n",
      "1310\n",
      "1320\n",
      "1330\n",
      "1340\n",
      "1350\n",
      "1360\n",
      "1370\n",
      "1380\n",
      "1390\n",
      "1400\n",
      "1410\n",
      "1420\n",
      "1430\n",
      "1440\n",
      "1450\n",
      "1460\n",
      "1470\n",
      "1480\n",
      "1490\n",
      "1500\n",
      "1510\n",
      "1520\n",
      "1530\n",
      "1540\n",
      "1550\n",
      "1560\n",
      "1570\n",
      "1580\n",
      "1590\n",
      "1600\n",
      "1610\n",
      "1620\n",
      "1630\n",
      "1640\n",
      "1650\n",
      "1660\n",
      "1670\n",
      "1680\n",
      "1690\n",
      "1700\n",
      "1710\n",
      "1720\n",
      "1730\n",
      "1740\n",
      "1750\n",
      "1760\n",
      "1770\n",
      "1780\n",
      "1790\n",
      "1800\n",
      "1810\n",
      "1820\n",
      "1830\n",
      "1840\n",
      "1850\n",
      "1860\n",
      "1870\n",
      "1880\n",
      "1890\n",
      "1900\n",
      "1910\n",
      "1920\n",
      "1930\n",
      "1940\n",
      "1950\n",
      "1960\n",
      "1970\n",
      "1980\n",
      "1990\n",
      "2000\n",
      "2010\n",
      "2020\n",
      "2030\n",
      "2040\n",
      "2050\n",
      "2060\n",
      "2070\n",
      "2080\n",
      "2090\n",
      "2100\n",
      "2110\n",
      "2120\n",
      "2130\n",
      "2140\n",
      "2150\n",
      "2160\n",
      "2170\n",
      "2180\n",
      "2190\n",
      "2200\n",
      "2210\n",
      "2220\n",
      "2230\n",
      "2240\n",
      "2250\n",
      "2260\n",
      "2270\n",
      "2280\n",
      "2290\n",
      "2300\n",
      "2310\n",
      "2320\n",
      "2330\n",
      "2340\n",
      "2350\n",
      "2360\n",
      "2370\n",
      "2380\n",
      "2390\n",
      "2400\n",
      "2410\n",
      "2420\n",
      "2430\n",
      "2440\n",
      "2450\n",
      "2460\n",
      "2470\n",
      "2480\n",
      "2490\n",
      "2500\n",
      "2510\n",
      "2520\n",
      "2530\n",
      "2540\n",
      "2550\n",
      "2560\n",
      "2570\n",
      "2580\n",
      "2590\n",
      "2600\n",
      "2610\n",
      "2620\n",
      "2630\n",
      "2640\n",
      "2650\n",
      "2660\n",
      "2670\n",
      "2680\n",
      "2690\n",
      "2700\n",
      "2710\n",
      "2720\n",
      "2730\n",
      "2740\n",
      "2750\n",
      "2760\n",
      "2770\n",
      "2780\n",
      "2790\n",
      "2800\n",
      "2810\n",
      "2820\n",
      "2830\n",
      "2840\n",
      "2850\n",
      "2860\n",
      "2870\n",
      "2880\n",
      "2890\n",
      "2900\n",
      "2910\n",
      "2920\n",
      "2930\n",
      "2940\n",
      "2950\n",
      "2960\n",
      "2970\n",
      "2980\n",
      "2990\n",
      "3000\n",
      "3010\n",
      "3020\n",
      "3030\n",
      "3040\n",
      "3050\n",
      "3060\n",
      "3070\n",
      "3080\n",
      "3090\n",
      "3100\n",
      "3110\n",
      "3120\n",
      "3130\n",
      "3140\n",
      "3150\n",
      "3160\n",
      "3170\n",
      "3180\n",
      "3190\n",
      "3200\n",
      "3210\n",
      "3220\n",
      "3230\n",
      "3240\n",
      "3250\n",
      "3260\n",
      "3270\n",
      "3280\n",
      "3290\n",
      "3300\n",
      "3310\n",
      "3320\n",
      "3330\n",
      "3340\n",
      "3350\n",
      "3360\n",
      "3370\n",
      "3380\n",
      "3390\n",
      "3400\n",
      "3410\n",
      "3420\n",
      "3430\n",
      "3440\n",
      "3450\n",
      "3460\n",
      "3470\n",
      "3480\n",
      "3490\n",
      "3500\n",
      "3510\n",
      "3520\n",
      "3530\n",
      "3540\n",
      "3550\n",
      "3560\n",
      "3570\n",
      "3580\n",
      "3590\n",
      "3600\n",
      "3610\n",
      "3620\n",
      "3630\n",
      "3640\n",
      "3650\n",
      "3660\n",
      "3670\n",
      "3680\n",
      "3690\n",
      "3700\n",
      "3710\n",
      "3720\n",
      "3730\n",
      "3740\n",
      "3750\n",
      "3760\n",
      "3770\n",
      "3780\n",
      "3790\n",
      "3800\n",
      "3810\n",
      "3820\n",
      "3830\n",
      "3840\n",
      "3850\n",
      "3860\n",
      "3870\n",
      "3880\n",
      "3890\n",
      "3900\n",
      "3910\n",
      "3920\n",
      "3930\n",
      "3940\n",
      "3950\n",
      "3960\n",
      "3970\n",
      "3980\n",
      "3990\n",
      "4000\n",
      "4010\n",
      "4020\n",
      "4030\n",
      "4040\n",
      "4050\n",
      "4060\n",
      "4070\n",
      "4080\n",
      "4090\n",
      "4100\n",
      "4110\n",
      "4120\n",
      "4130\n",
      "4140\n",
      "4150\n",
      "4160\n",
      "4170\n",
      "4180\n",
      "4190\n",
      "4200\n",
      "4210\n",
      "4220\n",
      "4230\n",
      "4240\n",
      "4250\n",
      "4260\n",
      "4270\n",
      "4280\n",
      "4290\n",
      "4300\n",
      "4310\n",
      "4320\n",
      "4330\n",
      "4340\n",
      "4350\n",
      "4360\n",
      "4370\n",
      "4380\n",
      "4390\n",
      "4400\n",
      "4410\n",
      "4420\n",
      "4430\n",
      "4440\n",
      "4450\n",
      "4460\n",
      "4470\n",
      "4480\n",
      "4490\n",
      "4500\n",
      "4510\n",
      "4520\n",
      "4530\n",
      "4540\n",
      "4550\n",
      "4560\n",
      "4570\n",
      "4580\n",
      "4590\n",
      "4600\n",
      "4610\n",
      "4620\n",
      "4630\n",
      "4640\n",
      "4650\n",
      "4660\n",
      "4670\n",
      "4680\n",
      "4690\n",
      "4700\n",
      "4710\n",
      "4720\n",
      "4730\n",
      "4740\n",
      "4750\n",
      "4760\n",
      "4770\n",
      "4780\n",
      "4790\n",
      "4800\n",
      "4810\n",
      "4820\n",
      "4830\n",
      "4840\n",
      "4850\n",
      "4860\n",
      "4870\n",
      "4880\n",
      "4890\n",
      "4900\n",
      "4910\n",
      "4920\n",
      "4930\n",
      "4940\n",
      "4950\n",
      "4960\n",
      "4970\n",
      "4980\n",
      "4990\n"
     ]
    }
   ],
   "source": [
    "#Generate Dataset\n",
    "[X_train, Y_train] = generate_dataset_regression(5000, 20)"
   ]
  },
  {
   "cell_type": "code",
   "execution_count": 51,
   "metadata": {},
   "outputs": [
    {
     "name": "stdout",
     "output_type": "stream",
     "text": [
      "(5000, 5184)\n",
      "(5000, 6)\n"
     ]
    }
   ],
   "source": [
    "print X_train.shape\n",
    "print Y_train.shape"
   ]
  },
  {
   "cell_type": "code",
   "execution_count": 52,
   "metadata": {},
   "outputs": [
    {
     "data": {
      "image/png": "[encoded data removed]",
      "text/plain": [
       "<Figure size 360x360 with 1 Axes>"
      ]
     },
     "metadata": {
      "needs_background": "light"
     },
     "output_type": "display_data"
    }
   ],
   "source": [
    "visualize_prediction(X_train[0], Y_train[0])"
   ]
  },
  {
   "cell_type": "code",
   "execution_count": 53,
   "metadata": {},
   "outputs": [
    {
     "name": "stdout",
     "output_type": "stream",
     "text": [
      "[ 0.71212989  0.00944359  0.69961124  0.43494641  0.2201041   0.31469432]\n"
     ]
    }
   ],
   "source": [
    "print Y_train[0]"
   ]
  },
  {
   "cell_type": "markdown",
   "metadata": {},
   "source": [
    "### Generate the Test Dataset and Visualize it"
   ]
  },
  {
   "cell_type": "code",
   "execution_count": 54,
   "metadata": {},
   "outputs": [
    {
     "name": "stdout",
     "output_type": "stream",
     "text": [
      "Creating data:\n",
      "0\n",
      "10\n",
      "20\n",
      "30\n",
      "40\n",
      "50\n",
      "60\n",
      "70\n",
      "80\n",
      "90\n",
      "100\n",
      "110\n",
      "120\n",
      "130\n",
      "140\n",
      "150\n",
      "160\n",
      "170\n",
      "180\n",
      "190\n",
      "200\n",
      "210\n",
      "220\n",
      "230\n",
      "240\n",
      "250\n",
      "260\n",
      "270\n",
      "280\n",
      "290\n"
     ]
    }
   ],
   "source": [
    "[X_test, Y_test] = generate_test_set_regression()"
   ]
  },
  {
   "cell_type": "code",
   "execution_count": 55,
   "metadata": {},
   "outputs": [
    {
     "data": {
      "image/png": "[encoded data removed]",
      "text/plain": [
       "<Figure size 360x360 with 1 Axes>"
      ]
     },
     "metadata": {
      "needs_background": "light"
     },
     "output_type": "display_data"
    }
   ],
   "source": [
    "visualize_prediction(X_test[0], Y_test[0])"
   ]
  },
  {
   "cell_type": "code",
   "execution_count": 56,
   "metadata": {},
   "outputs": [
    {
     "name": "stdout",
     "output_type": "stream",
     "text": [
      "[ 0.94133439  0.93818117  0.67661723  0.27556678  0.36340393  0.33217252]\n"
     ]
    }
   ],
   "source": [
    "print Y_test[0]"
   ]
  },
  {
   "cell_type": "markdown",
   "metadata": {},
   "source": [
    "### Function for Sorting the Vertex Order Based on X Coordinate : Input to Regression Network"
   ]
  },
  {
   "cell_type": "code",
   "execution_count": 58,
   "metadata": {},
   "outputs": [],
   "source": [
    "def order_vertex(a):\n",
    "    list_a = list(a)\n",
    "    even_a = a[0:][::2]\n",
    "    odd_a = a[1:][::2]\n",
    "    b = zip(even_a,odd_a)\n",
    "    sort_b = sorted(b, key=lambda x: x[0])\n",
    "    ordered_a = [x for t in sort_b for x in t]\n",
    "    return np.array(ordered_a)"
   ]
  },
  {
   "cell_type": "code",
   "execution_count": 59,
   "metadata": {},
   "outputs": [],
   "source": [
    "# Order Y_train\n",
    "Y_train_ordered =np.apply_along_axis(order_vertex, 1, Y_train)\n",
    "\n",
    "#Order Y_test\n",
    "Y_test_ordered = np.apply_along_axis(order_vertex, 1, Y_test)"
   ]
  },
  {
   "cell_type": "markdown",
   "metadata": {},
   "source": [
    "### Checking if Vertices are Ordered"
   ]
  },
  {
   "cell_type": "code",
   "execution_count": 60,
   "metadata": {},
   "outputs": [
    {
     "name": "stdout",
     "output_type": "stream",
     "text": [
      "Y train\n",
      "[ 0.71212989  0.00944359  0.69961124  0.43494641  0.2201041   0.31469432]\n",
      "Ordered Y train\n",
      "[ 0.2201041   0.31469432  0.69961124  0.43494641  0.71212989  0.00944359]\n"
     ]
    }
   ],
   "source": [
    "print 'Y train'\n",
    "print Y_train[0]\n",
    "\n",
    "print 'Ordered Y train'\n",
    "print Y_train_ordered[0]"
   ]
  },
  {
   "cell_type": "code",
   "execution_count": 61,
   "metadata": {},
   "outputs": [
    {
     "name": "stdout",
     "output_type": "stream",
     "text": [
      "('X_train shape:', (5000, 72, 72, 1))\n",
      "(5000, 'train samples')\n",
      "('X_test shape:', (300, 72, 72, 1))\n",
      "(300, 'test samples')\n"
     ]
    }
   ],
   "source": [
    "X_train = X_train.reshape(X_train.shape[0], img_rows, img_cols, 1)\n",
    "input_shape = (img_rows, img_cols, 1)\n",
    "\n",
    "X_train = X_train.astype('float32')\n",
    "print('X_train shape:', X_train.shape)\n",
    "print(X_train.shape[0], 'train samples')\n",
    "\n",
    "X_test = X_test.reshape(X_test.shape[0], img_rows, img_cols, 1)\n",
    "print('X_test shape:', X_test.shape)\n",
    "print(X_test.shape[0], 'test samples')"
   ]
  },
  {
   "cell_type": "code",
   "execution_count": 72,
   "metadata": {},
   "outputs": [
    {
     "name": "stdout",
     "output_type": "stream",
     "text": [
      "_________________________________________________________________\n",
      "Layer (type)                 Output Shape              Param #   \n",
      "=================================================================\n",
      "conv2d_13 (Conv2D)           (None, 70, 70, 32)        320       \n",
      "_________________________________________________________________\n",
      "conv2d_14 (Conv2D)           (None, 66, 66, 64)        51264     \n",
      "_________________________________________________________________\n",
      "max_pooling2d_9 (MaxPooling2 (None, 33, 33, 64)        0         \n",
      "_________________________________________________________________\n",
      "conv2d_15 (Conv2D)           (None, 31, 31, 64)        36928     \n",
      "_________________________________________________________________\n",
      "max_pooling2d_10 (MaxPooling (None, 15, 15, 64)        0         \n",
      "_________________________________________________________________\n",
      "dropout_23 (Dropout)         (None, 15, 15, 64)        0         \n",
      "_________________________________________________________________\n",
      "flatten_5 (Flatten)          (None, 14400)             0         \n",
      "_________________________________________________________________\n",
      "dense_30 (Dense)             (None, 128)               1843328   \n",
      "_________________________________________________________________\n",
      "dropout_24 (Dropout)         (None, 128)               0         \n",
      "_________________________________________________________________\n",
      "dense_31 (Dense)             (None, 6)                 774       \n",
      "=================================================================\n",
      "Total params: 1,932,614\n",
      "Trainable params: 1,932,614\n",
      "Non-trainable params: 0\n",
      "_________________________________________________________________\n",
      "Train on 3500 samples, validate on 1500 samples\n",
      "Epoch 1/15\n",
      "3500/3500 [==============================] - 51s 14ms/step - loss: 0.0868 - mean_squared_error: 0.0868 - val_loss: 0.0388 - val_mean_squared_error: 0.0388\n",
      "Epoch 2/15\n",
      "3500/3500 [==============================] - 50s 14ms/step - loss: 0.0504 - mean_squared_error: 0.0504 - val_loss: 0.0254 - val_mean_squared_error: 0.0254\n",
      "Epoch 3/15\n",
      "3500/3500 [==============================] - 51s 15ms/step - loss: 0.0434 - mean_squared_error: 0.0434 - val_loss: 0.0262 - val_mean_squared_error: 0.0262\n",
      "Epoch 4/15\n",
      "3500/3500 [==============================] - 51s 15ms/step - loss: 0.0388 - mean_squared_error: 0.0388 - val_loss: 0.0194 - val_mean_squared_error: 0.0194\n",
      "Epoch 5/15\n",
      "3500/3500 [==============================] - 51s 15ms/step - loss: 0.0347 - mean_squared_error: 0.0347 - val_loss: 0.0265 - val_mean_squared_error: 0.0265\n",
      "Epoch 6/15\n",
      "3500/3500 [==============================] - 61s 17ms/step - loss: 0.0330 - mean_squared_error: 0.0330 - val_loss: 0.0175 - val_mean_squared_error: 0.0175\n",
      "Epoch 7/15\n",
      "3500/3500 [==============================] - 87s 25ms/step - loss: 0.0306 - mean_squared_error: 0.0306 - val_loss: 0.0147 - val_mean_squared_error: 0.0147\n",
      "Epoch 8/15\n",
      "3500/3500 [==============================] - 78s 22ms/step - loss: 0.0275 - mean_squared_error: 0.0275 - val_loss: 0.0150 - val_mean_squared_error: 0.0150\n",
      "Epoch 9/15\n",
      "3500/3500 [==============================] - 78s 22ms/step - loss: 0.0271 - mean_squared_error: 0.0271 - val_loss: 0.0123 - val_mean_squared_error: 0.0123\n",
      "Epoch 10/15\n",
      "3500/3500 [==============================] - 65s 19ms/step - loss: 0.0258 - mean_squared_error: 0.0258 - val_loss: 0.0122 - val_mean_squared_error: 0.0122\n",
      "Epoch 11/15\n",
      "3500/3500 [==============================] - 64s 18ms/step - loss: 0.0246 - mean_squared_error: 0.0246 - val_loss: 0.0120 - val_mean_squared_error: 0.0120\n",
      "Epoch 12/15\n",
      "3500/3500 [==============================] - 64s 18ms/step - loss: 0.0237 - mean_squared_error: 0.0237 - val_loss: 0.0133 - val_mean_squared_error: 0.0133\n",
      "Epoch 13/15\n",
      "3500/3500 [==============================] - 71s 20ms/step - loss: 0.0238 - mean_squared_error: 0.0238 - val_loss: 0.0119 - val_mean_squared_error: 0.0119\n",
      "Epoch 14/15\n",
      "3500/3500 [==============================] - 79s 22ms/step - loss: 0.0224 - mean_squared_error: 0.0224 - val_loss: 0.0112 - val_mean_squared_error: 0.0112\n",
      "Epoch 15/15\n",
      "3500/3500 [==============================] - 77s 22ms/step - loss: 0.0222 - mean_squared_error: 0.0222 - val_loss: 0.0111 - val_mean_squared_error: 0.0111\n"
     ]
    }
   ],
   "source": [
    "img_rows, img_cols = 72, 72\n",
    "epochs = 15\n",
    "batch_size = 64\n",
    "\n",
    "model = Sequential()\n",
    "\n",
    "model.add(Conv2D(32, kernel_size=(3, 3),\n",
    "                 activation='relu',\n",
    "                 input_shape=input_shape))\n",
    "\n",
    "model.add(Conv2D(64, (5, 5), activation='relu'))\n",
    "model.add(MaxPooling2D(pool_size=(2, 2)))\n",
    "model.add(Conv2D(64, (3, 3), activation='relu'))\n",
    "model.add(MaxPooling2D(pool_size=(2, 2)))\n",
    "model.add(Dropout(0.25))\n",
    "model.add(Flatten())\n",
    "model.add(Dense(128, activation='relu'))\n",
    "model.add(Dropout(0.5))\n",
    "model.add(Dense(6, activation='linear'))\n",
    "model.summary()\n",
    "\n",
    "model.compile(loss='mse', optimizer='adam', metrics=['mse'])\n",
    "history = model.fit(X_train, Y_train_ordered, epochs=epochs, batch_size=batch_size,  verbose=1, validation_split=0.3)"
   ]
  },
  {
   "cell_type": "markdown",
   "metadata": {},
   "source": [
    "### Evaluating the Performance on Test Dataset"
   ]
  },
  {
   "cell_type": "code",
   "execution_count": 73,
   "metadata": {},
   "outputs": [
    {
     "name": "stdout",
     "output_type": "stream",
     "text": [
      "300/300 [==============================] - 1s 4ms/step\n",
      "('Test Mean Sqaured loss:', 0.01117090533177058)\n"
     ]
    }
   ],
   "source": [
    "pred = model.predict(X_test)\n",
    "score = model.evaluate(X_test, Y_test_ordered)\n",
    "print('Test Mean Sqaured loss:', score[0])"
   ]
  },
  {
   "cell_type": "markdown",
   "metadata": {},
   "source": [
    "### Visualize the Test Image"
   ]
  },
  {
   "cell_type": "code",
   "execution_count": 80,
   "metadata": {},
   "outputs": [
    {
     "data": {
      "image/png": "[encoded data removed]",
      "text/plain": [
       "<Figure size 360x360 with 1 Axes>"
      ]
     },
     "metadata": {
      "needs_background": "light"
     },
     "output_type": "display_data"
    }
   ],
   "source": [
    "visualize_prediction(X_test[100], Y_test[100])"
   ]
  },
  {
   "cell_type": "markdown",
   "metadata": {},
   "source": [
    "### Visualize the Prediction for Test Image"
   ]
  },
  {
   "cell_type": "code",
   "execution_count": 81,
   "metadata": {},
   "outputs": [
    {
     "data": {
      "image/png": "[encoded data removed]",
      "text/plain": [
       "<Figure size 360x360 with 1 Axes>"
      ]
     },
     "metadata": {
      "needs_background": "light"
     },
     "output_type": "display_data"
    }
   ],
   "source": [
    "visualize_prediction(X_test[100], pred[100])"
   ]
  },
  {
   "cell_type": "markdown",
   "metadata": {},
   "source": [
    "### Few More Visualizations of Predicted Coordinates and the GroundTruth Coordinates on Test Dataset"
   ]
  },
  {
   "cell_type": "code",
   "execution_count": 82,
   "metadata": {},
   "outputs": [
    {
     "data": {
      "image/png": "[encoded data removed]",
      "text/plain": [
       "<Figure size 360x360 with 1 Axes>"
      ]
     },
     "metadata": {
      "needs_background": "light"
     },
     "output_type": "display_data"
    }
   ],
   "source": [
    "visualize_prediction(X_test[50], Y_test[50])"
   ]
  },
  {
   "cell_type": "code",
   "execution_count": 83,
   "metadata": {},
   "outputs": [
    {
     "data": {
      "image/png": "[encoded data removed]",
      "text/plain": [
       "<Figure size 360x360 with 1 Axes>"
      ]
     },
     "metadata": {
      "needs_background": "light"
     },
     "output_type": "display_data"
    }
   ],
   "source": [
    "#Prediction\n",
    "visualize_prediction(X_test[50], pred[50])"
   ]
  },
  {
   "cell_type": "code",
   "execution_count": 99,
   "metadata": {},
   "outputs": [
    {
     "data": {
      "image/png": "[encoded data removed]",
      "text/plain": [
       "<Figure size 360x360 with 1 Axes>"
      ]
     },
     "metadata": {
      "needs_background": "light"
     },
     "output_type": "display_data"
    }
   ],
   "source": [
    "visualize_prediction(X_test[95], Y_test[95])"
   ]
  },
  {
   "cell_type": "code",
   "execution_count": 100,
   "metadata": {},
   "outputs": [
    {
     "data": {
      "image/png": "[encoded data removed]",
      "text/plain": [
       "<Figure size 360x360 with 1 Axes>"
      ]
     },
     "metadata": {
      "needs_background": "light"
     },
     "output_type": "display_data"
    }
   ],
   "source": [
    "# Prediction\n",
    "visualize_prediction(X_test[95], pred[95])"
   ]
  },
  {
   "cell_type": "markdown",
   "metadata": {},
   "source": [
    "## 7. Image Denoising"
   ]
  },
  {
   "cell_type": "markdown",
   "metadata": {},
   "source": [
    "### Noisy Data Generation\n",
    "\n",
    "#### Here we are modifying the images to induce the noises"
   ]
  },
  {
   "cell_type": "code",
   "execution_count": 73,
   "metadata": {},
   "outputs": [],
   "source": [
    "def generate_a_drawing_noise(figsize, U, V, noise=0.0):\n",
    "    fig = plt.figure(figsize=(figsize,figsize))\n",
    "    ax = plt.subplot(111)\n",
    "    plt.axis('Off')\n",
    "    ax.set_xlim(0,figsize)\n",
    "    ax.set_ylim(0,figsize)\n",
    "    ax.fill(U, V, \"k\")\n",
    "    fig.canvas.draw()\n",
    "    imdata_noise_free = np.frombuffer(fig.canvas.tostring_rgb(), dtype=np.uint8)[::3].astype(np.float32)\n",
    "    imdata_noise = imdata_noise_free + noise * np.random.random(imdata_noise_free.size)\n",
    "    plt.close(fig)\n",
    "    return imdata_noise_free, imdata_noise\n",
    "\n",
    "#-------------------------------------------------------------------------------\n",
    "\n",
    "def generate_a_rectangle_noise(noise=0.0, free_location=False):\n",
    "    figsize = 1.0    \n",
    "    U = np.zeros(4)\n",
    "    V = np.zeros(4)\n",
    "    if free_location:\n",
    "        corners = np.random.random(4)\n",
    "        top = max(corners[0], corners[1])\n",
    "        bottom = min(corners[0], corners[1])\n",
    "        left = min(corners[2], corners[3])\n",
    "        right = max(corners[2], corners[3])\n",
    "    else:\n",
    "        side = (0.3 + 0.7 * np.random.random()) * figsize\n",
    "        top = figsize/2 + side/2\n",
    "        bottom = figsize/2 - side/2\n",
    "        left = bottom\n",
    "        right = top\n",
    "    U[0] = U[1] = top\n",
    "    U[2] = U[3] = bottom\n",
    "    V[0] = V[3] = left\n",
    "    V[1] = V[2] = right\n",
    "    return generate_a_drawing_noise(figsize, U, V, noise)\n",
    "\n",
    "#----------------------------------------------------------------------------------\n",
    "\n",
    "def generate_a_disk_noise(noise=0.0, free_location=False):\n",
    "    figsize = 1.0\n",
    "    if free_location:\n",
    "        center = np.random.random(2)\n",
    "    else:\n",
    "        center = (figsize/2, figsize/2)\n",
    "    radius = (0.3 + 0.7 * np.random.random()) * figsize/2\n",
    "    N = 50\n",
    "    U = np.zeros(N)\n",
    "    V = np.zeros(N)\n",
    "    i = 0\n",
    "    for t in np.linspace(0, 2*np.pi, N):\n",
    "        U[i] = center[0] + np.cos(t) * radius\n",
    "        V[i] = center[1] + np.sin(t) * radius\n",
    "        i = i + 1\n",
    "    return generate_a_drawing_noise(figsize, U, V, noise)\n",
    "\n",
    "#-------------------------------------------------------------------------------------\n",
    "\n",
    "def generate_a_triangle_noise(noise=0.0, free_location=False):\n",
    "    figsize = 1.0\n",
    "    if free_location:\n",
    "        U = np.random.random(3)\n",
    "        V = np.random.random(3)\n",
    "    else:\n",
    "        size = (0.3 + 0.7 * np.random.random())*figsize/2\n",
    "        middle = figsize/2\n",
    "        U = (middle, middle+size, middle-size)\n",
    "        V = (middle+size, middle-size, middle-size)\n",
    "        \n",
    "    return generate_a_drawing_noise(figsize, U, V, noise)\n",
    "    \n",
    "\n",
    "#------------------------------------------------------------------------------------\n",
    "\n",
    "def generate_dataset_classification_noise(nb_samples, noise=0.0, free_location=False):\n",
    "    # Getting im_size:\n",
    "    im_size = generate_a_rectangle().shape[0]\n",
    "    X = np.zeros([nb_samples,im_size])\n",
    "    Y = np.zeros([nb_samples,im_size])\n",
    "    print('Creating data:')\n",
    "    for i in range(nb_samples):\n",
    "        if i % 10 == 0:\n",
    "            print(i)\n",
    "        category = np.random.randint(3)\n",
    "        if category == 0:\n",
    "            X[i], Y[i] = generate_a_rectangle_noise(noise, free_location)\n",
    "        elif category == 1: \n",
    "            X[i],Y[i] = generate_a_disk_noise(noise, free_location)\n",
    "        else:\n",
    "            X[i], Y[i] = generate_a_triangle_noise(noise, free_location)\n",
    "        \n",
    "    X = (X + noise) / (255 + 2 * noise)\n",
    "    Y = Y/255.0\n",
    "    return [X, Y]\n",
    "\n",
    "#------------------------------------------------------------------------------------------\n",
    "\n",
    "def generate_test_set_classification_noise():\n",
    "    np.random.seed(42)\n",
    "    [Y_test,X_test] = generate_dataset_classification_noise(10, 20, True)\n",
    "    return [Y_test, X_test]"
   ]
  },
  {
   "cell_type": "markdown",
   "metadata": {},
   "source": [
    "### Generate Dataset for Hourglass Network"
   ]
  },
  {
   "cell_type": "code",
   "execution_count": 110,
   "metadata": {},
   "outputs": [
    {
     "name": "stdout",
     "output_type": "stream",
     "text": [
      "Creating data:\n",
      "0\n",
      "10\n",
      "20\n",
      "30\n",
      "40\n",
      "50\n",
      "60\n",
      "70\n",
      "80\n",
      "90\n",
      "100\n",
      "110\n",
      "120\n",
      "130\n",
      "140\n",
      "150\n",
      "160\n",
      "170\n",
      "180\n",
      "190\n",
      "200\n",
      "210\n",
      "220\n",
      "230\n",
      "240\n",
      "250\n",
      "260\n",
      "270\n",
      "280\n",
      "290\n",
      "300\n",
      "310\n",
      "320\n",
      "330\n",
      "340\n",
      "350\n",
      "360\n",
      "370\n",
      "380\n",
      "390\n",
      "400\n",
      "410\n",
      "420\n",
      "430\n",
      "440\n",
      "450\n",
      "460\n",
      "470\n",
      "480\n",
      "490\n",
      "500\n",
      "510\n",
      "520\n",
      "530\n",
      "540\n",
      "550\n",
      "560\n",
      "570\n",
      "580\n",
      "590\n",
      "600\n",
      "610\n",
      "620\n",
      "630\n",
      "640\n",
      "650\n",
      "660\n",
      "670\n",
      "680\n",
      "690\n",
      "700\n",
      "710\n",
      "720\n",
      "730\n",
      "740\n",
      "750\n",
      "760\n",
      "770\n",
      "780\n",
      "790\n",
      "800\n",
      "810\n",
      "820\n",
      "830\n",
      "840\n",
      "850\n",
      "860\n",
      "870\n",
      "880\n",
      "890\n",
      "900\n",
      "910\n",
      "920\n",
      "930\n",
      "940\n",
      "950\n",
      "960\n",
      "970\n",
      "980\n",
      "990\n",
      "1000\n",
      "1010\n",
      "1020\n",
      "1030\n",
      "1040\n",
      "1050\n",
      "1060\n",
      "1070\n",
      "1080\n",
      "1090\n",
      "1100\n",
      "1110\n",
      "1120\n",
      "1130\n",
      "1140\n",
      "1150\n",
      "1160\n",
      "1170\n",
      "1180\n",
      "1190\n",
      "1200\n",
      "1210\n",
      "1220\n",
      "1230\n",
      "1240\n",
      "1250\n",
      "1260\n",
      "1270\n",
      "1280\n",
      "1290\n",
      "1300\n",
      "1310\n",
      "1320\n",
      "1330\n",
      "1340\n",
      "1350\n",
      "1360\n",
      "1370\n",
      "1380\n",
      "1390\n",
      "1400\n",
      "1410\n",
      "1420\n",
      "1430\n",
      "1440\n",
      "1450\n",
      "1460\n",
      "1470\n",
      "1480\n",
      "1490\n",
      "1500\n",
      "1510\n",
      "1520\n",
      "1530\n",
      "1540\n",
      "1550\n",
      "1560\n",
      "1570\n",
      "1580\n",
      "1590\n",
      "1600\n",
      "1610\n",
      "1620\n",
      "1630\n",
      "1640\n",
      "1650\n",
      "1660\n",
      "1670\n",
      "1680\n",
      "1690\n",
      "1700\n",
      "1710\n",
      "1720\n",
      "1730\n",
      "1740\n",
      "1750\n",
      "1760\n",
      "1770\n",
      "1780\n",
      "1790\n",
      "1800\n",
      "1810\n",
      "1820\n",
      "1830\n",
      "1840\n",
      "1850\n",
      "1860\n",
      "1870\n",
      "1880\n",
      "1890\n",
      "1900\n",
      "1910\n",
      "1920\n",
      "1930\n",
      "1940\n",
      "1950\n",
      "1960\n",
      "1970\n",
      "1980\n",
      "1990\n",
      "2000\n",
      "2010\n",
      "2020\n",
      "2030\n",
      "2040\n",
      "2050\n",
      "2060\n",
      "2070\n",
      "2080\n",
      "2090\n",
      "2100\n",
      "2110\n",
      "2120\n",
      "2130\n",
      "2140\n",
      "2150\n",
      "2160\n",
      "2170\n",
      "2180\n",
      "2190\n",
      "2200\n",
      "2210\n",
      "2220\n",
      "2230\n",
      "2240\n",
      "2250\n",
      "2260\n",
      "2270\n",
      "2280\n",
      "2290\n",
      "2300\n",
      "2310\n",
      "2320\n",
      "2330\n",
      "2340\n",
      "2350\n",
      "2360\n",
      "2370\n",
      "2380\n",
      "2390\n",
      "2400\n",
      "2410\n",
      "2420\n",
      "2430\n",
      "2440\n",
      "2450\n",
      "2460\n",
      "2470\n",
      "2480\n",
      "2490\n",
      "2500\n",
      "2510\n",
      "2520\n",
      "2530\n",
      "2540\n",
      "2550\n",
      "2560\n",
      "2570\n",
      "2580\n",
      "2590\n",
      "2600\n",
      "2610\n",
      "2620\n",
      "2630\n",
      "2640\n",
      "2650\n",
      "2660\n",
      "2670\n",
      "2680\n",
      "2690\n",
      "2700\n",
      "2710\n",
      "2720\n",
      "2730\n",
      "2740\n",
      "2750\n",
      "2760\n",
      "2770\n",
      "2780\n",
      "2790\n",
      "2800\n",
      "2810\n",
      "2820\n",
      "2830\n",
      "2840\n",
      "2850\n",
      "2860\n",
      "2870\n",
      "2880\n",
      "2890\n",
      "2900\n",
      "2910\n",
      "2920\n",
      "2930\n",
      "2940\n",
      "2950\n",
      "2960\n",
      "2970\n",
      "2980\n",
      "2990\n",
      "3000\n",
      "3010\n",
      "3020\n",
      "3030\n",
      "3040\n",
      "3050\n",
      "3060\n",
      "3070\n",
      "3080\n",
      "3090\n",
      "3100\n",
      "3110\n",
      "3120\n",
      "3130\n",
      "3140\n",
      "3150\n",
      "3160\n",
      "3170\n",
      "3180\n",
      "3190\n",
      "3200\n",
      "3210\n",
      "3220\n",
      "3230\n",
      "3240\n",
      "3250\n",
      "3260\n",
      "3270\n",
      "3280\n",
      "3290\n",
      "3300\n",
      "3310\n",
      "3320\n",
      "3330\n",
      "3340\n",
      "3350\n",
      "3360\n",
      "3370\n",
      "3380\n",
      "3390\n",
      "3400\n",
      "3410\n",
      "3420\n",
      "3430\n",
      "3440\n",
      "3450\n",
      "3460\n",
      "3470\n",
      "3480\n",
      "3490\n",
      "3500\n",
      "3510\n",
      "3520\n",
      "3530\n",
      "3540\n",
      "3550\n",
      "3560\n",
      "3570\n",
      "3580\n",
      "3590\n",
      "3600\n",
      "3610\n",
      "3620\n",
      "3630\n",
      "3640\n",
      "3650\n",
      "3660\n",
      "3670\n",
      "3680\n",
      "3690\n",
      "3700\n",
      "3710\n",
      "3720\n",
      "3730\n",
      "3740\n",
      "3750\n",
      "3760\n",
      "3770\n",
      "3780\n",
      "3790\n",
      "3800\n",
      "3810\n",
      "3820\n",
      "3830\n",
      "3840\n",
      "3850\n",
      "3860\n",
      "3870\n",
      "3880\n",
      "3890\n",
      "3900\n",
      "3910\n",
      "3920\n",
      "3930\n",
      "3940\n",
      "3950\n",
      "3960\n",
      "3970\n",
      "3980\n",
      "3990\n",
      "4000\n",
      "4010\n",
      "4020\n",
      "4030\n",
      "4040\n",
      "4050\n",
      "4060\n",
      "4070\n",
      "4080\n",
      "4090\n",
      "4100\n",
      "4110\n",
      "4120\n",
      "4130\n",
      "4140\n",
      "4150\n",
      "4160\n",
      "4170\n",
      "4180\n",
      "4190\n",
      "4200\n",
      "4210\n",
      "4220\n",
      "4230\n",
      "4240\n",
      "4250\n",
      "4260\n",
      "4270\n",
      "4280\n",
      "4290\n",
      "4300\n",
      "4310\n",
      "4320\n",
      "4330\n",
      "4340\n",
      "4350\n",
      "4360\n",
      "4370\n",
      "4380\n",
      "4390\n",
      "4400\n",
      "4410\n",
      "4420\n",
      "4430\n",
      "4440\n",
      "4450\n",
      "4460\n",
      "4470\n",
      "4480\n",
      "4490\n",
      "4500\n",
      "4510\n",
      "4520\n",
      "4530\n",
      "4540\n",
      "4550\n",
      "4560\n",
      "4570\n",
      "4580\n",
      "4590\n",
      "4600\n",
      "4610\n",
      "4620\n",
      "4630\n",
      "4640\n",
      "4650\n",
      "4660\n",
      "4670\n",
      "4680\n",
      "4690\n",
      "4700\n",
      "4710\n",
      "4720\n",
      "4730\n",
      "4740\n",
      "4750\n",
      "4760\n",
      "4770\n",
      "4780\n",
      "4790\n",
      "4800\n",
      "4810\n",
      "4820\n",
      "4830\n",
      "4840\n",
      "4850\n",
      "4860\n",
      "4870\n",
      "4880\n",
      "4890\n",
      "4900\n",
      "4910\n",
      "4920\n",
      "4930\n",
      "4940\n",
      "4950\n",
      "4960\n",
      "4970\n",
      "4980\n",
      "4990\n"
     ]
    }
   ],
   "source": [
    "#Generate the Train Dataset \n",
    "# Here Y_train is the noise free image\n",
    "# And X_train is the noisy image\n",
    "[Y_train, X_train] = generate_dataset_classification_noise(5000, 20, True)"
   ]
  },
  {
   "cell_type": "markdown",
   "metadata": {},
   "source": [
    "### Visualize Noise Free Image"
   ]
  },
  {
   "cell_type": "code",
   "execution_count": 111,
   "metadata": {},
   "outputs": [
    {
     "data": {
      "text/plain": [
       "<matplotlib.image.AxesImage at 0x7f805c68bc50>"
      ]
     },
     "execution_count": 111,
     "metadata": {},
     "output_type": "execute_result"
    },
    {
     "data": {
      "image/png": "[encoded data removed]",
      "text/plain": [
       "<Figure size 432x288 with 1 Axes>"
      ]
     },
     "metadata": {
      "needs_background": "light"
     },
     "output_type": "display_data"
    }
   ],
   "source": [
    "plt.imshow(Y_train[0].reshape(72,72), cmap='gray')"
   ]
  },
  {
   "cell_type": "code",
   "execution_count": 112,
   "metadata": {},
   "outputs": [
    {
     "data": {
      "text/plain": [
       "<matplotlib.image.AxesImage at 0x7f805c67c950>"
      ]
     },
     "execution_count": 112,
     "metadata": {},
     "output_type": "execute_result"
    },
    {
     "data": {
      "image/png": "[encoded data removed]",
      "text/plain": [
       "<Figure size 432x288 with 1 Axes>"
      ]
     },
     "metadata": {
      "needs_background": "light"
     },
     "output_type": "display_data"
    }
   ],
   "source": [
    "plt.imshow(Y_train[200].reshape(72,72), cmap='gray')"
   ]
  },
  {
   "cell_type": "markdown",
   "metadata": {},
   "source": [
    "### Visualize Corresponding Noisy Images"
   ]
  },
  {
   "cell_type": "code",
   "execution_count": 113,
   "metadata": {},
   "outputs": [
    {
     "data": {
      "text/plain": [
       "<matplotlib.image.AxesImage at 0x7f805c5ee5d0>"
      ]
     },
     "execution_count": 113,
     "metadata": {},
     "output_type": "execute_result"
    },
    {
     "data": {
      "image/png": "[encoded data removed]",
      "text/plain": [
       "<Figure size 432x288 with 1 Axes>"
      ]
     },
     "metadata": {
      "needs_background": "light"
     },
     "output_type": "display_data"
    }
   ],
   "source": [
    "plt.imshow(X_train[0].reshape(72,72), cmap='gray')"
   ]
  },
  {
   "cell_type": "code",
   "execution_count": 114,
   "metadata": {},
   "outputs": [
    {
     "data": {
      "text/plain": [
       "<matplotlib.image.AxesImage at 0x7f805c562250>"
      ]
     },
     "execution_count": 114,
     "metadata": {},
     "output_type": "execute_result"
    },
    {
     "data": {
      "image/png": "[encoded data removed]",
      "text/plain": [
       "<Figure size 432x288 with 1 Axes>"
      ]
     },
     "metadata": {
      "needs_background": "light"
     },
     "output_type": "display_data"
    }
   ],
   "source": [
    "plt.imshow(X_train[200].reshape(72,72), cmap='gray')"
   ]
  },
  {
   "cell_type": "markdown",
   "metadata": {},
   "source": [
    "### Designing the Hour Glass Network for Denoising"
   ]
  },
  {
   "cell_type": "code",
   "execution_count": 115,
   "metadata": {},
   "outputs": [
    {
     "name": "stdout",
     "output_type": "stream",
     "text": [
      "(5000, 5184)\n",
      "(5000, 5184)\n",
      "('X_train shape:', (5000, 72, 72, 1))\n",
      "(5000, 'train samples')\n",
      "('Y_train shape:', (5000, 72, 72, 1))\n",
      "(5000, 'train samples')\n",
      "_________________________________________________________________\n",
      "Layer (type)                 Output Shape              Param #   \n",
      "=================================================================\n",
      "input_22 (InputLayer)        (None, 72, 72, 1)         0         \n",
      "_________________________________________________________________\n",
      "conv2d_203 (Conv2D)          (None, 72, 72, 72)        1872      \n",
      "_________________________________________________________________\n",
      "max_pooling2d_66 (MaxPooling (None, 36, 36, 72)        0         \n",
      "_________________________________________________________________\n",
      "conv2d_204 (Conv2D)          (None, 36, 36, 36)        23364     \n",
      "_________________________________________________________________\n",
      "max_pooling2d_67 (MaxPooling (None, 18, 18, 36)        0         \n",
      "_________________________________________________________________\n",
      "conv2d_205 (Conv2D)          (None, 18, 18, 18)        5850      \n",
      "_________________________________________________________________\n",
      "max_pooling2d_68 (MaxPooling (None, 9, 9, 18)          0         \n",
      "_________________________________________________________________\n",
      "conv2d_206 (Conv2D)          (None, 9, 9, 18)          2934      \n",
      "_________________________________________________________________\n",
      "up_sampling2d_34 (UpSampling (None, 18, 18, 18)        0         \n",
      "_________________________________________________________________\n",
      "conv2d_207 (Conv2D)          (None, 18, 18, 36)        5868      \n",
      "_________________________________________________________________\n",
      "up_sampling2d_35 (UpSampling (None, 36, 36, 36)        0         \n",
      "_________________________________________________________________\n",
      "conv2d_208 (Conv2D)          (None, 36, 36, 72)        23400     \n",
      "_________________________________________________________________\n",
      "up_sampling2d_36 (UpSampling (None, 72, 72, 72)        0         \n",
      "_________________________________________________________________\n",
      "conv2d_209 (Conv2D)          (None, 72, 72, 1)         1801      \n",
      "=================================================================\n",
      "Total params: 65,089\n",
      "Trainable params: 65,089\n",
      "Non-trainable params: 0\n",
      "_________________________________________________________________\n"
     ]
    }
   ],
   "source": [
    "img_rows, img_cols = 72, 72\n",
    "epochs = 30\n",
    "batch_size = 32\n",
    "\n",
    "print X_train.shape\n",
    "print Y_train.shape\n",
    "\n",
    "\n",
    "#--------------------------------------------------------------------------------\n",
    "X_train = X_train.reshape(X_train.shape[0], img_rows, img_cols, 1)\n",
    "#input_shape = (img_rows, img_cols, 1)\n",
    "\n",
    "X_train = X_train.astype('float32')\n",
    "\n",
    "print('X_train shape:', X_train.shape)\n",
    "print(X_train.shape[0], 'train samples')\n",
    "\n",
    "Y_train = Y_train.reshape(Y_train.shape[0],img_rows,img_cols,1)\n",
    "\n",
    "print('Y_train shape:', Y_train.shape)\n",
    "print(Y_train.shape[0],'train samples')\n",
    "\n",
    "#-------------------------------------------------------------------------------------\n",
    "\n",
    "input_img = Input(shape=(img_rows, img_cols, 1))\n",
    "\n",
    "#Encoder Network\n",
    "encoded1 = Conv2D(72, (5, 5), activation='relu', padding='same')(input_img)\n",
    "encoded2 = MaxPooling2D((2, 2), padding='same')(encoded1)\n",
    "encoded3 = Conv2D(36, (3, 3), activation='relu', padding='same')(encoded2)\n",
    "encoded4 = MaxPooling2D((2, 2), padding='same')(encoded3)\n",
    "encoded5 = Conv2D(18, (3, 3), activation='relu', padding='same')(encoded4)\n",
    "encoded6 = MaxPooling2D((2, 2), padding='same')(encoded5)\n",
    "\n",
    "#Decoder Network\n",
    "decoded1 = Conv2D(18, (3, 3), activation='relu', padding='same')(encoded6)\n",
    "decoded2 = UpSampling2D((2, 2))(decoded1)\n",
    "decoded3 = Conv2D(36, (3, 3), activation='relu', padding='same')(decoded2)\n",
    "\n",
    "#decoded4 = merge([encoded3,decoded3],mode='concat',concat_axis=3)\n",
    "decoded4 = concatenate([encoded4,decoded3])\n",
    "\n",
    "decoded5 = UpSampling2D((2, 2))(decoded3)\n",
    "decoded6 = Conv2D(72, (3, 3),padding='same', activation='relu')(decoded5)\n",
    "decoded7 = UpSampling2D((2, 2))(decoded6)\n",
    "\n",
    "decoded8 = Conv2D(1, (5, 5), padding='same',activation='sigmoid')(decoded7)\n",
    "\n",
    "# this model maps an input to its reconstruction\n",
    "autoencoder = Model(input_img, decoded8)\n",
    "\n",
    "autoencoder.summary()"
   ]
  },
  {
   "cell_type": "code",
   "execution_count": 116,
   "metadata": {},
   "outputs": [
    {
     "name": "stdout",
     "output_type": "stream",
     "text": [
      "Train on 4000 samples, validate on 1000 samples\n",
      "Epoch 1/30\n",
      "4000/4000 [==============================] - 6s 1ms/step - loss: 0.0322 - val_loss: 0.0066\n",
      "Epoch 2/30\n",
      "4000/4000 [==============================] - 5s 1ms/step - loss: 0.0049 - val_loss: 0.0041\n",
      "Epoch 3/30\n",
      "4000/4000 [==============================] - 5s 1ms/step - loss: 0.0037 - val_loss: 0.0031\n",
      "Epoch 4/30\n",
      "4000/4000 [==============================] - 5s 1ms/step - loss: 0.0029 - val_loss: 0.0027\n",
      "Epoch 5/30\n",
      "4000/4000 [==============================] - 5s 1ms/step - loss: 0.0026 - val_loss: 0.0024\n",
      "Epoch 6/30\n",
      "4000/4000 [==============================] - 5s 1ms/step - loss: 0.0023 - val_loss: 0.0021\n",
      "Epoch 7/30\n",
      "4000/4000 [==============================] - 5s 1ms/step - loss: 0.0021 - val_loss: 0.0022\n",
      "Epoch 8/30\n",
      "4000/4000 [==============================] - 5s 1ms/step - loss: 0.0020 - val_loss: 0.0018\n",
      "Epoch 9/30\n",
      "4000/4000 [==============================] - 5s 1ms/step - loss: 0.0019 - val_loss: 0.0017\n",
      "Epoch 10/30\n",
      "4000/4000 [==============================] - 5s 1ms/step - loss: 0.0017 - val_loss: 0.0016\n",
      "Epoch 11/30\n",
      "4000/4000 [==============================] - 5s 1ms/step - loss: 0.0017 - val_loss: 0.0016\n",
      "Epoch 12/30\n",
      "4000/4000 [==============================] - 5s 1ms/step - loss: 0.0017 - val_loss: 0.0017\n",
      "Epoch 13/30\n",
      "4000/4000 [==============================] - 5s 1ms/step - loss: 0.0015 - val_loss: 0.0016\n",
      "Epoch 14/30\n",
      "4000/4000 [==============================] - 5s 1ms/step - loss: 0.0015 - val_loss: 0.0014\n",
      "Epoch 15/30\n",
      "4000/4000 [==============================] - 5s 1ms/step - loss: 0.0014 - val_loss: 0.0014\n",
      "Epoch 16/30\n",
      "4000/4000 [==============================] - 5s 1ms/step - loss: 0.0013 - val_loss: 0.0013\n",
      "Epoch 17/30\n",
      "4000/4000 [==============================] - 5s 1ms/step - loss: 0.0017 - val_loss: 0.0013\n",
      "Epoch 18/30\n",
      "4000/4000 [==============================] - 5s 1ms/step - loss: 0.0013 - val_loss: 0.0013\n",
      "Epoch 19/30\n",
      "4000/4000 [==============================] - 5s 1ms/step - loss: 0.0012 - val_loss: 0.0013\n",
      "Epoch 20/30\n",
      "4000/4000 [==============================] - 5s 1ms/step - loss: 0.0013 - val_loss: 0.0012\n",
      "Epoch 21/30\n",
      "4000/4000 [==============================] - 5s 1ms/step - loss: 0.0012 - val_loss: 0.0012\n",
      "Epoch 22/30\n",
      "4000/4000 [==============================] - 5s 1ms/step - loss: 0.0013 - val_loss: 0.0012\n",
      "Epoch 23/30\n",
      "4000/4000 [==============================] - 5s 1ms/step - loss: 0.0012 - val_loss: 0.0012\n",
      "Epoch 24/30\n",
      "4000/4000 [==============================] - 5s 1ms/step - loss: 0.0012 - val_loss: 0.0011\n",
      "Epoch 25/30\n",
      "4000/4000 [==============================] - 5s 1ms/step - loss: 0.0012 - val_loss: 0.0012\n",
      "Epoch 26/30\n",
      "4000/4000 [==============================] - 5s 1ms/step - loss: 0.0011 - val_loss: 0.0011\n",
      "Epoch 27/30\n",
      "4000/4000 [==============================] - 5s 1ms/step - loss: 0.0011 - val_loss: 0.0015\n",
      "Epoch 28/30\n",
      "4000/4000 [==============================] - 5s 1ms/step - loss: 0.0012 - val_loss: 0.0011\n",
      "Epoch 29/30\n",
      "4000/4000 [==============================] - 5s 1ms/step - loss: 0.0011 - val_loss: 0.0010\n",
      "Epoch 30/30\n",
      "4000/4000 [==============================] - 5s 1ms/step - loss: 0.0010 - val_loss: 0.0011\n"
     ]
    }
   ],
   "source": [
    "#  this model maps an input to its encoded representation\n",
    "encoder = Model(input_img, encoded6)\n",
    "autoencoder.compile(optimizer='adam', loss='mse')\n",
    "estop = keras.callbacks.EarlyStopping(monitor='val_loss', min_delta=0, patience=10, verbose=1, mode='auto')\n",
    "train_history = autoencoder.fit(X_train , Y_train , epochs=epochs, batch_size= batch_size, validation_split = 0.2, callbacks=[estop])"
   ]
  },
  {
   "cell_type": "markdown",
   "metadata": {},
   "source": [
    "### Testing the Hour Glass Denoising Network"
   ]
  },
  {
   "cell_type": "code",
   "execution_count": 117,
   "metadata": {},
   "outputs": [
    {
     "name": "stdout",
     "output_type": "stream",
     "text": [
      "Creating data:\n",
      "0\n",
      "(10, 5184)\n",
      "(10, 5184)\n",
      "('X_test shape:', (10, 72, 72, 1))\n",
      "(10, 'test samples')\n",
      "('Y_test shape:', (10, 72, 72, 1))\n",
      "(10, 'test samples')\n"
     ]
    }
   ],
   "source": [
    "# Generate test data\n",
    "[Y_test, X_test] = generate_test_set_classification_noise()\n",
    "\n",
    "print X_test.shape\n",
    "print Y_test.shape\n",
    "\n",
    "X_test = X_test.reshape(X_test.shape[0], img_rows, img_cols, 1)\n",
    "X_test = X_test.astype('float32')\n",
    "#X_test /= 255\n",
    "print('X_test shape:', X_test.shape)\n",
    "print(X_test.shape[0], 'test samples')\n",
    "\n",
    "Y_test = Y_test.reshape(Y_test.shape[0],img_rows,img_cols,1)\n",
    "#Y_test /=255\n",
    "print('Y_test shape:', Y_test.shape)\n",
    "print(X_test.shape[0],'test samples')\n"
   ]
  },
  {
   "cell_type": "markdown",
   "metadata": {},
   "source": [
    "### Generating the Denoised Image from Test Dataset (Hourglass Network Output)"
   ]
  },
  {
   "cell_type": "code",
   "execution_count": 118,
   "metadata": {},
   "outputs": [],
   "source": [
    "pred = autoencoder.predict(X_test)"
   ]
  },
  {
   "cell_type": "markdown",
   "metadata": {},
   "source": [
    "### Original Noisy Image"
   ]
  },
  {
   "cell_type": "code",
   "execution_count": 119,
   "metadata": {},
   "outputs": [
    {
     "data": {
      "text/plain": [
       "<matplotlib.image.AxesImage at 0x7f805bc26f10>"
      ]
     },
     "execution_count": 119,
     "metadata": {},
     "output_type": "execute_result"
    },
    {
     "data": {
      "image/png": "[encoded data removed]",
      "text/plain": [
       "<Figure size 432x288 with 1 Axes>"
      ]
     },
     "metadata": {
      "needs_background": "light"
     },
     "output_type": "display_data"
    }
   ],
   "source": [
    "plt.imshow(X_test[5].reshape(img_rows, img_cols), cmap='gray')"
   ]
  },
  {
   "cell_type": "markdown",
   "metadata": {},
   "source": [
    "### Output of Hourglass Network : Denoised Image"
   ]
  },
  {
   "cell_type": "code",
   "execution_count": 120,
   "metadata": {},
   "outputs": [
    {
     "data": {
      "text/plain": [
       "<matplotlib.image.AxesImage at 0x7f805bb96b90>"
      ]
     },
     "execution_count": 120,
     "metadata": {},
     "output_type": "execute_result"
    },
    {
     "data": {
      "image/png": "[encoded data removed]",
      "text/plain": [
       "<Figure size 432x288 with 1 Axes>"
      ]
     },
     "metadata": {
      "needs_background": "light"
     },
     "output_type": "display_data"
    }
   ],
   "source": [
    "plt.imshow(pred[5].reshape(img_rows, img_cols), cmap='gray')"
   ]
  },
  {
   "cell_type": "markdown",
   "metadata": {},
   "source": [
    "### Original Image without Noise"
   ]
  },
  {
   "cell_type": "code",
   "execution_count": 121,
   "metadata": {},
   "outputs": [
    {
     "data": {
      "text/plain": [
       "<matplotlib.image.AxesImage at 0x7f805bb0b7d0>"
      ]
     },
     "execution_count": 121,
     "metadata": {},
     "output_type": "execute_result"
    },
    {
     "data": {
      "image/png": "[encoded data removed]",
      "text/plain": [
       "<Figure size 432x288 with 1 Axes>"
      ]
     },
     "metadata": {
      "needs_background": "light"
     },
     "output_type": "display_data"
    }
   ],
   "source": [
    "plt.imshow(Y_test[5].reshape(img_rows, img_cols), cmap='gray')"
   ]
  },
  {
   "cell_type": "markdown",
   "metadata": {},
   "source": [
    "### Few More Examples I"
   ]
  },
  {
   "cell_type": "code",
   "execution_count": 122,
   "metadata": {},
   "outputs": [
    {
     "data": {
      "text/plain": [
       "<matplotlib.image.AxesImage at 0x7f805ba7f450>"
      ]
     },
     "execution_count": 122,
     "metadata": {},
     "output_type": "execute_result"
    },
    {
     "data": {
      "image/png": "[encoded data removed]",
      "text/plain": [
       "<Figure size 432x288 with 1 Axes>"
      ]
     },
     "metadata": {
      "needs_background": "light"
     },
     "output_type": "display_data"
    }
   ],
   "source": [
    "#Image in Test Dataset\n",
    "plt.imshow(X_test[1].reshape(img_rows, img_cols), cmap='gray')"
   ]
  },
  {
   "cell_type": "code",
   "execution_count": 124,
   "metadata": {},
   "outputs": [
    {
     "data": {
      "text/plain": [
       "<matplotlib.image.AxesImage at 0x7f805b9d7d50>"
      ]
     },
     "execution_count": 124,
     "metadata": {},
     "output_type": "execute_result"
    },
    {
     "data": {
      "image/png": "[encoded data removed]",
      "text/plain": [
       "<Figure size 432x288 with 1 Axes>"
      ]
     },
     "metadata": {
      "needs_background": "light"
     },
     "output_type": "display_data"
    }
   ],
   "source": [
    "#Output of the Network\n",
    "plt.imshow(pred[1].reshape(img_rows, img_cols), cmap='gray')"
   ]
  },
  {
   "cell_type": "code",
   "execution_count": 125,
   "metadata": {},
   "outputs": [
    {
     "data": {
      "text/plain": [
       "<matplotlib.image.AxesImage at 0x7f805b94c9d0>"
      ]
     },
     "execution_count": 125,
     "metadata": {},
     "output_type": "execute_result"
    },
    {
     "data": {
      "image/png": "[encoded data removed]",
      "text/plain": [
       "<Figure size 432x288 with 1 Axes>"
      ]
     },
     "metadata": {
      "needs_background": "light"
     },
     "output_type": "display_data"
    }
   ],
   "source": [
    "#Groundtruth\n",
    "plt.imshow(Y_test[1].reshape(img_rows, img_cols), cmap='gray')"
   ]
  },
  {
   "cell_type": "markdown",
   "metadata": {},
   "source": [
    "### Few More Examples II"
   ]
  },
  {
   "cell_type": "code",
   "execution_count": 126,
   "metadata": {},
   "outputs": [
    {
     "data": {
      "text/plain": [
       "<matplotlib.image.AxesImage at 0x7f805b8bf650>"
      ]
     },
     "execution_count": 126,
     "metadata": {},
     "output_type": "execute_result"
    },
    {
     "data": {
      "image/png": "[encoded data removed]",
      "text/plain": [
       "<Figure size 432x288 with 1 Axes>"
      ]
     },
     "metadata": {
      "needs_background": "light"
     },
     "output_type": "display_data"
    }
   ],
   "source": [
    "#Image in Test Dataset\n",
    "plt.imshow(X_test[4].reshape(img_rows, img_cols), cmap='gray')"
   ]
  },
  {
   "cell_type": "code",
   "execution_count": 127,
   "metadata": {},
   "outputs": [
    {
     "data": {
      "text/plain": [
       "<matplotlib.image.AxesImage at 0x7f805b8b3290>"
      ]
     },
     "execution_count": 127,
     "metadata": {},
     "output_type": "execute_result"
    },
    {
     "data": {
      "image/png": "[encoded data removed]",
      "text/plain": [
       "<Figure size 432x288 with 1 Axes>"
      ]
     },
     "metadata": {
      "needs_background": "light"
     },
     "output_type": "display_data"
    }
   ],
   "source": [
    "#Output of the Network\n",
    "plt.imshow(pred[4].reshape(img_rows, img_cols), cmap='gray')"
   ]
  },
  {
   "cell_type": "code",
   "execution_count": 128,
   "metadata": {},
   "outputs": [
    {
     "data": {
      "text/plain": [
       "<matplotlib.image.AxesImage at 0x7f805b81af10>"
      ]
     },
     "execution_count": 128,
     "metadata": {},
     "output_type": "execute_result"
    },
    {
     "data": {
      "image/png": "[encoded data removed]",
      "text/plain": [
       "<Figure size 432x288 with 1 Axes>"
      ]
     },
     "metadata": {
      "needs_background": "light"
     },
     "output_type": "display_data"
    }
   ],
   "source": [
    "#Groundtruth\n",
    "plt.imshow(Y_test[4].reshape(img_rows, img_cols), cmap='gray')"
   ]
  },
  {
   "cell_type": "code",
   "execution_count": null,
   "metadata": {},
   "outputs": [],
   "source": []
  }
 ],
 "metadata": {
  "kernelspec": {
   "display_name": "Python 2",
   "language": "python",
   "name": "python2"
  },
  "language_info": {
   "codemirror_mode": {
    "name": "ipython",
    "version": 2
   },
   "file_extension": ".py",
   "mimetype": "text/x-python",
   "name": "python",
   "nbconvert_exporter": "python",
   "pygments_lexer": "ipython2",
   "version": "2.7.15"
  }
 },
 "nbformat": 4,
 "nbformat_minor": 2
}
