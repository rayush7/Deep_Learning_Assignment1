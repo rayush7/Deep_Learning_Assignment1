{
 "cells": [
  {
   "cell_type": "markdown",
   "metadata": {},
   "source": [
    "#### Student Name : Ayush K. Rai\n",
    "#### Program : MSc in Artificial Intelligence\n",
    "\n",
    "\n",
    "**You may need to install [OpenCV](https://pypi.python.org/pypi/opencv-python) and [scikit-video](http://www.scikit-video.org/stable/).**"
   ]
  },
  {
   "cell_type": "code",
   "execution_count": 1,
   "metadata": {},
   "outputs": [
    {
     "name": "stderr",
     "output_type": "stream",
     "text": [
      "Using TensorFlow backend.\n"
     ]
    }
   ],
   "source": [
    "import keras\n",
    "import numpy as np\n",
    "import io\n",
    "import base64\n",
    "from IPython.display import HTML\n",
    "import skvideo.io\n",
    "import cv2\n",
    "import json\n",
    "\n",
    "from keras.models import Sequential,model_from_json\n",
    "from keras.layers.core import Dense\n",
    "from keras.optimizers import sgd, Adam\n",
    "from keras.layers import Conv2D, MaxPooling2D, Activation, AveragePooling2D,Reshape,BatchNormalization, Flatten"
   ]
  },
  {
   "cell_type": "markdown",
   "metadata": {},
   "source": [
    "# MiniProject #3: Deep Reinforcement Learning"
   ]
  },
  {
   "cell_type": "markdown",
   "metadata": {},
   "source": [
    "__Notations__: $E_p$ is the expectation under probability $p$. Please justify each of your answer and widely comment your code."
   ]
  },
  {
   "cell_type": "markdown",
   "metadata": {},
   "source": [
    "# Context"
   ]
  },
  {
   "cell_type": "markdown",
   "metadata": {},
   "source": [
    "In a reinforcement learning algorithm, we modelize each step $t$ as an action $a_t$ obtained from a state $s_t$, i.e. $\\{(a_{t},s_{t})_{t\\leq T}\\}$ having the Markov property. We consider a discount factor $\\gamma \\in [0,1]$ that ensures convergence. The goal is to find among all the policies $\\pi$, one that maximizes the expected reward:\n",
    "\n",
    "\\begin{equation*}\n",
    "R(\\pi)=\\sum_{t\\leq T}E_{p^{\\pi}}[\\gamma^t r(s_{t},a_{t})] \\> ,\n",
    "\\end{equation*}\n",
    "\n",
    "where: \n",
    "\\begin{equation*}p^{\\pi}(a_{0},a_{1},s_{1},...,a_{T},s_{T})=p(a_{0})\\prod_{t=1}^{T}\\pi(a_{t}|s_{t})p(s_{t+1}|s_{t},a_{t}) \\> .\n",
    "\\end{equation*}\n",
    "\n",
    "We note the $Q$-function:\n",
    "\n",
    "\\begin{equation*}Q^\\pi(s,a)=E_{p^{\\pi}}[\\sum_{t\\leq T}\\gamma^{t}r(s_{t},a_{t})|s_{0}=s,a_{0}=a] \\> .\n",
    "\\end{equation*}\n",
    "\n",
    "Thus, the optimal Q function is:\n",
    "\\begin{equation*}\n",
    "Q^*(s,a)=\\max_{\\pi}Q^\\pi(s,a) \\> .\n",
    "\\end{equation*}\n",
    "\n",
    "In this project, we will apply the deep reinforcement learning techniques to a simple game: an agent will have to learn from scratch a policy that will permit it maximizing a reward."
   ]
  },
  {
   "cell_type": "markdown",
   "metadata": {},
   "source": [
    "## The environment, the agent and the game"
   ]
  },
  {
   "cell_type": "markdown",
   "metadata": {},
   "source": [
    "### The environment"
   ]
  },
  {
   "cell_type": "markdown",
   "metadata": {},
   "source": [
    "```Environment``` is an abstract class that represents the states, rewards, and actions to obtain the new state."
   ]
  },
  {
   "cell_type": "code",
   "execution_count": 2,
   "metadata": {},
   "outputs": [],
   "source": [
    "class Environment(object):\n",
    "    def __init__(self):\n",
    "        pass\n",
    "\n",
    "    def act(self, act):\n",
    "        \"\"\"\n",
    "        One can act on the environment and obtain its reaction:\n",
    "        - the new state\n",
    "        - the reward of the new state\n",
    "        - should we continue the game?\n",
    "\n",
    "        :return: state, reward, game_over\n",
    "        \"\"\"\n",
    "        pass\n",
    "\n",
    "\n",
    "    def reset(self):\n",
    "        \"\"\"\n",
    "        Reinitialize the environment to a random state and returns\n",
    "        the original state\n",
    "\n",
    "        :return: state\n",
    "        \"\"\"\n",
    "        pass\n",
    "    \n",
    "    def draw(self):\n",
    "        \"\"\"\n",
    "        Visualize in the console or graphically the current state\n",
    "        \"\"\"\n",
    "        pass"
   ]
  },
  {
   "cell_type": "markdown",
   "metadata": {},
   "source": [
    "The method ```act``` allows to act on the environment at a given state $s_t$ (stored internally), via action $a_t$. The method will return the new state $s_{t+1}$, the reward $r(s_{t},a_{t})$ and determines if $t\\leq T$ (*game_over*).\n",
    "\n",
    "The method ```reset``` simply reinitializes the environment to a random state $s_0$.\n",
    "\n",
    "The method ```draw``` displays the current state $s_t$ (this is useful to check the behavior of the Agent).\n",
    "\n",
    "We modelize $s_t$ as a tensor, while $a_t$ is an integer."
   ]
  },
  {
   "cell_type": "markdown",
   "metadata": {},
   "source": [
    "### The Agent"
   ]
  },
  {
   "cell_type": "markdown",
   "metadata": {},
   "source": [
    "The goal of the ```Agent``` is to interact with the ```Environment``` by proposing actions $a_t$ obtained from a given state $s_t$ to attempt to maximize its __reward__ $r(s_t,a_t)$. We propose the following abstract class:"
   ]
  },
  {
   "cell_type": "code",
   "execution_count": 3,
   "metadata": {},
   "outputs": [],
   "source": [
    "class Agent(object):\n",
    "    def __init__(self, epsilon=0.1, n_action=4):\n",
    "        self.epsilon = epsilon\n",
    "        self.n_action = n_action\n",
    "    \n",
    "    def set_epsilon(self,e):\n",
    "        self.epsilon = e\n",
    "\n",
    "    def act(self,s,train=True):\n",
    "        \"\"\" This function should return the next action to do:\n",
    "        an integer between 0 and 4 (not included) with a random exploration of epsilon\"\"\"\n",
    "        if train:\n",
    "            if np.random.rand() <= self.epsilon:\n",
    "                a = np.random.randint(0, self.n_action, size=1)[0]\n",
    "            else:\n",
    "                a = self.learned_act(s)\n",
    "        else: # in some cases, this can improve the performance.. remove it if poor performances\n",
    "            a = self.learned_act(s)\n",
    "\n",
    "        return a\n",
    "\n",
    "    def learned_act(self,s):\n",
    "        \"\"\" Act via the policy of the agent, from a given state s\n",
    "        it proposes an action a\"\"\"\n",
    "        pass\n",
    "\n",
    "    def reinforce(self, s, n_s, a, r, game_over_):\n",
    "        \"\"\" This function is the core of the learning algorithm. \n",
    "        It takes as an input the current state s_, the next state n_s_\n",
    "        the action a_ used to move from s_ to n_s_ and the reward r_.\n",
    "        \n",
    "        Its goal is to learn a policy.\n",
    "        \"\"\"\n",
    "        pass\n",
    "\n",
    "    def save(self):\n",
    "        \"\"\" This function returns basic stats if applicable: the\n",
    "        loss and/or the model\"\"\"\n",
    "        pass\n",
    "\n",
    "    def load(self):\n",
    "        \"\"\" This function allows to restore a model\"\"\"\n",
    "        pass"
   ]
  },
  {
   "cell_type": "markdown",
   "metadata": {},
   "source": [
    "***\n",
    "__Question 1__:\n",
    "Explain the function act. Why is ```epsilon``` essential?"
   ]
  },
  {
   "cell_type": "markdown",
   "metadata": {},
   "source": [
    "> In the method `Agent.act(state, train=True)` , the agent attempts to decide which action to take. The method takes the current state as the input represented by (`state`) and predicts the action to perform from that state, which is also the output of the function.\n",
    "\n",
    "> However the best action to perform given a state is something that an agent needs to learn through a learning process. In the begining the agent doesn't have any knowledge about performing the correct action. Therefore the agent has to experiment new behaviours based on trial and error to find the action which yields the greatest expected cumulative discounted reward (or expected return $R(\\pi)$).\n",
    "\n",
    "> This trial and error based behaviour is otherwise called exploration and exploitation policy. One such type of policy is $\\varepsilon$-greedy (`Agent.epsilon`) exploration policy. With some probibility $\\varepsilon$ (also called exploration rate), the agent explores (i.e takes an action at random) and otherwise, the agent exploits the policy that it has learnt.\n",
    "\n",
    "> In practice the agent needs to explore more in the initial stages and slowly descrease the value of $\\varepsilon$ and therefore take more actions based on the knowledge and experience acquired till then with a higher probability."
   ]
  },
  {
   "cell_type": "markdown",
   "metadata": {},
   "source": [
    "***\n",
    "### The Game"
   ]
  },
  {
   "cell_type": "markdown",
   "metadata": {},
   "source": [
    "The ```Agent``` and the ```Environment``` work in an interlaced way as in the following (take some time to understand this code as it is the core of the project)\n",
    "\n",
    "```python\n",
    "\n",
    "epoch = 300\n",
    "env = Environment()\n",
    "agent = Agent()\n",
    "\n",
    "\n",
    "# Number of won games\n",
    "score = 0\n",
    "loss = 0\n",
    "\n",
    "\n",
    "for e in range(epoch):\n",
    "    # At each epoch, we restart to a fresh game and get the initial state\n",
    "    state = env.reset()\n",
    "    # This assumes that the games will end\n",
    "    game_over = False\n",
    "\n",
    "    win = 0\n",
    "    lose = 0\n",
    "    \n",
    "    while not game_over:\n",
    "        # The agent performs an action\n",
    "        action = agent.act(state)\n",
    "\n",
    "        # Apply an action to the environment, get the next state, the reward\n",
    "        # and if the games end\n",
    "        prev_state = state\n",
    "        state, reward, game_over = env.act(action)\n",
    "\n",
    "        # Update the counters\n",
    "        if reward > 0:\n",
    "            win = win + reward\n",
    "        if reward < 0:\n",
    "            lose = lose -reward\n",
    "\n",
    "        # Apply the reinforcement strategy\n",
    "        loss = agent.reinforce(prev_state, state,  action, reward, game_over)\n",
    "\n",
    "    # Save as a mp4\n",
    "    if e % 10 == 0:\n",
    "        env.draw(e)\n",
    "\n",
    "    # Update stats\n",
    "    score += win-lose\n",
    "\n",
    "    print(\"Epoch {:03d}/{:03d} | Loss {:.4f} | Win/lose count {}/{} ({})\"\n",
    "          .format(e, epoch, loss, win, lose, win-lose))\n",
    "    agent.save()\n",
    "```"
   ]
  },
  {
   "cell_type": "markdown",
   "metadata": {},
   "source": [
    "# The game, *eat cheese*"
   ]
  },
  {
   "cell_type": "markdown",
   "metadata": {},
   "source": [
    "A rat runs on an island and tries to eat as much as possible. The island is subdivided into $N\\times N$ cells, in which there are cheese (+0.5) and poisonous cells (-1). The rat has a visibility of 2 cells (thus it can see $5^2$ cells). The rat is given a time $T$ to accumulate as much food as possible. It can perform 4 actions: going up, down, left, right. \n",
    "\n",
    "The goal is to code an agent to solve this task that will learn by trial and error. We propose the following environment:"
   ]
  },
  {
   "cell_type": "code",
   "execution_count": 4,
   "metadata": {},
   "outputs": [],
   "source": [
    "class Environment(object):\n",
    "    def __init__(self, grid_size=10, max_time=500, temperature=0.1):\n",
    "        grid_size = grid_size+4\n",
    "        self.grid_size = grid_size\n",
    "        self.max_time = max_time\n",
    "        self.temperature = temperature\n",
    "\n",
    "        #board on which one plays\n",
    "        self.board = np.zeros((grid_size,grid_size))\n",
    "        self.position = np.zeros((grid_size,grid_size))\n",
    "\n",
    "        # coordinate of the cat\n",
    "        self.x = 0\n",
    "        self.y = 1\n",
    "\n",
    "        # self time\n",
    "        self.t = 0\n",
    "\n",
    "        self.scale=16\n",
    "\n",
    "        self.to_draw = np.zeros((max_time+2, grid_size*self.scale, grid_size*self.scale, 3))\n",
    "\n",
    "\n",
    "    def draw(self,e):\n",
    "        skvideo.io.vwrite(str(e) + '.mp4', self.to_draw)\n",
    "\n",
    "    def get_frame(self,t):\n",
    "        b = np.zeros((self.grid_size,self.grid_size,3))+128\n",
    "        b[self.board>0,0] = 256\n",
    "        b[self.board < 0, 2] = 256\n",
    "        b[self.x,self.y,:]=256\n",
    "        b[-2:,:,:]=0\n",
    "        b[:,-2:,:]=0\n",
    "        b[:2,:,:]=0\n",
    "        b[:,:2,:]=0\n",
    "        \n",
    "        b =  cv2.resize(b, None, fx=self.scale, fy=self.scale, interpolation=cv2.INTER_NEAREST)\n",
    "\n",
    "        self.to_draw[t,:,:,:]=b\n",
    "\n",
    "\n",
    "    def act(self, action):\n",
    "        \"\"\"This function returns the new state, reward and decides if the\n",
    "        game ends.\"\"\"\n",
    "\n",
    "        self.get_frame(int(self.t))\n",
    "\n",
    "        self.position = np.zeros((self.grid_size, self.grid_size))\n",
    "\n",
    "        self.position[0:2,:]= -1\n",
    "        self.position[:,0:2] = -1\n",
    "        self.position[-2:, :] = -1\n",
    "        self.position[-2:, :] = -1\n",
    "\n",
    "        self.position[self.x, self.y] = 1\n",
    "        if action == 0:\n",
    "            if self.x == self.grid_size-3:\n",
    "                self.x = self.x-1\n",
    "            else:\n",
    "                self.x = self.x + 1\n",
    "        elif action == 1:\n",
    "            if self.x == 2:\n",
    "                self.x = self.x+1\n",
    "            else:\n",
    "                self.x = self.x-1\n",
    "        elif action == 2:\n",
    "            if self.y == self.grid_size - 3:\n",
    "                self.y = self.y - 1\n",
    "            else:\n",
    "                self.y = self.y + 1\n",
    "        elif action == 3:\n",
    "            if self.y == 2:\n",
    "                self.y = self.y + 1\n",
    "            else:\n",
    "                self.y = self.y - 1\n",
    "        else:\n",
    "            RuntimeError('Error: action not recognized')\n",
    "\n",
    "        self.t = self.t + 1\n",
    "        reward = self.board[self.x, self.y]\n",
    "        self.board[self.x, self.y] = 0\n",
    "        game_over = self.t > self.max_time\n",
    "        state = np.concatenate((self.board.reshape(self.grid_size, self.grid_size,1),\n",
    "                        self.position.reshape(self.grid_size, self.grid_size,1)),axis=2)\n",
    "        state = state[self.x-2:self.x+3,self.y-2:self.y+3,:]\n",
    "\n",
    "        return state, reward, game_over\n",
    "\n",
    "    def reset(self):\n",
    "        \"\"\"This function resets the game and returns the initial state\"\"\"\n",
    "\n",
    "        self.x = np.random.randint(3, self.grid_size-3, size=1)[0]\n",
    "        self.y = np.random.randint(3, self.grid_size-3, size=1)[0]\n",
    "\n",
    "\n",
    "        bonus = 0.5*np.random.binomial(1,self.temperature,size=self.grid_size**2)\n",
    "        bonus = bonus.reshape(self.grid_size,self.grid_size)\n",
    "\n",
    "        malus = -1.0*np.random.binomial(1,self.temperature,size=self.grid_size**2)\n",
    "        malus = malus.reshape(self.grid_size, self.grid_size)\n",
    "\n",
    "        self.to_draw = np.zeros((self.max_time+2, self.grid_size*self.scale, self.grid_size*self.scale, 3))\n",
    "\n",
    "\n",
    "        malus[bonus>0]=0\n",
    "\n",
    "        self.board = bonus + malus\n",
    "\n",
    "        self.position = np.zeros((self.grid_size, self.grid_size))\n",
    "        self.position[0:2,:]= -1\n",
    "        self.position[:,0:2] = -1\n",
    "        self.position[-2:, :] = -1\n",
    "        self.position[-2:, :] = -1\n",
    "        self.board[self.x,self.y] = 0\n",
    "        self.t = 0\n",
    "\n",
    "        state = np.concatenate((\n",
    "                               self.board.reshape(self.grid_size, self.grid_size,1),\n",
    "                        self.position.reshape(self.grid_size, self.grid_size,1)),axis=2)\n",
    "\n",
    "        state = state[self.x - 2:self.x + 3, self.y - 2:self.y + 3, :]\n",
    "        return state"
   ]
  },
  {
   "cell_type": "markdown",
   "metadata": {},
   "source": [
    "The following elements are important because they correspond to the hyper parameters for this project:"
   ]
  },
  {
   "cell_type": "code",
   "execution_count": 5,
   "metadata": {},
   "outputs": [],
   "source": [
    "# parameters\n",
    "size = 13\n",
    "T=200\n",
    "temperature=0.3\n",
    "epochs_train=10 # set small when debugging\n",
    "epochs_test=10 # set small when debugging\n",
    "\n",
    "# display videos\n",
    "def display_videos(name):\n",
    "    video = io.open(name, 'r+b').read()\n",
    "    encoded = base64.b64encode(video)\n",
    "    return '''<video alt=\"test\" controls>\n",
    "                <source src=\"data:video/mp4;base64,{0}\" type=\"video/mp4\" />\n",
    "             </video>'''.format(encoded.decode('ascii'))"
   ]
  },
  {
   "cell_type": "markdown",
   "metadata": {},
   "source": [
    "__Question 2__ Explain the use of the arrays ```position``` and ```board```."
   ]
  },
  {
   "cell_type": "markdown",
   "metadata": {},
   "source": [
    "*Position*  \n",
    "This matrix is used to define the rat position and allowed moves. \n",
    "- It is filled with `0` by default.\n",
    "- On every border, there is thickness of two cell with value `-1`, representing the cells where the rat cannot go. That's why +4 was added to the grid size, allowing space for these borders.\n",
    "\n",
    "\n",
    "- Only one cell is set to `1`, representing the actual positon of the rat.\n",
    "\n",
    "*Board*  \n",
    "This matrix is used to define the environment.\n",
    "- It is also initialized with a size increased by 4, to fit with the `positon matrix`.\n",
    "- It contains `rewards` for the rat. `-1` for poison, `0.5` for cheese.\n",
    "- When the rat has already explored a cell, we set the cell to `0`"
   ]
  },
  {
   "cell_type": "markdown",
   "metadata": {},
   "source": [
    "## Random Agent"
   ]
  },
  {
   "cell_type": "markdown",
   "metadata": {},
   "source": [
    "***\n",
    "__Question 3__ Implement a random Agent (only ```learned_act``` needs to be implemented):"
   ]
  },
  {
   "cell_type": "code",
   "execution_count": 6,
   "metadata": {},
   "outputs": [],
   "source": [
    "class RandomAgent(Agent):\n",
    "    def __init__(self):\n",
    "        super(RandomAgent, self).__init__()\n",
    "        pass\n",
    "\n",
    "    def learned_act(self, s):\n",
    "        a = np.random.randint(0, self.n_action)\n",
    "        return a"
   ]
  },
  {
   "cell_type": "markdown",
   "metadata": {},
   "source": [
    "***\n",
    "***\n",
    "__Question 4__ Visualize the game moves. You need to fill in the following function for the evaluation:"
   ]
  },
  {
   "cell_type": "code",
   "execution_count": 7,
   "metadata": {},
   "outputs": [],
   "source": [
    "def test(agent,env,epochs,prefix=''):\n",
    "    # Number of won games\n",
    "    score = 0\n",
    " \n",
    "    for e in range(epochs):\n",
    "        \n",
    "        state = env.reset()\n",
    "        \n",
    "        # This assumes that the games will end\n",
    "        game_over = False\n",
    "        \n",
    "        #Initialization of the Variables\n",
    "        win = 0\n",
    "        lose = 0\n",
    "\n",
    "        while not game_over:\n",
    "            \n",
    "            action = agent.learned_act(state)\n",
    "            \n",
    "            #print(action)\n",
    "            \n",
    "            prev_state= state\n",
    "            state,reward,game_over = env.act(action)\n",
    "            \n",
    "            if reward >0:\n",
    "                win = win +reward \n",
    "            if reward < 0:\n",
    "                lose = lose-reward\n",
    "                \n",
    "        # Save as a mp4\n",
    "        env.draw(prefix+str(e))\n",
    "\n",
    "        # Update stats\n",
    "        score = score + win-lose\n",
    "\n",
    "        print(\"Win/lose count {}/{}. Average score ({})\"\n",
    "              .format(win, lose, score/(1+e)))\n",
    "    print('Final score: '+str(score/epochs))"
   ]
  },
  {
   "cell_type": "code",
   "execution_count": 8,
   "metadata": {
    "scrolled": true
   },
   "outputs": [
    {
     "name": "stdout",
     "output_type": "stream",
     "text": [
      "Win/lose count 10.5/10.0. Average score (0.5)\n",
      "Win/lose count 7.0/15.0. Average score (-3.75)\n",
      "Win/lose count 11.0/15.0. Average score (-3.8333333333333335)\n",
      "Win/lose count 10.5/21.0. Average score (-5.5)\n",
      "Win/lose count 10.5/13.0. Average score (-4.9)\n",
      "Win/lose count 7.5/15.0. Average score (-5.333333333333333)\n",
      "Win/lose count 7.0/6.0. Average score (-4.428571428571429)\n",
      "Win/lose count 11.5/17.0. Average score (-4.5625)\n",
      "Win/lose count 11.5/10.0. Average score (-3.888888888888889)\n",
      "Win/lose count 12.0/21.0. Average score (-4.4)\n",
      "Final score: -4.4\n"
     ]
    },
    {
     "data": {
      "text/html": [
       "<video alt=\"test\" controls>\n",
       "                <source src=\"data:video/mp4;base64,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\" type=\"video/mp4\" />\n",
       "             </video>"
      ],
      "text/plain": [
       "<IPython.core.display.HTML object>"
      ]
     },
     "execution_count": 8,
     "metadata": {},
     "output_type": "execute_result"
    }
   ],
   "source": [
    "# Initialize the game\n",
    "env = Environment(grid_size=size, max_time=T,temperature=temperature)\n",
    "\n",
    "# Initialize the agent!\n",
    "agent = RandomAgent()\n",
    "\n",
    "test(agent,env,epochs_test,prefix='random')\n",
    "HTML(display_videos('random0.mp4'))"
   ]
  },
  {
   "cell_type": "markdown",
   "metadata": {},
   "source": [
    "***\n",
    "## DQN"
   ]
  },
  {
   "cell_type": "markdown",
   "metadata": {},
   "source": [
    "Let us assume here that $T=\\infty$.\n",
    "\n",
    "***\n",
    "__Question 5__ Let $\\pi$ be a policy, show that:\n",
    "\n",
    "\\begin{equation*}\n",
    "Q^{\\pi}(s,a)=E_{(s',a')\\sim p(.|s,a)}[r(s,a)+\\gamma Q^{\\pi}(s',a')]\n",
    "\\end{equation*}\n",
    "\n",
    "Then, show that for the optimal policy $\\pi^*$ (we assume its existence), the following holds: \n",
    "\n",
    "\\begin{equation*}\n",
    "Q^{*}(s,a)=E_{s'\\sim \\pi^*(.|s,a)}[r(s,a)+\\gamma\\max_{a'}Q^{*}(s',a')].\n",
    "\\end{equation*}\n",
    "Finally, deduce that a plausible objective is:\n",
    "\n",
    "\\begin{equation*}\n",
    "\\mathcal{L}(\\theta)=E_{s' \\sim \\pi^*(.|s,a)}\\Vert r+\\gamma\\max\\max_{a'}Q(s',a',\\theta)-Q(s,a,\\theta)\\Vert^{2}.\n",
    "\\end{equation*}\n",
    "\n",
    "\n"
   ]
  },
  {
   "cell_type": "markdown",
   "metadata": {},
   "source": [
    "> Here, we show that $Q^{\\pi}$ follows the Bellman equation:\n",
    ">\n",
    "> \n",
    "> \\begin{equation*}\n",
    " \\begin{aligned}\n",
    "Q^{\\pi}(s, a) &= \\mathbb{E}(\\sum_{t \\le T} \\gamma^t r(s_t, a_t) | s_0 = s, a_0 = a, \\cdots, a_t=\\pi(s_t)) \\\\\n",
    "            &= r(s, a) + \\mathbb{E}(\\sum_{1 \\le t \\le T} \\gamma^t r(s_t, \\pi(a_t)) | s_0 = s, a_0 = a)\n",
    "\\end{aligned}\n",
    "\\end{equation*}\n",
    ">\n",
    "> Then using the law of total expectations:\n",
    ">\n",
    "> \n",
    ">\\begin{equation*}\n",
    "\\begin{aligned}\n",
    "Q^{\\pi}(s, a) &= r(s, a) + \\gamma \\sum_{s', a'} \\mathbb{P}(s_1 = s', a_1 = a'| s_0 = s, a_0 = a)\\mathbb{E}(\\sum_{1 \\le t \\le T} \\gamma^{t-1} r(s_t, \\pi(s_t)) | s_1 = s', a_1 = a', \\pi) \\\\\n",
    "               &= E_{(s',a')\\sim p(.|s,a)}[r(s,a)+\\gamma Q^{\\pi}(s',a')]\n",
    "\\end{aligned}\n",
    "\\end{equation*}\n",
    "> \n",
    "> Fo the second inequatily, we use the fact that $Q^* = \\max_{\\pi}Q^\\pi$ and, with similar derivations:\n",
    ">\n",
    ">\\begin{equation*}\n",
    "\\begin{aligned}\n",
    "Q^*(s, a) &= r(s, a) + \\gamma \\sum_{s'} \\max_{a'} \\mathbb{P}(s_1 = s', a_1 = a'| s_0 = s, a_0 = a)\\mathbb{E}(\\sum_{1 \\le t \\le T} \\gamma^{t-1} r(s_t, \\pi^*(s_t)) | s_1 = s', a_1 = a', \\pi^*) \\\\\n",
    "               &= E_{s'\\sim \\pi^*(.|s,a)}[r(s,a)+\\gamma \\max_{a'}Q^*(s',a')]\n",
    "\\end{aligned}\n",
    "\\end{equation*}\n",
    ">\n",
    "> The learning problem is translated into finding the optimal policy $\\pi^*$. Instead of looking directly for its value, we look for the optimal action-value function $Q^*$.\n",
    ">\n",
    "> Using the fact that the optimal Bellman operator admits a fixed point which is $Q^*$, we can deduce that\n",
    "> $\\mathcal{L}$ is a correct loss and represent the temporal difference between $Q_t$ and $Q_{t+1}$."
   ]
  },
  {
   "cell_type": "markdown",
   "metadata": {},
   "source": [
    "***\n",
    "The DQN-learning algorithm relies on these derivations to train the parameters $\\theta$ of a Deep Neural Network:\n",
    "\n",
    "1. At the state $s_t$, select the action $a_t$ with best reward using $Q_t$ and store the results;\n",
    "\n",
    "2. Obtain the new state $s_{t+1}$ from the environment $p$;\n",
    "\n",
    "3. Store $(s_t,a_t,s_{t+1})$;\n",
    "\n",
    "4. Obtain $Q_{t+1}$ by minimizing  $\\mathcal{L}$ from a recovered batch from the previously stored results.\n",
    "\n",
    "***\n",
    "__Question 6__ Implement the class ```Memory``` that stores moves (in a replay buffer) via ```remember``` and provides a ```random_access``` to these. Specify a maximum memory size to avoid side effects. You can for example use a ```list()``` and set by default ```max_memory=100```."
   ]
  },
  {
   "cell_type": "code",
   "execution_count": 9,
   "metadata": {},
   "outputs": [],
   "source": [
    "class Memory(object):\n",
    "    def __init__(self, max_memory=100):\n",
    "        self.max_memory = max_memory\n",
    "        self.memory = list()\n",
    "\n",
    "    def remember(self, m):\n",
    "        self.memory.append(m)\n",
    "        if len(self.memory) > self.max_memory:\n",
    "            self.memory.pop(0)\n",
    "\n",
    "    def random_access(self):\n",
    "        id_random = np.random.randint(len(self.memory))\n",
    "        return self.memory[id_random]"
   ]
  },
  {
   "cell_type": "markdown",
   "metadata": {},
   "source": [
    "***\n",
    "The pipeline we will use for training is given below:"
   ]
  },
  {
   "cell_type": "code",
   "execution_count": 10,
   "metadata": {},
   "outputs": [],
   "source": [
    "def train(agent,env,epoch,prefix=''):\n",
    "    # Number of won games\n",
    "    score = 0\n",
    "    loss = 0\n",
    "\n",
    "    for e in range(epoch):\n",
    "        # At each epoch, we restart to a fresh game and get the initial state\n",
    "        state = env.reset()\n",
    "        # This assumes that the games will terminate\n",
    "        game_over = False\n",
    "\n",
    "        win = 0\n",
    "        lose = 0\n",
    "\n",
    "        while not game_over:\n",
    "            # The agent performs an action\n",
    "            action = agent.act(state)\n",
    "\n",
    "            # Apply an action to the environment, get the next state, the reward\n",
    "            # and if the games end\n",
    "            prev_state = state\n",
    "            state, reward, game_over = env.act(action)\n",
    "\n",
    "            # Update the counters\n",
    "            if reward > 0:\n",
    "                win = win + reward\n",
    "            if reward < 0:\n",
    "                lose = lose -reward\n",
    "\n",
    "            # Apply the reinforcement strategy\n",
    "            loss = agent.reinforce(prev_state, state,  action, reward, game_over)\n",
    "\n",
    "        # Save as a mp4\n",
    "        if e % 10 == 0:\n",
    "            env.draw(prefix+str(e))\n",
    "\n",
    "        # Update stats\n",
    "        score += win-lose\n",
    "\n",
    "        print(\"Epoch {:03d}/{:03d} | Loss {:.4f} | Win/lose count {}/{} ({})\"\n",
    "              .format(e, epoch, loss, win, lose, win-lose))\n",
    "        agent.save(name_weights=prefix+'model.h5',name_model=prefix+'model.json')"
   ]
  },
  {
   "cell_type": "markdown",
   "metadata": {},
   "source": [
    "***\n",
    "__Question 7__ Implement the DQN training algorithm using a cascade of fully connected layers. You can use different learning rate, batch size or memory size parameters. In particular, the loss might oscillate while the player will start to win the games. You have to find a good criterium."
   ]
  },
  {
   "cell_type": "code",
   "execution_count": 13,
   "metadata": {},
   "outputs": [],
   "source": [
    "class DQN(Agent):\n",
    "    def __init__(self, grid_size,  epsilon = 0.1, memory_size=100, batch_size = 16,n_state=2):\n",
    "        super(DQN, self).__init__(epsilon = epsilon)\n",
    "\n",
    "        # Discount for Q learning\n",
    "        self.discount = 0.99\n",
    "        \n",
    "        self.grid_size = grid_size\n",
    "        \n",
    "        # number of state\n",
    "        self.n_state = n_state\n",
    "\n",
    "        # Memory\n",
    "        self.memory = Memory(memory_size)\n",
    "        \n",
    "        # Batch size when learning\n",
    "        self.batch_size = batch_size\n",
    "\n",
    "    def learned_act(self, s):\n",
    "        return np.argmax(self.model.predict(s.reshape([1,s.shape[0],s.shape[1],s.shape[2]]))[0,:])\n",
    "\n",
    "    def reinforce(self, s_, n_s_, a_, r_, game_over_):\n",
    "        # Two steps: first memorize the states, second learn from the pool\n",
    "\n",
    "        self.memory.remember([s_, n_s_, a_, r_, game_over_])\n",
    "        \n",
    "        input_states = np.zeros((self.batch_size, 5,5,self.n_state))\n",
    "        target_q = np.zeros((self.batch_size, 4))\n",
    "        \n",
    "        for i in range(self.batch_size):\n",
    "            ######## FILL IN\n",
    "            s_, n_s_, a_, r_, game_over_  = self.memory.random_access()\n",
    "            \n",
    "            target_q[i] =self.model.predict(s_.reshape([1,s_.shape[0],s_.shape[1],s_.shape[2]]))[0]\n",
    "            \n",
    "            input_states[i] = s_\n",
    "            \n",
    "            if game_over_:\n",
    "                ######## FILL IN\n",
    "                target_q[i,a_] = r_\n",
    "            else:\n",
    "                ######## FILL IN\n",
    "                q_est = self.model.predict(np.expand_dims(n_s_, 0))\n",
    "                target_q[i, a_] = r_ + self.discount * np.max(q_est)\n",
    "                \n",
    "                \n",
    "        ######## FILL IN\n",
    "        # HINT: Clip the target to avoid exploiding gradients.. -- clipping is a bit tighter\n",
    "        target_q = np.clip(target_q, -3, 3)\n",
    "        l = self.model.train_on_batch(input_states, target_q)\n",
    "\n",
    "\n",
    "        return l\n",
    "\n",
    "    def save(self,name_weights='model.h5',name_model='model.json'):\n",
    "        self.model.save_weights(name_weights, overwrite=True)\n",
    "        with open(name_model, \"w\") as outfile:\n",
    "            json.dump(self.model.to_json(), outfile)\n",
    "            \n",
    "    def load(self,name_weights='model.h5',name_model='model.json'):\n",
    "        with open(name_model, \"r\") as jfile:\n",
    "            model = model_from_json(json.load(jfile))\n",
    "        model.load_weights(name_weights)\n",
    "        model.compile(\"sgd\", \"mse\")\n",
    "        self.model = model\n",
    "\n",
    "            \n",
    "class DQN_FC(DQN):\n",
    "    def __init__(self, *args, lr=0.1,**kwargs):\n",
    "        super(DQN_FC, self).__init__( *args,**kwargs)\n",
    "        \n",
    "        #Best model\n",
    "        model = Sequential()\n",
    "        model.add(Flatten(input_shape=(5,5,self.n_state,)))\n",
    "        model.add(Dense(32,activation ='relu')) \n",
    "        model.add(Dense(4))\n",
    "        model.compile(sgd(lr=lr, decay=1e-4, momentum=0.0), \"mse\")\n",
    "        self.model = model"
   ]
  },
  {
   "cell_type": "code",
   "execution_count": 14,
   "metadata": {},
   "outputs": [
    {
     "name": "stdout",
     "output_type": "stream",
     "text": [
      "Epoch 000/015 | Loss 0.0034 | Win/lose count 6.5/3.0 (3.5)\n",
      "Epoch 001/015 | Loss 0.0027 | Win/lose count 2.5/3.0 (-0.5)\n",
      "Epoch 002/015 | Loss 0.0297 | Win/lose count 7.5/8.0 (-0.5)\n",
      "Epoch 003/015 | Loss 0.0068 | Win/lose count 4.0/3.0 (1.0)\n",
      "Epoch 004/015 | Loss 0.0091 | Win/lose count 4.5/6.0 (-1.5)\n",
      "Epoch 005/015 | Loss 0.0059 | Win/lose count 3.5/3.0 (0.5)\n",
      "Epoch 006/015 | Loss 0.0210 | Win/lose count 7.5/2.0 (5.5)\n",
      "Epoch 007/015 | Loss 0.0186 | Win/lose count 5.5/1.0 (4.5)\n",
      "Epoch 008/015 | Loss 0.0034 | Win/lose count 6.5/1.0 (5.5)\n",
      "Epoch 009/015 | Loss 0.0043 | Win/lose count 3.0/6.0 (-3.0)\n",
      "Epoch 010/015 | Loss 0.0162 | Win/lose count 3.0/3.0 (0.0)\n",
      "Epoch 011/015 | Loss 0.0029 | Win/lose count 4.5/4.0 (0.5)\n",
      "Epoch 012/015 | Loss 0.0044 | Win/lose count 6.5/3.0 (3.5)\n",
      "Epoch 013/015 | Loss 0.0040 | Win/lose count 4.5/2.0 (2.5)\n",
      "Epoch 014/015 | Loss 0.0275 | Win/lose count 4.0/5.0 (-1.0)\n"
     ]
    },
    {
     "data": {
      "text/html": [
       "<video alt=\"test\" controls>\n",
       "                <source src=\"data:video/mp4;base64,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\" type=\"video/mp4\" />\n",
       "             </video>"
      ],
      "text/plain": [
       "<IPython.core.display.HTML object>"
      ]
     },
     "execution_count": 14,
     "metadata": {},
     "output_type": "execute_result"
    }
   ],
   "source": [
    "epochs_train = 15\n",
    "env = Environment(grid_size=size, max_time=T, temperature=0.3)\n",
    "agent = DQN_FC(size, lr=.1, epsilon = 0.1, memory_size=2000, batch_size = 16)\n",
    "train(agent, env, epochs_train, prefix='fc_train')\n",
    "HTML(display_videos('fc_train10.mp4'))"
   ]
  },
  {
   "cell_type": "markdown",
   "metadata": {},
   "source": [
    "***\n",
    "***\n",
    "__Question 8__ Implement the DQN training algorithm using a CNN (for example, 2 convolutional layers and one final fully connected layer)."
   ]
  },
  {
   "cell_type": "code",
   "execution_count": 15,
   "metadata": {},
   "outputs": [],
   "source": [
    "class DQN_CNN(DQN):\n",
    "    def __init__(self, *args, lr=0.1,**kwargs):\n",
    "        super(DQN_CNN, self).__init__( *args,**kwargs)\n",
    "        \n",
    "        model = Sequential()\n",
    "        #Best model\n",
    "        model.add(Conv2D(32,(2,2),input_shape=(5,5,self.n_state,),activation='relu'))\n",
    "        model.add(Conv2D(64,(2,2),activation='relu'))\n",
    "        model.add(Flatten())\n",
    "        model.add(Dense(4))\n",
    "        \n",
    "        model.compile(sgd(lr=lr, decay=1e-4, momentum=0.0), \"mse\")\n",
    "        self.model = model"
   ]
  },
  {
   "cell_type": "code",
   "execution_count": 16,
   "metadata": {},
   "outputs": [
    {
     "name": "stdout",
     "output_type": "stream",
     "text": [
      "Epoch 000/015 | Loss 0.0015 | Win/lose count 5.0/2.0 (3.0)\n",
      "Epoch 001/015 | Loss 0.0090 | Win/lose count 6.0/3.0 (3.0)\n",
      "Epoch 002/015 | Loss 0.0028 | Win/lose count 4.0/6.0 (-2.0)\n",
      "Epoch 003/015 | Loss 0.0019 | Win/lose count 3.0/3.0 (0.0)\n",
      "Epoch 004/015 | Loss 0.0015 | Win/lose count 2.5/5.0 (-2.5)\n",
      "Epoch 005/015 | Loss 0.0070 | Win/lose count 2.0/0 (2.0)\n",
      "Epoch 006/015 | Loss 0.0028 | Win/lose count 1.5/3.0 (-1.5)\n",
      "Epoch 007/015 | Loss 0.0848 | Win/lose count 4.5/4.0 (0.5)\n",
      "Epoch 008/015 | Loss 0.1051 | Win/lose count 5.5/2.0 (3.5)\n",
      "Epoch 009/015 | Loss 0.0020 | Win/lose count 9.5/3.0 (6.5)\n",
      "Epoch 010/015 | Loss 0.0030 | Win/lose count 9.0/3.0 (6.0)\n",
      "Epoch 011/015 | Loss 0.0009 | Win/lose count 2.5/3.0 (-0.5)\n",
      "Epoch 012/015 | Loss 0.0156 | Win/lose count 3.0/1.0 (2.0)\n",
      "Epoch 013/015 | Loss 0.0021 | Win/lose count 14.0/1.0 (13.0)\n",
      "Epoch 014/015 | Loss 0.0027 | Win/lose count 9.0/3.0 (6.0)\n"
     ]
    },
    {
     "data": {
      "text/html": [
       "<video alt=\"test\" controls>\n",
       "                <source src=\"data:video/mp4;base64,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\" type=\"video/mp4\" />\n",
       "             </video>"
      ],
      "text/plain": [
       "<IPython.core.display.HTML object>"
      ]
     },
     "execution_count": 16,
     "metadata": {},
     "output_type": "execute_result"
    }
   ],
   "source": [
    "epochs_train = 15\n",
    "env = Environment(grid_size=size, max_time=T, temperature=0.3)\n",
    "agent = DQN_CNN(size, lr=0.1, epsilon = 0.1, memory_size=2000, batch_size = 16)\n",
    "train(agent,env,epochs_train,prefix='cnn_train')\n",
    "HTML(display_videos('cnn_train10.mp4'))"
   ]
  },
  {
   "cell_type": "markdown",
   "metadata": {},
   "source": [
    "***\n",
    "***\n",
    "__Question 9__ Test both algorithms and compare their performances. Which issue(s) do you observe? Observe also different behaviors by changing the temperature."
   ]
  },
  {
   "cell_type": "code",
   "execution_count": 36,
   "metadata": {},
   "outputs": [
    {
     "name": "stdout",
     "output_type": "stream",
     "text": [
      "Testing of the FC Based Agent\n",
      "Win/lose count 4.5/0. Average score (4.5)\n",
      "Win/lose count 15.0/0. Average score (9.75)\n",
      "Win/lose count 6.5/0. Average score (8.666666666666666)\n",
      "Win/lose count 21.0/1.0. Average score (11.5)\n",
      "Win/lose count 2.5/0. Average score (9.7)\n",
      "Win/lose count 7.5/0. Average score (9.333333333333334)\n",
      "Win/lose count 6.0/0. Average score (8.857142857142858)\n",
      "Win/lose count 22.5/1.0. Average score (10.4375)\n",
      "Win/lose count 3.5/0. Average score (9.666666666666666)\n",
      "Win/lose count 2.5/0. Average score (8.95)\n",
      "Win/lose count 11.5/0. Average score (9.181818181818182)\n",
      "Win/lose count 2.0/0. Average score (8.583333333333334)\n",
      "Win/lose count 9.5/0. Average score (8.653846153846153)\n",
      "Win/lose count 3.0/0. Average score (8.25)\n",
      "Win/lose count 6.0/0. Average score (8.1)\n",
      "Win/lose count 13.0/0. Average score (8.40625)\n",
      "Win/lose count 10.5/1.0. Average score (8.470588235294118)\n",
      "Win/lose count 12.5/0. Average score (8.694444444444445)\n",
      "Win/lose count 20.0/1.0. Average score (9.236842105263158)\n",
      "Win/lose count 10.5/0. Average score (9.3)\n",
      "Final score: 9.3\n",
      "\n",
      "Testing CNN Based Agent\n",
      "Win/lose count 31.0/1.0. Average score (30.0)\n",
      "Win/lose count 23.5/0. Average score (26.75)\n",
      "Win/lose count 22.5/0. Average score (25.333333333333332)\n",
      "Win/lose count 7.5/0. Average score (20.875)\n",
      "Win/lose count 9.5/0. Average score (18.6)\n",
      "Win/lose count 40.5/0. Average score (22.25)\n",
      "Win/lose count 26.5/0. Average score (22.857142857142858)\n",
      "Win/lose count 14.0/0. Average score (21.75)\n",
      "Win/lose count 28.0/0. Average score (22.444444444444443)\n",
      "Win/lose count 27.0/0. Average score (22.9)\n",
      "Win/lose count 52.5/0. Average score (25.59090909090909)\n",
      "Win/lose count 37.5/0. Average score (26.583333333333332)\n",
      "Win/lose count 32.0/0. Average score (27.0)\n",
      "Win/lose count 7.5/0. Average score (25.607142857142858)\n",
      "Win/lose count 27.0/0. Average score (25.7)\n",
      "Win/lose count 46.0/0. Average score (26.96875)\n",
      "Win/lose count 33.0/0. Average score (27.323529411764707)\n",
      "Win/lose count 29.5/0. Average score (27.444444444444443)\n",
      "Win/lose count 36.5/0. Average score (27.92105263157895)\n",
      "Win/lose count 58.0/0. Average score (29.425)\n",
      "Final score: 29.425\n"
     ]
    }
   ],
   "source": [
    "env = Environment(grid_size=size, max_time=T,temperature=0.9)\n",
    "\n",
    "agent_cnn = DQN_CNN(size, lr=.1, epsilon = 0.1, memory_size=2000, batch_size = 32)\n",
    "agent_cnn.load(name_weights='cnn_trainmodel.h5',name_model='cnn_trainmodel.json')\n",
    "\n",
    "agent_fc = DQN_FC(size, lr=.1, epsilon = 0.1, memory_size=2000, batch_size = 32)\n",
    "agent_fc.load(name_weights='fc_trainmodel.h5',name_model='fc_trainmodel.json')\n",
    "\n",
    "epochs_test = 20\n",
    "\n",
    "print('Testing of the FC Based Agent')\n",
    "test(agent_fc,env,epochs_test,prefix='fc_test')\n",
    "\n",
    "print('\\nTesting CNN Based Agent')\n",
    "test(agent_cnn,env,epochs_test,prefix='cnn_test')"
   ]
  },
  {
   "cell_type": "code",
   "execution_count": 37,
   "metadata": {},
   "outputs": [
    {
     "data": {
      "text/html": [
       "<video alt=\"test\" controls>\n",
       "                <source src=\"data:video/mp4;base64,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\" type=\"video/mp4\" />\n",
       "             </video>"
      ],
      "text/plain": [
       "<IPython.core.display.HTML object>"
      ]
     },
     "execution_count": 37,
     "metadata": {},
     "output_type": "execute_result"
    }
   ],
   "source": [
    "HTML(display_videos('cnn_test10.mp4'))"
   ]
  },
  {
   "cell_type": "code",
   "execution_count": 38,
   "metadata": {},
   "outputs": [
    {
     "data": {
      "text/html": [
       "<video alt=\"test\" controls>\n",
       "                <source src=\"data:video/mp4;base64,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\" type=\"video/mp4\" />\n",
       "             </video>"
      ],
      "text/plain": [
       "<IPython.core.display.HTML object>"
      ]
     },
     "execution_count": 38,
     "metadata": {},
     "output_type": "execute_result"
    }
   ],
   "source": [
    "HTML(display_videos('fc_test10.mp4'))"
   ]
  },
  {
   "cell_type": "markdown",
   "metadata": {},
   "source": [
    "Temperature increases the density of the reward pixel. Therefore it increase the score. It's also observed that the rat does not explore the board and gets stuck in between 2 positions and keep oscillating there."
   ]
  },
  {
   "cell_type": "markdown",
   "metadata": {},
   "source": [
    "***\n",
    "\n",
    "The algorithm tends to not explore the map which can be an issue. We propose two ideas in order to encourage exploration:\n",
    "1. Incorporating a decreasing $\\epsilon$-greedy exploration. You can use the method ```set_epsilon```\n",
    "2. Append via the environment a new state that describes if a cell has been visited or not\n",
    "\n",
    "***\n",
    "__Question 10__ Design a new ```train_explore``` function and environment class ```EnvironmentExploring``` to tackle the issue of exploration.\n",
    "\n"
   ]
  },
  {
   "cell_type": "code",
   "execution_count": 17,
   "metadata": {},
   "outputs": [],
   "source": [
    "def train_explore(agent,env,epoch, epsilon_start=0.7, epsilon_end=0.1, epsilon_decay=60000, prefix=''):\n",
    "    # Number of won games\n",
    "    score = 0\n",
    "    loss = 0\n",
    "    steps_done = 0\n",
    "    \n",
    "    agent.set_epsilon(epsilon_start)\n",
    "    \n",
    "    for e in range(epoch):\n",
    "       \n",
    "        \n",
    "        # At each epoch, we restart to a fresh game and get the initial state\n",
    "        state = env.reset()\n",
    "        # This assumes that the games will terminate\n",
    "        game_over = False\n",
    "\n",
    "        win = 0\n",
    "        lose = 0\n",
    "\n",
    "        while not game_over:\n",
    "            # The agent performs an action\n",
    "            action = agent.act(state)\n",
    "\n",
    "            # Apply an action to the environment, get the next state, the reward\n",
    "            # and if the games end\n",
    "            prev_state = state\n",
    "            state, reward, game_over = env.act(action, train=True)\n",
    "\n",
    "            # Update the counters\n",
    "            if reward > 0:\n",
    "                win = win + reward\n",
    "            if reward < 0:\n",
    "                lose = lose -reward\n",
    "\n",
    "            # Apply the reinforcement strategy\n",
    "            loss = agent.reinforce(prev_state, state,  action, reward, game_over)\n",
    "            \n",
    "            eps_threshold = epsilon_start + (epsilon_end - epsilon_start) * steps_done / epsilon_decay\n",
    "        \n",
    "            agent.set_epsilon(eps_threshold)\n",
    "            steps_done += 1\n",
    "\n",
    "        # Save as a mp4\n",
    "        if e % 10 == 0:\n",
    "            env.draw(prefix+str(e))\n",
    "\n",
    "        # Update stats\n",
    "        score += win-lose\n",
    "\n",
    "        print(\"Epoch {:03d}/{:03d} | Loss {:.4f} | Win/lose count {}/{} ({})\"\n",
    "              .format(e, epoch, loss, win, lose, win-lose))\n",
    "        agent.save(name_weights=prefix+'model.h5',name_model=prefix+'model.json')\n",
    "        \n",
    "class EnvironmentExploring(Environment):\n",
    "    def __init__(self, grid_size=10, max_time=500, temperature=0.1):\n",
    "        super(EnvironmentExploring, self).__init__(grid_size, max_time, temperature)\n",
    "        \n",
    "        self.malus_position = np.zeros_like(self.position)\n",
    "    \n",
    "    def act(self, action, train=False):\n",
    "        \"\"\"This function returns the new state, reward and decides if the\n",
    "        game ends.\"\"\"\n",
    "\n",
    "        self.get_frame(int(self.t))\n",
    "\n",
    "        self.position = np.zeros((self.grid_size, self.grid_size))\n",
    "\n",
    "        self.position[0:2,:]= -1\n",
    "        self.position[:,0:2] = -1\n",
    "        self.position[-2:, :] = -1\n",
    "        self.position[-2:, :] = -1\n",
    "\n",
    "        self.position[self.x, self.y] = 1\n",
    "        \n",
    "        # Adding explored cases\n",
    "        self.malus_position[self.x, self.y] += 0.1\n",
    "        \n",
    "        if action == 0:  # Right\n",
    "            if self.x == self.grid_size-3:\n",
    "                self.x = self.x-1\n",
    "            else:\n",
    "                self.x = self.x + 1\n",
    "        elif action == 1:  # Left\n",
    "            if self.x == 2:\n",
    "                self.x = self.x+1\n",
    "            else:\n",
    "                self.x = self.x-1\n",
    "        elif action == 2:  # Up\n",
    "            if self.y == self.grid_size - 3:\n",
    "                self.y = self.y - 1\n",
    "            else:\n",
    "                self.y = self.y + 1\n",
    "        elif action == 3:  # Down\n",
    "            if self.y == 2:\n",
    "                self.y = self.y + 1\n",
    "            else:\n",
    "                self.y = self.y - 1\n",
    "        else:\n",
    "            RuntimeError('Error: This action is not recognized')\n",
    "            \n",
    "\n",
    "        self.t = self.t + 1\n",
    "        reward = self.board[self.x, self.y]\n",
    "        if train:\n",
    "            reward -= self.malus_position[self.x, self.y]\n",
    "        self.board[self.x, self.y] = 0\n",
    "        game_over = self.t > self.max_time\n",
    "        state = np.concatenate((self.board.reshape(self.grid_size, self.grid_size,1),\n",
    "                                self.position.reshape(self.grid_size, self.grid_size,1),\n",
    "                                self.malus_position.reshape(self.grid_size, self.grid_size,1)),axis=2)\n",
    "        state = state[self.x-2:self.x+3,self.y-2:self.y+3,:]\n",
    "\n",
    "        return state, reward, game_over\n",
    "\n",
    "    def reset(self):\n",
    "        \"\"\"This function resets the game and returns the initial state\"\"\"\n",
    "\n",
    "        self.x = np.random.randint(3, self.grid_size-3, size=1)[0]\n",
    "        self.y = np.random.randint(3, self.grid_size-3, size=1)[0]\n",
    "\n",
    "\n",
    "        bonus = 0.5*np.random.binomial(1,self.temperature,size=self.grid_size**2)\n",
    "        bonus = bonus.reshape(self.grid_size,self.grid_size)\n",
    "\n",
    "        malus = -1.0*np.random.binomial(1,self.temperature,size=self.grid_size**2)\n",
    "        malus = malus.reshape(self.grid_size, self.grid_size)\n",
    "\n",
    "        self.to_draw = np.zeros((self.max_time+2, self.grid_size*self.scale, self.grid_size*self.scale, 3))\n",
    "\n",
    "\n",
    "        malus[bonus>0]=0\n",
    "\n",
    "        self.board = bonus + malus\n",
    "\n",
    "        self.position = np.zeros((self.grid_size, self.grid_size))\n",
    "        self.malus_position = np.zeros_like(self.position)\n",
    "        \n",
    "        self.position[0:2,:]= -1\n",
    "        self.position[:,0:2] = -1\n",
    "        self.position[-2:, :] = -1\n",
    "        self.position[-2:, :] = -1\n",
    "        self.board[self.x,self.y] = 0\n",
    "        self.t = 0\n",
    "\n",
    "        state = np.concatenate((self.board.reshape(self.grid_size, self.grid_size,1),\n",
    "                                self.position.reshape(self.grid_size, self.grid_size,1),\n",
    "                                self.malus_position.reshape(self.grid_size, self.grid_size,1)),axis=2)\n",
    "\n",
    "        state = state[self.x - 2:self.x + 3, self.y - 2:self.y + 3, :]\n",
    "        return state"
   ]
  },
  {
   "cell_type": "code",
   "execution_count": 18,
   "metadata": {},
   "outputs": [
    {
     "name": "stdout",
     "output_type": "stream",
     "text": [
      "Epoch 000/051 | Loss 0.0353 | Win/lose count 5.5/64.90000000000003 (-59.400000000000034)\n",
      "Epoch 001/051 | Loss 0.0619 | Win/lose count 11.5/37.60000000000004 (-26.100000000000037)\n",
      "Epoch 002/051 | Loss 0.0421 | Win/lose count 8.5/49.600000000000016 (-41.100000000000016)\n",
      "Epoch 003/051 | Loss 0.0380 | Win/lose count 11.0/43.90000000000003 (-32.90000000000003)\n",
      "Epoch 004/051 | Loss 0.0362 | Win/lose count 12.0/45.20000000000004 (-33.20000000000004)\n",
      "Epoch 005/051 | Loss 0.0595 | Win/lose count 6.5/81.99999999999997 (-75.49999999999997)\n",
      "Epoch 006/051 | Loss 0.0638 | Win/lose count 14.0/45.500000000000036 (-31.500000000000036)\n",
      "Epoch 007/051 | Loss 0.0249 | Win/lose count 10.0/54.60000000000004 (-44.60000000000004)\n",
      "Epoch 008/051 | Loss 0.0528 | Win/lose count 10.5/54.400000000000006 (-43.900000000000006)\n",
      "Epoch 009/051 | Loss 0.0387 | Win/lose count 16.5/39.30000000000001 (-22.80000000000001)\n",
      "Epoch 010/051 | Loss 0.0463 | Win/lose count 11.5/122.10000000000001 (-110.60000000000001)\n",
      "Epoch 011/051 | Loss 0.0382 | Win/lose count 8.5/51.20000000000002 (-42.70000000000002)\n",
      "Epoch 012/051 | Loss 0.0360 | Win/lose count 10.5/42.90000000000003 (-32.40000000000003)\n",
      "Epoch 013/051 | Loss 0.0229 | Win/lose count 8.0/43.89999999999999 (-35.89999999999999)\n",
      "Epoch 014/051 | Loss 0.0533 | Win/lose count 3.5/99.99999999999999 (-96.49999999999999)\n",
      "Epoch 015/051 | Loss 0.1031 | Win/lose count 10.0/77.60000000000001 (-67.60000000000001)\n",
      "Epoch 016/051 | Loss 0.0973 | Win/lose count 6.0/63.800000000000026 (-57.800000000000026)\n",
      "Epoch 017/051 | Loss 0.0571 | Win/lose count 11.0/52.300000000000004 (-41.300000000000004)\n",
      "Epoch 018/051 | Loss 0.0797 | Win/lose count 10.0/72.40000000000003 (-62.400000000000034)\n",
      "Epoch 019/051 | Loss 0.0663 | Win/lose count 5.5/76.90000000000002 (-71.40000000000002)\n",
      "Epoch 020/051 | Loss 0.0498 | Win/lose count 11.5/43.60000000000004 (-32.10000000000004)\n",
      "Epoch 021/051 | Loss 0.0441 | Win/lose count 6.0/78.10000000000001 (-72.10000000000001)\n",
      "Epoch 022/051 | Loss 0.0683 | Win/lose count 7.5/72.69999999999996 (-65.19999999999996)\n",
      "Epoch 023/051 | Loss 0.0930 | Win/lose count 9.5/54.200000000000045 (-44.700000000000045)\n",
      "Epoch 024/051 | Loss 0.0322 | Win/lose count 11.5/44.0 (-32.5)\n",
      "Epoch 025/051 | Loss 0.0482 | Win/lose count 11.5/41.80000000000003 (-30.300000000000033)\n",
      "Epoch 026/051 | Loss 0.0548 | Win/lose count 12.0/53.50000000000001 (-41.50000000000001)\n",
      "Epoch 027/051 | Loss 0.0573 | Win/lose count 10.5/48.60000000000004 (-38.10000000000004)\n",
      "Epoch 028/051 | Loss 0.0735 | Win/lose count 5.0/114.89999999999999 (-109.89999999999999)\n",
      "Epoch 029/051 | Loss 0.0736 | Win/lose count 9.0/64.9 (-55.900000000000006)\n",
      "Epoch 030/051 | Loss 0.0499 | Win/lose count 7.5/57.10000000000006 (-49.60000000000006)\n",
      "Epoch 031/051 | Loss 0.0507 | Win/lose count 7.0/63.30000000000004 (-56.30000000000004)\n",
      "Epoch 032/051 | Loss 0.0470 | Win/lose count 15.5/44.50000000000005 (-29.00000000000005)\n",
      "Epoch 033/051 | Loss 0.0367 | Win/lose count 11.5/39.60000000000003 (-28.10000000000003)\n",
      "Epoch 034/051 | Loss 0.0437 | Win/lose count 11.5/42.599999999999994 (-31.099999999999994)\n",
      "Epoch 035/051 | Loss 0.0342 | Win/lose count 7.5/67.20000000000002 (-59.70000000000002)\n",
      "Epoch 036/051 | Loss 0.0562 | Win/lose count 8.5/56.30000000000002 (-47.80000000000002)\n",
      "Epoch 037/051 | Loss 0.0671 | Win/lose count 11.5/44.000000000000014 (-32.500000000000014)\n",
      "Epoch 038/051 | Loss 0.0475 | Win/lose count 7.5/122.00000000000001 (-114.50000000000001)\n",
      "Epoch 039/051 | Loss 0.0376 | Win/lose count 4.5/67.9 (-63.400000000000006)\n",
      "Epoch 040/051 | Loss 0.0292 | Win/lose count 13.5/44.60000000000005 (-31.10000000000005)\n",
      "Epoch 041/051 | Loss 0.0608 | Win/lose count 4.0/68.89999999999995 (-64.89999999999995)\n",
      "Epoch 042/051 | Loss 0.0531 | Win/lose count 15.0/36.50000000000003 (-21.50000000000003)\n",
      "Epoch 043/051 | Loss 0.0466 | Win/lose count 12.5/42.60000000000005 (-30.10000000000005)\n",
      "Epoch 044/051 | Loss 0.0493 | Win/lose count 4.5/87.99999999999999 (-83.49999999999999)\n",
      "Epoch 045/051 | Loss 0.0247 | Win/lose count 8.0/60.10000000000002 (-52.10000000000002)\n",
      "Epoch 046/051 | Loss 0.0268 | Win/lose count 10.0/48.10000000000002 (-38.10000000000002)\n",
      "Epoch 047/051 | Loss 0.0553 | Win/lose count 8.0/60.99999999999999 (-52.99999999999999)\n",
      "Epoch 048/051 | Loss 0.0252 | Win/lose count 5.5/51.90000000000003 (-46.40000000000003)\n",
      "Epoch 049/051 | Loss 0.0322 | Win/lose count 9.0/48.60000000000004 (-39.60000000000004)\n",
      "Epoch 050/051 | Loss 0.0717 | Win/lose count 15.5/40.80000000000003 (-25.300000000000033)\n"
     ]
    },
    {
     "data": {
      "text/html": [
       "<video alt=\"test\" controls>\n",
       "                <source src=\"data:video/mp4;base64,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\" type=\"video/mp4\" />\n",
       "             </video>"
      ],
      "text/plain": [
       "<IPython.core.display.HTML object>"
      ]
     },
     "execution_count": 18,
     "metadata": {},
     "output_type": "execute_result"
    }
   ],
   "source": [
    "# Training\n",
    "\n",
    "env = EnvironmentExploring(grid_size=size, max_time=T, temperature=0.3)\n",
    "agent = DQN_CNN(size, lr=.001, epsilon = 0.9, memory_size=2000, batch_size = 32,n_state=3)\n",
    "train_explore(agent, env, 51, epsilon_start=0.7, epsilon_end=0.1, \n",
    "              epsilon_decay=60000, prefix='cnn_train_explore')\n",
    "HTML(display_videos('cnn_train_explore50.mp4'))"
   ]
  },
  {
   "cell_type": "code",
   "execution_count": 20,
   "metadata": {},
   "outputs": [
    {
     "name": "stdout",
     "output_type": "stream",
     "text": [
      "Win/lose count 9.5/12.0. Average score (-2.5)\n",
      "Win/lose count 12.0/11.0. Average score (-0.75)\n",
      "Win/lose count 10.5/5.0. Average score (1.3333333333333333)\n",
      "Win/lose count 11.0/7.0. Average score (2.0)\n",
      "Win/lose count 9.5/12.0. Average score (1.1)\n",
      "Win/lose count 10.0/5.0. Average score (1.75)\n",
      "Win/lose count 6.0/6.0. Average score (1.5)\n",
      "Win/lose count 10.0/6.0. Average score (1.8125)\n",
      "Win/lose count 3.0/1.0. Average score (1.8333333333333333)\n",
      "Win/lose count 11.0/8.0. Average score (1.95)\n",
      "Win/lose count 12.0/9.0. Average score (2.0454545454545454)\n",
      "Win/lose count 6.0/6.0. Average score (1.875)\n",
      "Win/lose count 13.0/7.0. Average score (2.1923076923076925)\n",
      "Win/lose count 13.5/8.0. Average score (2.4285714285714284)\n",
      "Win/lose count 10.0/5.0. Average score (2.6)\n",
      "Win/lose count 10.0/6.0. Average score (2.6875)\n",
      "Win/lose count 12.0/9.0. Average score (2.7058823529411766)\n",
      "Win/lose count 9.5/10.0. Average score (2.5277777777777777)\n",
      "Win/lose count 5.5/5.0. Average score (2.4210526315789473)\n",
      "Win/lose count 8.5/8.0. Average score (2.325)\n",
      "Win/lose count 14.5/4.0. Average score (2.7142857142857144)\n",
      "Final score: 2.7142857142857144\n"
     ]
    },
    {
     "data": {
      "text/html": [
       "<video alt=\"test\" controls>\n",
       "                <source src=\"data:video/mp4;base64,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\" type=\"video/mp4\" />\n",
       "             </video>"
      ],
      "text/plain": [
       "<IPython.core.display.HTML object>"
      ]
     },
     "execution_count": 20,
     "metadata": {},
     "output_type": "execute_result"
    }
   ],
   "source": [
    "# Evaluation\n",
    "test(agent,env,21,prefix='cnn_test_explore')\n",
    "HTML(display_videos('cnn_test_explore10.mp4'))"
   ]
  },
  {
   "cell_type": "markdown",
   "metadata": {},
   "source": [
    "***\n",
    "***\n",
    "__BONUS question__ Use the expert DQN from the previous question to generate some winning games. Train a model that mimicks its behavior. Compare the performances."
   ]
  },
  {
   "cell_type": "code",
   "execution_count": 21,
   "metadata": {},
   "outputs": [],
   "source": [
    "class Mimic_Agent(Agent):\n",
    "    def __init__(self, grid_size,  epsilon = 0.1, memory_size=100, batch_size = 16,n_state=2):\n",
    "        super(Mimic_Agent, self).__init__(epsilon = epsilon)\n",
    "        self.discount = 0.99\n",
    "        self.grid_size = grid_size\n",
    "        self.n_state = n_state\n",
    "        self.memory = Memory(memory_size)\n",
    "        self.batch_size = batch_size\n",
    "\n",
    "    def learned_act(self, s):\n",
    "        return np.argmax(self.model.predict(s.reshape([1,s.shape[0],s.shape[1],s.shape[2]]))[0,:])\n",
    "\n",
    "    def reinforce(self, s_, a_):\n",
    "        # Two steps: first memorize the states, second learn from the pool\n",
    "\n",
    "        self.memory.remember([s_[:,:,1:], a_])\n",
    "        \n",
    "        input_states = np.zeros((self.batch_size, 5,5,self.n_state))\n",
    "        target_q = np.zeros((self.batch_size, 4))\n",
    "        \n",
    "        for i in range(self.batch_size):\n",
    "            s_, a_  = self.memory.random_access()\n",
    "            \n",
    "            target_q[i, a_] = 5\n",
    "            input_states[i] = s_\n",
    "        \n",
    "        l = self.model.train_on_batch(input_states, target_q)\n",
    "        \n",
    "        return l\n",
    "\n",
    "    def save(self,name_weights='model.h5',name_model='model.json'):\n",
    "        self.model.save_weights(name_weights, overwrite=True)\n",
    "        with open(name_model, \"w\") as outfile:\n",
    "            json.dump(self.model.to_json(), outfile)\n",
    "            \n",
    "    def load(self,name_weights='model.h5',name_model='model.json'):\n",
    "        with open(name_model, \"r\") as jfile:\n",
    "            model = model_from_json(json.load(jfile))\n",
    "        model.load_weights(name_weights)\n",
    "        model.compile(\"sgd\", \"mse\")\n",
    "        self.model = model\n",
    "        \n",
    "class CNN_Mimic_Agent(Mimic_Agent):\n",
    "    def __init__(self, *args,lr=0.1,**kwargs):\n",
    "        super(CNN_Mimic_Agent, self).__init__(*args,**kwargs)\n",
    "        \n",
    "        model = Sequential()\n",
    "        model.add(Conv2D(50,(2,2),input_shape=(5,5,self.n_state,),activation='relu'))\n",
    "        model.add(Flatten())\n",
    "        model.add(Dense(4))\n",
    "        model.compile(sgd(lr=lr, decay=1e-4, momentum=0.0), \"mse\")\n",
    "        self.model = model\n",
    "        \n",
    "# Training the Mimic Agent\n",
    "def train_mimic_agent(ref, agent,env,epoch,epsilon=0.1, decay=0.99, prefix=''):\n",
    "    # Number of won games\n",
    "    score = 0\n",
    "    loss = 0\n",
    "\n",
    "    for e in range(epoch):\n",
    "        # At each epoch, we restart to a fresh game and get the initial state\n",
    "        state = env.reset()\n",
    "        # This assumes that the games will terminate\n",
    "        game_over = False\n",
    "\n",
    "        win = 0\n",
    "        lose = 0\n",
    "        \n",
    "        agent.set_epsilon(epsilon)\n",
    "\n",
    "        while not game_over:\n",
    "            # The agent performs an action\n",
    "            action = ref.act(state, train=False)\n",
    "\n",
    "            \n",
    "            # Apply an action to the environment, get the next state, the reward\n",
    "            # and if the games end\n",
    "            prev_state = state\n",
    "            state, reward, game_over = env.act(action, train=True)\n",
    "\n",
    "            # Update the counters\n",
    "            if reward > 0:\n",
    "                win = win + reward\n",
    "            if reward < 0:\n",
    "                lose = lose -reward\n",
    "                \n",
    "            # Apply the reinforcement strategy\n",
    "            loss = agent.reinforce(prev_state,  action)\n",
    "\n",
    "        # Save as a mp4\n",
    "        if e % 10 == 0:\n",
    "            env.draw(prefix+str(e))\n",
    "\n",
    "        # Update stats\n",
    "        score += win-lose\n",
    "\n",
    "        print(\"Epoch {:03d}/{:03d} | Loss {:.4f} | Win/lose count {}/{} ({})\"\n",
    "              .format(e, epoch, loss, win, lose, win-lose))\n",
    "        agent.save(name_weights=prefix+'model.h5',name_model=prefix+'model.json')"
   ]
  },
  {
   "cell_type": "code",
   "execution_count": 22,
   "metadata": {},
   "outputs": [
    {
     "name": "stdout",
     "output_type": "stream",
     "text": [
      "Epoch 000/015 | Loss 2.6434 | Win/lose count 12.5/70.70000000000002 (-58.20000000000002)\n",
      "Epoch 001/015 | Loss 3.0209 | Win/lose count 11.0/43.80000000000002 (-32.80000000000002)\n",
      "Epoch 002/015 | Loss 2.5984 | Win/lose count 1.0/399.50000000000006 (-398.50000000000006)\n",
      "Epoch 003/015 | Loss 2.5309 | Win/lose count 12.5/48.000000000000014 (-35.500000000000014)\n",
      "Epoch 004/015 | Loss 2.7409 | Win/lose count 9.0/46.400000000000034 (-37.400000000000034)\n",
      "Epoch 005/015 | Loss 2.6728 | Win/lose count 1.5/849.8999999999993 (-848.3999999999993)\n",
      "Epoch 006/015 | Loss 2.5566 | Win/lose count 9.0/69.20000000000005 (-60.200000000000045)\n",
      "Epoch 007/015 | Loss 1.9380 | Win/lose count 9.5/60.40000000000004 (-50.90000000000004)\n",
      "Epoch 008/015 | Loss 2.9507 | Win/lose count 7.5/42.90000000000002 (-35.40000000000002)\n",
      "Epoch 009/015 | Loss 2.5872 | Win/lose count 6.5/70.10000000000001 (-63.60000000000001)\n",
      "Epoch 010/015 | Loss 3.0017 | Win/lose count 7.0/62.20000000000002 (-55.20000000000002)\n",
      "Epoch 011/015 | Loss 2.5392 | Win/lose count 11.5/73.79999999999994 (-62.29999999999994)\n",
      "Epoch 012/015 | Loss 2.9790 | Win/lose count 5.5/80.50000000000001 (-75.00000000000001)\n",
      "Epoch 013/015 | Loss 2.7623 | Win/lose count 4.5/548.1 (-543.6)\n",
      "Epoch 014/015 | Loss 2.2644 | Win/lose count 11.0/50.80000000000002 (-39.80000000000002)\n"
     ]
    }
   ],
   "source": [
    "epochs_train = 15\n",
    "pro_agent = agent\n",
    "mimic_agent = CNN_Mimic_Agent(size, lr=.1, epsilon = 0.1, memory_size=2000, batch_size = 32,n_state=2)\n",
    "env = EnvironmentExploring(grid_size=size, max_time=T, temperature=0.3)\n",
    "train_mimic_agent(pro_agent,mimic_agent, env, epochs_train, prefix='train_cnn_mimick_agent')"
   ]
  },
  {
   "cell_type": "code",
   "execution_count": 23,
   "metadata": {},
   "outputs": [
    {
     "name": "stdout",
     "output_type": "stream",
     "text": [
      "Win/lose count 2.5/3.0. Average score (-0.5)\n",
      "Win/lose count 0.5/0. Average score (0.0)\n",
      "Win/lose count 2.5/1.0. Average score (0.5)\n",
      "Win/lose count 1.0/1.0. Average score (0.375)\n",
      "Win/lose count 0.5/0. Average score (0.4)\n",
      "Win/lose count 0/3.0. Average score (-0.16666666666666666)\n",
      "Win/lose count 0/0. Average score (-0.14285714285714285)\n",
      "Win/lose count 1.0/8.0. Average score (-1.0)\n",
      "Win/lose count 0.5/0. Average score (-0.8333333333333334)\n",
      "Win/lose count 2.0/5.0. Average score (-1.05)\n",
      "Final score: -1.05\n"
     ]
    }
   ],
   "source": [
    "# Evaluation\n",
    "env_test = Environment(grid_size=size, max_time=T,temperature=0.3)\n",
    "test(mimic_agent,env_test,epochs_test,prefix='test_cnn_mimick_agent')"
   ]
  },
  {
   "cell_type": "code",
   "execution_count": 26,
   "metadata": {},
   "outputs": [
    {
     "data": {
      "text/html": [
       "<video alt=\"test\" controls>\n",
       "                <source src=\"data:video/mp4;base64,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\" type=\"video/mp4\" />\n",
       "             </video>"
      ],
      "text/plain": [
       "<IPython.core.display.HTML object>"
      ]
     },
     "execution_count": 26,
     "metadata": {},
     "output_type": "execute_result"
    }
   ],
   "source": [
    "HTML(display_videos('test_cnn_mimick_agent0.mp4'))"
   ]
  },
  {
   "cell_type": "markdown",
   "metadata": {},
   "source": [
    "> Performance of the agent drops significantly but training becomes faster."
   ]
  },
  {
   "cell_type": "markdown",
   "metadata": {},
   "source": [
    "***"
   ]
  }
 ],
 "metadata": {
  "kernelspec": {
   "display_name": "Python 3",
   "language": "python",
   "name": "python3"
  },
  "language_info": {
   "codemirror_mode": {
    "name": "ipython",
    "version": 3
   },
   "file_extension": ".py",
   "mimetype": "text/x-python",
   "name": "python",
   "nbconvert_exporter": "python",
   "pygments_lexer": "ipython3",
   "version": "3.6.8"
  }
 },
 "nbformat": 4,
 "nbformat_minor": 2
}
