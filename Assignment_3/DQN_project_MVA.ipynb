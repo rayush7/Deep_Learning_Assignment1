{
 "cells": [
  {
   "cell_type": "markdown",
   "metadata": {},
   "source": [
    "#### Student Name : Ayush K. Rai\n",
    "#### Program : MSc in Artificial Intelligence\n",
    "\n",
    "\n",
    "**You may need to install [OpenCV](https://pypi.python.org/pypi/opencv-python) and [scikit-video](http://www.scikit-video.org/stable/).**"
   ]
  },
  {
   "cell_type": "code",
   "execution_count": 8,
   "metadata": {},
   "outputs": [
    {
     "name": "stderr",
     "output_type": "stream",
     "text": [
      "Using TensorFlow backend.\n"
     ]
    }
   ],
   "source": [
    "import keras\n",
    "import numpy as np\n",
    "import io\n",
    "import base64\n",
    "from IPython.display import HTML\n",
    "import skvideo.io\n",
    "import cv2\n",
    "import json\n",
    "\n",
    "from keras.models import Sequential,model_from_json\n",
    "from keras.layers.core import Dense\n",
    "from keras.optimizers import sgd, Adam\n",
    "from keras.layers import Conv2D, MaxPooling2D, Activation, AveragePooling2D,Reshape,BatchNormalization, Flatten"
   ]
  },
  {
   "cell_type": "markdown",
   "metadata": {},
   "source": [
    "# MiniProject #3: Deep Reinforcement Learning"
   ]
  },
  {
   "cell_type": "markdown",
   "metadata": {},
   "source": [
    "__Notations__: $E_p$ is the expectation under probability $p$. Please justify each of your answer and widely comment your code."
   ]
  },
  {
   "cell_type": "markdown",
   "metadata": {},
   "source": [
    "# Context"
   ]
  },
  {
   "cell_type": "markdown",
   "metadata": {},
   "source": [
    "In a reinforcement learning algorithm, we modelize each step $t$ as an action $a_t$ obtained from a state $s_t$, i.e. $\\{(a_{t},s_{t})_{t\\leq T}\\}$ having the Markov property. We consider a discount factor $\\gamma \\in [0,1]$ that ensures convergence. The goal is to find among all the policies $\\pi$, one that maximizes the expected reward:\n",
    "\n",
    "\\begin{equation*}\n",
    "R(\\pi)=\\sum_{t\\leq T}E_{p^{\\pi}}[\\gamma^t r(s_{t},a_{t})] \\> ,\n",
    "\\end{equation*}\n",
    "\n",
    "where: \n",
    "\\begin{equation*}p^{\\pi}(a_{0},a_{1},s_{1},...,a_{T},s_{T})=p(a_{0})\\prod_{t=1}^{T}\\pi(a_{t}|s_{t})p(s_{t+1}|s_{t},a_{t}) \\> .\n",
    "\\end{equation*}\n",
    "\n",
    "We note the $Q$-function:\n",
    "\n",
    "\\begin{equation*}Q^\\pi(s,a)=E_{p^{\\pi}}[\\sum_{t\\leq T}\\gamma^{t}r(s_{t},a_{t})|s_{0}=s,a_{0}=a] \\> .\n",
    "\\end{equation*}\n",
    "\n",
    "Thus, the optimal Q function is:\n",
    "\\begin{equation*}\n",
    "Q^*(s,a)=\\max_{\\pi}Q^\\pi(s,a) \\> .\n",
    "\\end{equation*}\n",
    "\n",
    "In this project, we will apply the deep reinforcement learning techniques to a simple game: an agent will have to learn from scratch a policy that will permit it maximizing a reward."
   ]
  },
  {
   "cell_type": "markdown",
   "metadata": {},
   "source": [
    "## The environment, the agent and the game"
   ]
  },
  {
   "cell_type": "markdown",
   "metadata": {},
   "source": [
    "### The environment"
   ]
  },
  {
   "cell_type": "markdown",
   "metadata": {},
   "source": [
    "```Environment``` is an abstract class that represents the states, rewards, and actions to obtain the new state."
   ]
  },
  {
   "cell_type": "code",
   "execution_count": 1,
   "metadata": {},
   "outputs": [],
   "source": [
    "class Environment(object):\n",
    "    def __init__(self):\n",
    "        pass\n",
    "\n",
    "    def act(self, act):\n",
    "        \"\"\"\n",
    "        One can act on the environment and obtain its reaction:\n",
    "        - the new state\n",
    "        - the reward of the new state\n",
    "        - should we continue the game?\n",
    "\n",
    "        :return: state, reward, game_over\n",
    "        \"\"\"\n",
    "        pass\n",
    "\n",
    "\n",
    "    def reset(self):\n",
    "        \"\"\"\n",
    "        Reinitialize the environment to a random state and returns\n",
    "        the original state\n",
    "\n",
    "        :return: state\n",
    "        \"\"\"\n",
    "        pass\n",
    "    \n",
    "    def draw(self):\n",
    "        \"\"\"\n",
    "        Visualize in the console or graphically the current state\n",
    "        \"\"\"\n",
    "        pass"
   ]
  },
  {
   "cell_type": "markdown",
   "metadata": {},
   "source": [
    "The method ```act``` allows to act on the environment at a given state $s_t$ (stored internally), via action $a_t$. The method will return the new state $s_{t+1}$, the reward $r(s_{t},a_{t})$ and determines if $t\\leq T$ (*game_over*).\n",
    "\n",
    "The method ```reset``` simply reinitializes the environment to a random state $s_0$.\n",
    "\n",
    "The method ```draw``` displays the current state $s_t$ (this is useful to check the behavior of the Agent).\n",
    "\n",
    "We modelize $s_t$ as a tensor, while $a_t$ is an integer."
   ]
  },
  {
   "cell_type": "markdown",
   "metadata": {},
   "source": [
    "### The Agent"
   ]
  },
  {
   "cell_type": "markdown",
   "metadata": {},
   "source": [
    "The goal of the ```Agent``` is to interact with the ```Environment``` by proposing actions $a_t$ obtained from a given state $s_t$ to attempt to maximize its __reward__ $r(s_t,a_t)$. We propose the following abstract class:"
   ]
  },
  {
   "cell_type": "code",
   "execution_count": 2,
   "metadata": {},
   "outputs": [],
   "source": [
    "class Agent(object):\n",
    "    def __init__(self, epsilon=0.1, n_action=4):\n",
    "        self.epsilon = epsilon\n",
    "        self.n_action = n_action\n",
    "    \n",
    "    def set_epsilon(self,e):\n",
    "        self.epsilon = e\n",
    "\n",
    "    def act(self,s,train=True):\n",
    "        \"\"\" This function should return the next action to do:\n",
    "        an integer between 0 and 4 (not included) with a random exploration of epsilon\"\"\"\n",
    "        if train:\n",
    "            if np.random.rand() <= self.epsilon:\n",
    "                a = np.random.randint(0, self.n_action, size=1)[0]\n",
    "            else:\n",
    "                a = self.learned_act(s)\n",
    "        else: # in some cases, this can improve the performance.. remove it if poor performances\n",
    "            a = self.learned_act(s)\n",
    "\n",
    "        return a\n",
    "\n",
    "    def learned_act(self,s):\n",
    "        \"\"\" Act via the policy of the agent, from a given state s\n",
    "        it proposes an action a\"\"\"\n",
    "        pass\n",
    "\n",
    "    def reinforce(self, s, n_s, a, r, game_over_):\n",
    "        \"\"\" This function is the core of the learning algorithm. \n",
    "        It takes as an input the current state s_, the next state n_s_\n",
    "        the action a_ used to move from s_ to n_s_ and the reward r_.\n",
    "        \n",
    "        Its goal is to learn a policy.\n",
    "        \"\"\"\n",
    "        pass\n",
    "\n",
    "    def save(self):\n",
    "        \"\"\" This function returns basic stats if applicable: the\n",
    "        loss and/or the model\"\"\"\n",
    "        pass\n",
    "\n",
    "    def load(self):\n",
    "        \"\"\" This function allows to restore a model\"\"\"\n",
    "        pass"
   ]
  },
  {
   "cell_type": "markdown",
   "metadata": {},
   "source": [
    "***\n",
    "__Question 1__:\n",
    "Explain the function act. Why is ```epsilon``` essential?"
   ]
  },
  {
   "cell_type": "markdown",
   "metadata": {},
   "source": [
    "> In the method `Agent.act(state, train=True)` , the agent attempts to decide which action to take. The method takes the current state as the input represented by (`state`) and predicts the action to perform from that state, which is also the output of the function.\n",
    "\n",
    "> However the best action to perform given a state is something that an agent needs to learn through a learning process. In the begining the agent doesn't have any knowledge about performing the correct action. Therefore the agent has to experiment new behaviours based on trial and error to find the action which yields the greatest expected cumulative discounted reward (or expected return $R(\\pi)$).\n",
    "\n",
    "> This trial and error based behaviour is otherwise called exploration and exploitation policy. One such type of policy is $\\varepsilon$-greedy (`Agent.epsilon`) exploration policy. With some probibility $\\varepsilon$ (also called exploration rate), the agent explores (i.e takes an action at random) and otherwise, the agent exploits the policy that it has learnt.\n",
    "\n",
    "> In practice the agent needs to explore more in the initial stages and slowly descrease the value of $\\varepsilon$ and therefore take more actions based on the knowledge and experience acquired till then with a higher probability."
   ]
  },
  {
   "cell_type": "markdown",
   "metadata": {},
   "source": [
    "***\n",
    "### The Game"
   ]
  },
  {
   "cell_type": "markdown",
   "metadata": {},
   "source": [
    "The ```Agent``` and the ```Environment``` work in an interlaced way as in the following (take some time to understand this code as it is the core of the project)\n",
    "\n",
    "```python\n",
    "\n",
    "epoch = 300\n",
    "env = Environment()\n",
    "agent = Agent()\n",
    "\n",
    "\n",
    "# Number of won games\n",
    "score = 0\n",
    "loss = 0\n",
    "\n",
    "\n",
    "for e in range(epoch):\n",
    "    # At each epoch, we restart to a fresh game and get the initial state\n",
    "    state = env.reset()\n",
    "    # This assumes that the games will end\n",
    "    game_over = False\n",
    "\n",
    "    win = 0\n",
    "    lose = 0\n",
    "    \n",
    "    while not game_over:\n",
    "        # The agent performs an action\n",
    "        action = agent.act(state)\n",
    "\n",
    "        # Apply an action to the environment, get the next state, the reward\n",
    "        # and if the games end\n",
    "        prev_state = state\n",
    "        state, reward, game_over = env.act(action)\n",
    "\n",
    "        # Update the counters\n",
    "        if reward > 0:\n",
    "            win = win + reward\n",
    "        if reward < 0:\n",
    "            lose = lose -reward\n",
    "\n",
    "        # Apply the reinforcement strategy\n",
    "        loss = agent.reinforce(prev_state, state,  action, reward, game_over)\n",
    "\n",
    "    # Save as a mp4\n",
    "    if e % 10 == 0:\n",
    "        env.draw(e)\n",
    "\n",
    "    # Update stats\n",
    "    score += win-lose\n",
    "\n",
    "    print(\"Epoch {:03d}/{:03d} | Loss {:.4f} | Win/lose count {}/{} ({})\"\n",
    "          .format(e, epoch, loss, win, lose, win-lose))\n",
    "    agent.save()\n",
    "```"
   ]
  },
  {
   "cell_type": "markdown",
   "metadata": {},
   "source": [
    "# The game, *eat cheese*"
   ]
  },
  {
   "cell_type": "markdown",
   "metadata": {},
   "source": [
    "A rat runs on an island and tries to eat as much as possible. The island is subdivided into $N\\times N$ cells, in which there are cheese (+0.5) and poisonous cells (-1). The rat has a visibility of 2 cells (thus it can see $5^2$ cells). The rat is given a time $T$ to accumulate as much food as possible. It can perform 4 actions: going up, down, left, right. \n",
    "\n",
    "The goal is to code an agent to solve this task that will learn by trial and error. We propose the following environment:"
   ]
  },
  {
   "cell_type": "code",
   "execution_count": 3,
   "metadata": {},
   "outputs": [],
   "source": [
    "class Environment(object):\n",
    "    def __init__(self, grid_size=10, max_time=500, temperature=0.1):\n",
    "        grid_size = grid_size+4\n",
    "        self.grid_size = grid_size\n",
    "        self.max_time = max_time\n",
    "        self.temperature = temperature\n",
    "\n",
    "        #board on which one plays\n",
    "        self.board = np.zeros((grid_size,grid_size))\n",
    "        self.position = np.zeros((grid_size,grid_size))\n",
    "\n",
    "        # coordinate of the cat\n",
    "        self.x = 0\n",
    "        self.y = 1\n",
    "\n",
    "        # self time\n",
    "        self.t = 0\n",
    "\n",
    "        self.scale=16\n",
    "\n",
    "        self.to_draw = np.zeros((max_time+2, grid_size*self.scale, grid_size*self.scale, 3))\n",
    "\n",
    "\n",
    "    def draw(self,e):\n",
    "        skvideo.io.vwrite(str(e) + '.mp4', self.to_draw)\n",
    "\n",
    "    def get_frame(self,t):\n",
    "        b = np.zeros((self.grid_size,self.grid_size,3))+128\n",
    "        b[self.board>0,0] = 256\n",
    "        b[self.board < 0, 2] = 256\n",
    "        b[self.x,self.y,:]=256\n",
    "        b[-2:,:,:]=0\n",
    "        b[:,-2:,:]=0\n",
    "        b[:2,:,:]=0\n",
    "        b[:,:2,:]=0\n",
    "        \n",
    "        b =  cv2.resize(b, None, fx=self.scale, fy=self.scale, interpolation=cv2.INTER_NEAREST)\n",
    "\n",
    "        self.to_draw[t,:,:,:]=b\n",
    "\n",
    "\n",
    "    def act(self, action):\n",
    "        \"\"\"This function returns the new state, reward and decides if the\n",
    "        game ends.\"\"\"\n",
    "\n",
    "        self.get_frame(int(self.t))\n",
    "\n",
    "        self.position = np.zeros((self.grid_size, self.grid_size))\n",
    "\n",
    "        self.position[0:2,:]= -1\n",
    "        self.position[:,0:2] = -1\n",
    "        self.position[-2:, :] = -1\n",
    "        self.position[-2:, :] = -1\n",
    "\n",
    "        self.position[self.x, self.y] = 1\n",
    "        if action == 0:\n",
    "            if self.x == self.grid_size-3:\n",
    "                self.x = self.x-1\n",
    "            else:\n",
    "                self.x = self.x + 1\n",
    "        elif action == 1:\n",
    "            if self.x == 2:\n",
    "                self.x = self.x+1\n",
    "            else:\n",
    "                self.x = self.x-1\n",
    "        elif action == 2:\n",
    "            if self.y == self.grid_size - 3:\n",
    "                self.y = self.y - 1\n",
    "            else:\n",
    "                self.y = self.y + 1\n",
    "        elif action == 3:\n",
    "            if self.y == 2:\n",
    "                self.y = self.y + 1\n",
    "            else:\n",
    "                self.y = self.y - 1\n",
    "        else:\n",
    "            RuntimeError('Error: action not recognized')\n",
    "\n",
    "        self.t = self.t + 1\n",
    "        reward = self.board[self.x, self.y]\n",
    "        self.board[self.x, self.y] = 0\n",
    "        game_over = self.t > self.max_time\n",
    "        state = np.concatenate((self.board.reshape(self.grid_size, self.grid_size,1),\n",
    "                        self.position.reshape(self.grid_size, self.grid_size,1)),axis=2)\n",
    "        state = state[self.x-2:self.x+3,self.y-2:self.y+3,:]\n",
    "\n",
    "        return state, reward, game_over\n",
    "\n",
    "    def reset(self):\n",
    "        \"\"\"This function resets the game and returns the initial state\"\"\"\n",
    "\n",
    "        self.x = np.random.randint(3, self.grid_size-3, size=1)[0]\n",
    "        self.y = np.random.randint(3, self.grid_size-3, size=1)[0]\n",
    "\n",
    "\n",
    "        bonus = 0.5*np.random.binomial(1,self.temperature,size=self.grid_size**2)\n",
    "        bonus = bonus.reshape(self.grid_size,self.grid_size)\n",
    "\n",
    "        malus = -1.0*np.random.binomial(1,self.temperature,size=self.grid_size**2)\n",
    "        malus = malus.reshape(self.grid_size, self.grid_size)\n",
    "\n",
    "        self.to_draw = np.zeros((self.max_time+2, self.grid_size*self.scale, self.grid_size*self.scale, 3))\n",
    "\n",
    "\n",
    "        malus[bonus>0]=0\n",
    "\n",
    "        self.board = bonus + malus\n",
    "\n",
    "        self.position = np.zeros((self.grid_size, self.grid_size))\n",
    "        self.position[0:2,:]= -1\n",
    "        self.position[:,0:2] = -1\n",
    "        self.position[-2:, :] = -1\n",
    "        self.position[-2:, :] = -1\n",
    "        self.board[self.x,self.y] = 0\n",
    "        self.t = 0\n",
    "\n",
    "        state = np.concatenate((\n",
    "                               self.board.reshape(self.grid_size, self.grid_size,1),\n",
    "                        self.position.reshape(self.grid_size, self.grid_size,1)),axis=2)\n",
    "\n",
    "        state = state[self.x - 2:self.x + 3, self.y - 2:self.y + 3, :]\n",
    "        return state"
   ]
  },
  {
   "cell_type": "markdown",
   "metadata": {},
   "source": [
    "The following elements are important because they correspond to the hyper parameters for this project:"
   ]
  },
  {
   "cell_type": "code",
   "execution_count": 4,
   "metadata": {},
   "outputs": [],
   "source": [
    "# parameters\n",
    "size = 13\n",
    "T=200\n",
    "temperature=0.3\n",
    "epochs_train=50 # set small when debugging\n",
    "epochs_test=10 # set small when debugging\n",
    "\n",
    "# display videos\n",
    "def display_videos(name):\n",
    "    video = io.open(name, 'r+b').read()\n",
    "    encoded = base64.b64encode(video)\n",
    "    return '''<video alt=\"test\" controls>\n",
    "                <source src=\"data:video/mp4;base64,{0}\" type=\"video/mp4\" />\n",
    "             </video>'''.format(encoded.decode('ascii'))"
   ]
  },
  {
   "cell_type": "markdown",
   "metadata": {},
   "source": [
    "__Question 2__ Explain the use of the arrays ```position``` and ```board```."
   ]
  },
  {
   "cell_type": "markdown",
   "metadata": {},
   "source": [
    "*Position*  \n",
    "This matrix is used to define the rat position and allowed moves. \n",
    "- It is filled with `0` by default.\n",
    "- On every border, there is thickness of two cell with value `-1`, representing the cells where the rat cannot go. That's why +4 was added to the grid size, allowing space for these borders.\n",
    "\n",
    "\n",
    "- Only one cell is set to `1`, representing the actual positon of the rat.\n",
    "\n",
    "*Board*  \n",
    "This matrix is used to define the environment.\n",
    "- It is also initialized with a size increased by 4, to fit with the `positon matrix`.\n",
    "- It contains `rewards` for the rat. `-1` for poison, `0.5` for cheese.\n",
    "- When the rat has already explored a cell, we set the cell to `0`"
   ]
  },
  {
   "cell_type": "markdown",
   "metadata": {},
   "source": [
    "## Random Agent"
   ]
  },
  {
   "cell_type": "markdown",
   "metadata": {},
   "source": [
    "***\n",
    "__Question 3__ Implement a random Agent (only ```learned_act``` needs to be implemented):"
   ]
  },
  {
   "cell_type": "code",
   "execution_count": 5,
   "metadata": {},
   "outputs": [],
   "source": [
    "class RandomAgent(Agent):\n",
    "    def __init__(self):\n",
    "        super(RandomAgent, self).__init__()\n",
    "        pass\n",
    "\n",
    "    def learned_act(self, s):\n",
    "        a = np.random.randint(0, self.n_action)\n",
    "        return a"
   ]
  },
  {
   "cell_type": "markdown",
   "metadata": {},
   "source": [
    "***\n",
    "***\n",
    "__Question 4__ Visualize the game moves. You need to fill in the following function for the evaluation:"
   ]
  },
  {
   "cell_type": "code",
   "execution_count": 6,
   "metadata": {},
   "outputs": [],
   "source": [
    "def test(agent,env,epochs,prefix=''):\n",
    "    # Number of won games\n",
    "    score = 0\n",
    " \n",
    "    for e in range(epochs):\n",
    "        \n",
    "        state = env.reset()\n",
    "        \n",
    "        # This assumes that the games will end\n",
    "        game_over = False\n",
    "        \n",
    "        #Initialization of the Variables\n",
    "        win = 0\n",
    "        lose = 0\n",
    "\n",
    "        while not game_over:\n",
    "            \n",
    "            action = agent.learned_act(state)\n",
    "            \n",
    "            #print(action)\n",
    "            \n",
    "            prev_state= state\n",
    "            state,reward,game_over = env.act(action)\n",
    "            \n",
    "            if reward >0:\n",
    "                win = win +reward \n",
    "            if reward < 0:\n",
    "                lose = lose-reward\n",
    "                \n",
    "        # Save as a mp4\n",
    "        env.draw(prefix+str(e))\n",
    "\n",
    "        # Update stats\n",
    "        score = score + win-lose\n",
    "\n",
    "        print(\"Win/lose count {}/{}. Average score ({})\"\n",
    "              .format(win, lose, score/(1+e)))\n",
    "    print('Final score: '+str(score/epochs))"
   ]
  },
  {
   "cell_type": "code",
   "execution_count": 9,
   "metadata": {
    "scrolled": true
   },
   "outputs": [
    {
     "name": "stdout",
     "output_type": "stream",
     "text": [
      "Win/lose count 8.0/12.0. Average score (-4.0)\n",
      "Win/lose count 9.5/18.0. Average score (-6.25)\n",
      "Win/lose count 7.5/11.0. Average score (-5.333333333333333)\n",
      "Win/lose count 7.0/12.0. Average score (-5.25)\n",
      "Win/lose count 7.0/9.0. Average score (-4.6)\n",
      "Win/lose count 15.0/11.0. Average score (-3.1666666666666665)\n",
      "Win/lose count 12.5/19.0. Average score (-3.642857142857143)\n",
      "Win/lose count 15.0/16.0. Average score (-3.3125)\n",
      "Win/lose count 6.5/3.0. Average score (-2.5555555555555554)\n",
      "Win/lose count 8.0/7.0. Average score (-2.2)\n",
      "Final score: -2.2\n"
     ]
    },
    {
     "data": {
      "text/html": [
       "<video alt=\"test\" controls>\n",
       "                <source src=\"data:video/mp4;base64,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\" type=\"video/mp4\" />\n",
       "             </video>"
      ],
      "text/plain": [
       "<IPython.core.display.HTML object>"
      ]
     },
     "execution_count": 9,
     "metadata": {},
     "output_type": "execute_result"
    }
   ],
   "source": [
    "# Initialize the game\n",
    "env = Environment(grid_size=size, max_time=T,temperature=temperature)\n",
    "\n",
    "# Initialize the agent!\n",
    "agent = RandomAgent()\n",
    "\n",
    "test(agent,env,epochs_test,prefix='random')\n",
    "HTML(display_videos('random0.mp4'))"
   ]
  },
  {
   "cell_type": "markdown",
   "metadata": {},
   "source": [
    "***\n",
    "## DQN"
   ]
  },
  {
   "cell_type": "markdown",
   "metadata": {},
   "source": [
    "Let us assume here that $T=\\infty$.\n",
    "\n",
    "***\n",
    "__Question 5__ Let $\\pi$ be a policy, show that:\n",
    "\n",
    "\\begin{equation*}\n",
    "Q^{\\pi}(s,a)=E_{(s',a')\\sim p(.|s,a)}[r(s,a)+\\gamma Q^{\\pi}(s',a')]\n",
    "\\end{equation*}\n",
    "\n",
    "Then, show that for the optimal policy $\\pi^*$ (we assume its existence), the following holds: \n",
    "\n",
    "\\begin{equation*}\n",
    "Q^{*}(s,a)=E_{s'\\sim \\pi^*(.|s,a)}[r(s,a)+\\gamma\\max_{a'}Q^{*}(s',a')].\n",
    "\\end{equation*}\n",
    "Finally, deduce that a plausible objective is:\n",
    "\n",
    "\\begin{equation*}\n",
    "\\mathcal{L}(\\theta)=E_{s' \\sim \\pi^*(.|s,a)}\\Vert r+\\gamma\\max\\max_{a'}Q(s',a',\\theta)-Q(s,a,\\theta)\\Vert^{2}.\n",
    "\\end{equation*}\n",
    "\n",
    "\n"
   ]
  },
  {
   "cell_type": "markdown",
   "metadata": {},
   "source": [
    "> Here, we show that $Q^{\\pi}$ follows the Bellman equation:\n",
    ">\n",
    "> \n",
    "> \\begin{equation*}\n",
    " \\begin{aligned}\n",
    "Q^{\\pi}(s, a) &= \\mathbb{E}(\\sum_{t \\le T} \\gamma^t r(s_t, a_t) | s_0 = s, a_0 = a, \\cdots, a_t=\\pi(s_t)) \\\\\n",
    "            &= r(s, a) + \\mathbb{E}(\\sum_{1 \\le t \\le T} \\gamma^t r(s_t, \\pi(a_t)) | s_0 = s, a_0 = a)\n",
    "\\end{aligned}\n",
    "\\end{equation*}\n",
    ">\n",
    "> Then using the law of total expectations:\n",
    ">\n",
    "> \n",
    ">\\begin{equation*}\n",
    "\\begin{aligned}\n",
    "Q^{\\pi}(s, a) &= r(s, a) + \\gamma \\sum_{s', a'} \\mathbb{P}(s_1 = s', a_1 = a'| s_0 = s, a_0 = a)\\mathbb{E}(\\sum_{1 \\le t \\le T} \\gamma^{t-1} r(s_t, \\pi(s_t)) | s_1 = s', a_1 = a', \\pi) \\\\\n",
    "               &= E_{(s',a')\\sim p(.|s,a)}[r(s,a)+\\gamma Q^{\\pi}(s',a')]\n",
    "\\end{aligned}\n",
    "\\end{equation*}\n",
    "> \n",
    "> Fo the second inequatily, we use the fact that $Q^* = \\max_{\\pi}Q^\\pi$ and, with similar derivations:\n",
    ">\n",
    ">\\begin{equation*}\n",
    "\\begin{aligned}\n",
    "Q^*(s, a) &= r(s, a) + \\gamma \\sum_{s'} \\max_{a'} \\mathbb{P}(s_1 = s', a_1 = a'| s_0 = s, a_0 = a)\\mathbb{E}(\\sum_{1 \\le t \\le T} \\gamma^{t-1} r(s_t, \\pi^*(s_t)) | s_1 = s', a_1 = a', \\pi^*) \\\\\n",
    "               &= E_{s'\\sim \\pi^*(.|s,a)}[r(s,a)+\\gamma \\max_{a'}Q^*(s',a')]\n",
    "\\end{aligned}\n",
    "\\end{equation*}\n",
    ">\n",
    "> The learning problem is translated into finding the optimal policy $\\pi^*$. Instead of looking directly for its value, we look for the optimal action-value function $Q^*$.\n",
    ">\n",
    "> Using the fact that the optimal Bellman operator admits a fixed point which is $Q^*$, we can deduce that\n",
    "> $\\mathcal{L}$ is a correct loss and represent the temporal difference between $Q_t$ and $Q_{t+1}$."
   ]
  },
  {
   "cell_type": "markdown",
   "metadata": {},
   "source": [
    "***\n",
    "The DQN-learning algorithm relies on these derivations to train the parameters $\\theta$ of a Deep Neural Network:\n",
    "\n",
    "1. At the state $s_t$, select the action $a_t$ with best reward using $Q_t$ and store the results;\n",
    "\n",
    "2. Obtain the new state $s_{t+1}$ from the environment $p$;\n",
    "\n",
    "3. Store $(s_t,a_t,s_{t+1})$;\n",
    "\n",
    "4. Obtain $Q_{t+1}$ by minimizing  $\\mathcal{L}$ from a recovered batch from the previously stored results.\n",
    "\n",
    "***\n",
    "__Question 6__ Implement the class ```Memory``` that stores moves (in a replay buffer) via ```remember``` and provides a ```random_access``` to these. Specify a maximum memory size to avoid side effects. You can for example use a ```list()``` and set by default ```max_memory=100```."
   ]
  },
  {
   "cell_type": "code",
   "execution_count": 10,
   "metadata": {},
   "outputs": [],
   "source": [
    "class Memory(object):\n",
    "    def __init__(self, max_memory=100):\n",
    "        self.max_memory = max_memory\n",
    "        self.memory = list()\n",
    "\n",
    "    def remember(self, m):\n",
    "        self.memory.append(m)\n",
    "        if len(self.memory) > self.max_memory:\n",
    "            self.memory.pop(0)\n",
    "\n",
    "    def random_access(self):\n",
    "        id_random = np.random.randint(len(self.memory))\n",
    "        return self.memory[id_random]"
   ]
  },
  {
   "cell_type": "markdown",
   "metadata": {},
   "source": [
    "***\n",
    "The pipeline we will use for training is given below:"
   ]
  },
  {
   "cell_type": "code",
   "execution_count": 11,
   "metadata": {},
   "outputs": [],
   "source": [
    "def train(agent,env,epoch,prefix=''):\n",
    "    # Number of won games\n",
    "    score = 0\n",
    "    loss = 0\n",
    "\n",
    "    for e in range(epoch):\n",
    "        # At each epoch, we restart to a fresh game and get the initial state\n",
    "        state = env.reset()\n",
    "        # This assumes that the games will terminate\n",
    "        game_over = False\n",
    "\n",
    "        win = 0\n",
    "        lose = 0\n",
    "\n",
    "        while not game_over:\n",
    "            # The agent performs an action\n",
    "            action = agent.act(state)\n",
    "\n",
    "            # Apply an action to the environment, get the next state, the reward\n",
    "            # and if the games end\n",
    "            prev_state = state\n",
    "            state, reward, game_over = env.act(action)\n",
    "\n",
    "            # Update the counters\n",
    "            if reward > 0:\n",
    "                win = win + reward\n",
    "            if reward < 0:\n",
    "                lose = lose -reward\n",
    "\n",
    "            # Apply the reinforcement strategy\n",
    "            loss = agent.reinforce(prev_state, state,  action, reward, game_over)\n",
    "\n",
    "        # Save as a mp4\n",
    "        if e % 10 == 0:\n",
    "            env.draw(prefix+str(e))\n",
    "\n",
    "        # Update stats\n",
    "        score += win-lose\n",
    "\n",
    "        print(\"Epoch {:03d}/{:03d} | Loss {:.4f} | Win/lose count {}/{} ({})\"\n",
    "              .format(e, epoch, loss, win, lose, win-lose))\n",
    "        agent.save(name_weights=prefix+'model.h5',name_model=prefix+'model.json')"
   ]
  },
  {
   "cell_type": "markdown",
   "metadata": {},
   "source": [
    "***\n",
    "__Question 7__ Implement the DQN training algorithm using a cascade of fully connected layers. You can use different learning rate, batch size or memory size parameters. In particular, the loss might oscillate while the player will start to win the games. You have to find a good criterium."
   ]
  },
  {
   "cell_type": "code",
   "execution_count": 12,
   "metadata": {},
   "outputs": [],
   "source": [
    "class DQN(Agent):\n",
    "    def __init__(self, grid_size,  epsilon = 0.1, memory_size=100, batch_size = 16,n_state=2):\n",
    "        super(DQN, self).__init__(epsilon = epsilon)\n",
    "\n",
    "        # Discount for Q learning\n",
    "        self.discount = 0.99\n",
    "        \n",
    "        self.grid_size = grid_size\n",
    "        \n",
    "        # number of state\n",
    "        self.n_state = n_state\n",
    "\n",
    "        # Memory\n",
    "        self.memory = Memory(memory_size)\n",
    "        \n",
    "        # Batch size when learning\n",
    "        self.batch_size = batch_size\n",
    "\n",
    "    def learned_act(self, s):\n",
    "        return np.argmax(self.model.predict(s.reshape([1,s.shape[0],s.shape[1],s.shape[2]]))[0,:])\n",
    "\n",
    "    def reinforce(self, s_, n_s_, a_, r_, game_over_):\n",
    "        # Two steps: first memorize the states, second learn from the pool\n",
    "\n",
    "        self.memory.remember([s_, n_s_, a_, r_, game_over_])\n",
    "        \n",
    "        input_states = np.zeros((self.batch_size, 5,5,self.n_state))\n",
    "        target_q = np.zeros((self.batch_size, 4))\n",
    "        \n",
    "        for i in range(self.batch_size):\n",
    "            ######## FILL IN\n",
    "            s_, n_s_, a_, r_, game_over_  = self.memory.random_access()\n",
    "            \n",
    "            target_q[i] =self.model.predict(s_.reshape([1,s_.shape[0],s_.shape[1],s_.shape[2]]))[0]\n",
    "            \n",
    "            input_states[i] = s_\n",
    "            \n",
    "            if game_over_:\n",
    "                ######## FILL IN\n",
    "                target_q[i,a_] = r_\n",
    "            else:\n",
    "                ######## FILL IN\n",
    "                q_est = self.model.predict(np.expand_dims(n_s_, 0))\n",
    "                target_q[i, a_] = r_ + self.discount * np.max(q_est)\n",
    "                \n",
    "                \n",
    "        ######## FILL IN\n",
    "        # HINT: Clip the target to avoid exploiding gradients.. -- clipping is a bit tighter\n",
    "        target_q = np.clip(target_q, -3, 3)\n",
    "        l = self.model.train_on_batch(input_states, target_q)\n",
    "\n",
    "\n",
    "        return l\n",
    "\n",
    "    def save(self,name_weights='model.h5',name_model='model.json'):\n",
    "        self.model.save_weights(name_weights, overwrite=True)\n",
    "        with open(name_model, \"w\") as outfile:\n",
    "            json.dump(self.model.to_json(), outfile)\n",
    "            \n",
    "    def load(self,name_weights='model.h5',name_model='model.json'):\n",
    "        with open(name_model, \"r\") as jfile:\n",
    "            model = model_from_json(json.load(jfile))\n",
    "        model.load_weights(name_weights)\n",
    "        model.compile(\"sgd\", \"mse\")\n",
    "        self.model = model\n",
    "\n",
    "            \n",
    "class DQN_FC(DQN):\n",
    "    def __init__(self, *args, lr=0.1,**kwargs):\n",
    "        super(DQN_FC, self).__init__( *args,**kwargs)\n",
    "        \n",
    "        #Best model\n",
    "        model = Sequential()\n",
    "        model.add(Flatten(input_shape=(5,5,self.n_state,)))\n",
    "        model.add(Dense(32,activation ='relu')) \n",
    "        model.add(Dense(4))\n",
    "        model.compile(sgd(lr=lr, decay=1e-4, momentum=0.0), \"mse\")\n",
    "        self.model = model"
   ]
  },
  {
   "cell_type": "code",
   "execution_count": 13,
   "metadata": {},
   "outputs": [
    {
     "name": "stdout",
     "output_type": "stream",
     "text": [
      "Epoch 000/050 | Loss 0.0307 | Win/lose count 3.5/5.0 (-1.5)\n",
      "Epoch 001/050 | Loss 0.0043 | Win/lose count 1.5/1.0 (0.5)\n",
      "Epoch 002/050 | Loss 0.0068 | Win/lose count 2.5/1.0 (1.5)\n",
      "Epoch 003/050 | Loss 0.0067 | Win/lose count 3.5/3.0 (0.5)\n",
      "Epoch 004/050 | Loss 0.0023 | Win/lose count 0.5/2.0 (-1.5)\n",
      "Epoch 005/050 | Loss 0.0217 | Win/lose count 5.5/3.0 (2.5)\n",
      "Epoch 006/050 | Loss 0.0021 | Win/lose count 2.0/5.0 (-3.0)\n",
      "Epoch 007/050 | Loss 0.1001 | Win/lose count 4.5/2.0 (2.5)\n",
      "Epoch 008/050 | Loss 0.0017 | Win/lose count 5.5/6.0 (-0.5)\n",
      "Epoch 009/050 | Loss 0.0024 | Win/lose count 4.5/2.0 (2.5)\n",
      "Epoch 010/050 | Loss 0.0039 | Win/lose count 4.0/5.0 (-1.0)\n",
      "Epoch 011/050 | Loss 0.0057 | Win/lose count 5.0/7.0 (-2.0)\n",
      "Epoch 012/050 | Loss 0.0036 | Win/lose count 1.5/4.0 (-2.5)\n",
      "Epoch 013/050 | Loss 0.0023 | Win/lose count 0.5/2.0 (-1.5)\n",
      "Epoch 014/050 | Loss 0.0029 | Win/lose count 5.0/0 (5.0)\n",
      "Epoch 015/050 | Loss 0.0063 | Win/lose count 0.5/5.0 (-4.5)\n",
      "Epoch 016/050 | Loss 0.0035 | Win/lose count 4.5/6.0 (-1.5)\n",
      "Epoch 017/050 | Loss 0.0100 | Win/lose count 1.5/4.0 (-2.5)\n",
      "Epoch 018/050 | Loss 0.1004 | Win/lose count 3.5/3.0 (0.5)\n",
      "Epoch 019/050 | Loss 0.0118 | Win/lose count 3.5/1.0 (2.5)\n",
      "Epoch 020/050 | Loss 0.0097 | Win/lose count 3.0/1.0 (2.0)\n",
      "Epoch 021/050 | Loss 0.0079 | Win/lose count 3.5/6.0 (-2.5)\n",
      "Epoch 022/050 | Loss 0.0195 | Win/lose count 1.5/5.0 (-3.5)\n",
      "Epoch 023/050 | Loss 0.0034 | Win/lose count 3.5/2.0 (1.5)\n",
      "Epoch 024/050 | Loss 0.0142 | Win/lose count 3.5/5.0 (-1.5)\n",
      "Epoch 025/050 | Loss 0.0036 | Win/lose count 2.0/3.0 (-1.0)\n",
      "Epoch 026/050 | Loss 0.0008 | Win/lose count 2.5/3.0 (-0.5)\n",
      "Epoch 027/050 | Loss 0.0036 | Win/lose count 1.0/1.0 (0.0)\n",
      "Epoch 028/050 | Loss 0.0063 | Win/lose count 5.5/2.0 (3.5)\n",
      "Epoch 029/050 | Loss 0.0057 | Win/lose count 4.5/7.0 (-2.5)\n",
      "Epoch 030/050 | Loss 0.0041 | Win/lose count 6.5/3.0 (3.5)\n",
      "Epoch 031/050 | Loss 0.0148 | Win/lose count 2.0/4.0 (-2.0)\n",
      "Epoch 032/050 | Loss 0.0017 | Win/lose count 4.0/5.0 (-1.0)\n",
      "Epoch 033/050 | Loss 0.0063 | Win/lose count 3.0/3.0 (0.0)\n",
      "Epoch 034/050 | Loss 0.0041 | Win/lose count 4.0/3.0 (1.0)\n",
      "Epoch 035/050 | Loss 0.0071 | Win/lose count 7.0/1.0 (6.0)\n",
      "Epoch 036/050 | Loss 0.0233 | Win/lose count 2.0/2.0 (0.0)\n",
      "Epoch 037/050 | Loss 0.0021 | Win/lose count 6.0/3.0 (3.0)\n",
      "Epoch 038/050 | Loss 0.0019 | Win/lose count 7.0/2.0 (5.0)\n",
      "Epoch 039/050 | Loss 0.0028 | Win/lose count 9.0/3.0 (6.0)\n",
      "Epoch 040/050 | Loss 0.0044 | Win/lose count 3.5/3.0 (0.5)\n",
      "Epoch 041/050 | Loss 0.0010 | Win/lose count 6.0/2.0 (4.0)\n",
      "Epoch 042/050 | Loss 0.0025 | Win/lose count 3.5/0 (3.5)\n",
      "Epoch 043/050 | Loss 0.0019 | Win/lose count 6.0/4.0 (2.0)\n",
      "Epoch 044/050 | Loss 0.0063 | Win/lose count 6.5/3.0 (3.5)\n",
      "Epoch 045/050 | Loss 0.0019 | Win/lose count 8.5/2.0 (6.5)\n",
      "Epoch 046/050 | Loss 0.0019 | Win/lose count 2.5/3.0 (-0.5)\n",
      "Epoch 047/050 | Loss 0.0944 | Win/lose count 2.0/2.0 (0.0)\n",
      "Epoch 048/050 | Loss 0.0125 | Win/lose count 10.0/3.0 (7.0)\n",
      "Epoch 049/050 | Loss 0.0019 | Win/lose count 10.0/4.0 (6.0)\n"
     ]
    },
    {
     "data": {
      "text/html": [
       "<video alt=\"test\" controls>\n",
       "                <source src=\"data:video/mp4;base64,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\" type=\"video/mp4\" />\n",
       "             </video>"
      ],
      "text/plain": [
       "<IPython.core.display.HTML object>"
      ]
     },
     "execution_count": 13,
     "metadata": {},
     "output_type": "execute_result"
    }
   ],
   "source": [
    "env = Environment(grid_size=size, max_time=T, temperature=0.3)\n",
    "agent = DQN_FC(size, lr=.1, epsilon = 0.1, memory_size=2000, batch_size = 16)\n",
    "train(agent, env, epochs_train, prefix='fc_train')\n",
    "HTML(display_videos('fc_train40.mp4'))"
   ]
  },
  {
   "cell_type": "markdown",
   "metadata": {},
   "source": [
    "***\n",
    "***\n",
    "__Question 8__ Implement the DQN training algorithm using a CNN (for example, 2 convolutional layers and one final fully connected layer)."
   ]
  },
  {
   "cell_type": "code",
   "execution_count": 34,
   "metadata": {},
   "outputs": [],
   "source": [
    "class DQN_CNN(DQN):\n",
    "    def __init__(self, *args, lr=0.1,**kwargs):\n",
    "        super(DQN_CNN, self).__init__( *args,**kwargs)\n",
    "        \n",
    "        model = Sequential()\n",
    "        #Best model\n",
    "        model.add(Conv2D(32,(2,2),input_shape=(5,5,self.n_state,),activation='relu'))\n",
    "        model.add(Conv2D(64,(2,2),activation='relu'))\n",
    "        model.add(Flatten())\n",
    "        model.add(Dense(4))\n",
    "        \n",
    "        model.compile(sgd(lr=lr, decay=1e-4, momentum=0.0), \"mse\")\n",
    "        self.model = model"
   ]
  },
  {
   "cell_type": "code",
   "execution_count": 35,
   "metadata": {},
   "outputs": [
    {
     "name": "stdout",
     "output_type": "stream",
     "text": [
      "Epoch 000/050 | Loss 0.0406 | Win/lose count 4.0/5.0 (-1.0)\n",
      "Epoch 001/050 | Loss 0.0055 | Win/lose count 2.5/2.0 (0.5)\n",
      "Epoch 002/050 | Loss 0.0044 | Win/lose count 2.0/4.0 (-2.0)\n",
      "Epoch 003/050 | Loss 0.0008 | Win/lose count 5.0/2.0 (3.0)\n",
      "Epoch 004/050 | Loss 0.0117 | Win/lose count 4.5/3.0 (1.5)\n",
      "Epoch 005/050 | Loss 0.0145 | Win/lose count 2.0/1.0 (1.0)\n",
      "Epoch 006/050 | Loss 0.0013 | Win/lose count 4.0/2.0 (2.0)\n",
      "Epoch 007/050 | Loss 0.0032 | Win/lose count 6.0/1.0 (5.0)\n",
      "Epoch 008/050 | Loss 0.0171 | Win/lose count 14.0/4.0 (10.0)\n",
      "Epoch 009/050 | Loss 0.0012 | Win/lose count 6.0/3.0 (3.0)\n",
      "Epoch 010/050 | Loss 0.0021 | Win/lose count 8.5/1.0 (7.5)\n",
      "Epoch 011/050 | Loss 0.0026 | Win/lose count 10.0/0 (10.0)\n",
      "Epoch 012/050 | Loss 0.0028 | Win/lose count 10.5/5.0 (5.5)\n",
      "Epoch 013/050 | Loss 0.0017 | Win/lose count 2.0/0 (2.0)\n",
      "Epoch 014/050 | Loss 0.0023 | Win/lose count 12.5/2.0 (10.5)\n",
      "Epoch 015/050 | Loss 0.0011 | Win/lose count 7.5/1.0 (6.5)\n",
      "Epoch 016/050 | Loss 0.0013 | Win/lose count 16.5/4.0 (12.5)\n",
      "Epoch 017/050 | Loss 0.0015 | Win/lose count 16.0/2.0 (14.0)\n",
      "Epoch 018/050 | Loss 0.0011 | Win/lose count 13.0/0 (13.0)\n",
      "Epoch 019/050 | Loss 0.0014 | Win/lose count 12.0/3.0 (9.0)\n",
      "Epoch 020/050 | Loss 0.0021 | Win/lose count 11.0/2.0 (9.0)\n",
      "Epoch 021/050 | Loss 0.0019 | Win/lose count 6.0/1.0 (5.0)\n",
      "Epoch 022/050 | Loss 0.0019 | Win/lose count 11.0/1.0 (10.0)\n",
      "Epoch 023/050 | Loss 0.0026 | Win/lose count 17.0/3.0 (14.0)\n",
      "Epoch 024/050 | Loss 0.0014 | Win/lose count 10.0/1.0 (9.0)\n",
      "Epoch 025/050 | Loss 0.0011 | Win/lose count 15.0/4.0 (11.0)\n",
      "Epoch 026/050 | Loss 0.0015 | Win/lose count 7.0/2.0 (5.0)\n",
      "Epoch 027/050 | Loss 0.0017 | Win/lose count 15.0/4.0 (11.0)\n",
      "Epoch 028/050 | Loss 0.0020 | Win/lose count 14.0/7.0 (7.0)\n",
      "Epoch 029/050 | Loss 0.0038 | Win/lose count 13.0/1.0 (12.0)\n",
      "Epoch 030/050 | Loss 0.0050 | Win/lose count 18.5/2.0 (16.5)\n",
      "Epoch 031/050 | Loss 0.0014 | Win/lose count 14.0/1.0 (13.0)\n",
      "Epoch 032/050 | Loss 0.0008 | Win/lose count 21.0/2.0 (19.0)\n",
      "Epoch 033/050 | Loss 0.0099 | Win/lose count 14.5/6.0 (8.5)\n",
      "Epoch 034/050 | Loss 0.0037 | Win/lose count 10.5/3.0 (7.5)\n",
      "Epoch 035/050 | Loss 0.0036 | Win/lose count 13.5/2.0 (11.5)\n",
      "Epoch 036/050 | Loss 0.0078 | Win/lose count 16.5/2.0 (14.5)\n",
      "Epoch 037/050 | Loss 0.0039 | Win/lose count 8.0/1.0 (7.0)\n",
      "Epoch 038/050 | Loss 0.0018 | Win/lose count 16.5/5.0 (11.5)\n",
      "Epoch 039/050 | Loss 0.0010 | Win/lose count 12.5/4.0 (8.5)\n",
      "Epoch 040/050 | Loss 0.0037 | Win/lose count 11.0/2.0 (9.0)\n",
      "Epoch 041/050 | Loss 0.0018 | Win/lose count 10.0/0 (10.0)\n",
      "Epoch 042/050 | Loss 0.0040 | Win/lose count 22.0/2.0 (20.0)\n",
      "Epoch 043/050 | Loss 0.0020 | Win/lose count 14.0/2.0 (12.0)\n",
      "Epoch 044/050 | Loss 0.0011 | Win/lose count 17.0/1.0 (16.0)\n",
      "Epoch 045/050 | Loss 0.0016 | Win/lose count 22.0/1.0 (21.0)\n",
      "Epoch 046/050 | Loss 0.0014 | Win/lose count 14.0/4.0 (10.0)\n",
      "Epoch 047/050 | Loss 0.0022 | Win/lose count 15.0/3.0 (12.0)\n",
      "Epoch 048/050 | Loss 0.0020 | Win/lose count 6.5/0 (6.5)\n",
      "Epoch 049/050 | Loss 0.0014 | Win/lose count 5.0/2.0 (3.0)\n"
     ]
    },
    {
     "data": {
      "text/html": [
       "<video alt=\"test\" controls>\n",
       "                <source src=\"data:video/mp4;base64,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\" type=\"video/mp4\" />\n",
       "             </video>"
      ],
      "text/plain": [
       "<IPython.core.display.HTML object>"
      ]
     },
     "execution_count": 35,
     "metadata": {},
     "output_type": "execute_result"
    }
   ],
   "source": [
    "env = Environment(grid_size=size, max_time=T, temperature=0.3)\n",
    "agent = DQN_CNN(size, lr=0.1, epsilon = 0.1, memory_size=2000, batch_size = 16)\n",
    "train(agent,env,epochs_train,prefix='cnn_train')\n",
    "HTML(display_videos('cnn_train40.mp4'))"
   ]
  },
  {
   "cell_type": "markdown",
   "metadata": {},
   "source": [
    "***\n",
    "***\n",
    "__Question 9__ Test both algorithms and compare their performances. Which issue(s) do you observe? Observe also different behaviors by changing the temperature."
   ]
  },
  {
   "cell_type": "code",
   "execution_count": 36,
   "metadata": {},
   "outputs": [
    {
     "name": "stdout",
     "output_type": "stream",
     "text": [
      "Testing of the FC Based Agent\n",
      "Win/lose count 4.5/0. Average score (4.5)\n",
      "Win/lose count 15.0/0. Average score (9.75)\n",
      "Win/lose count 6.5/0. Average score (8.666666666666666)\n",
      "Win/lose count 21.0/1.0. Average score (11.5)\n",
      "Win/lose count 2.5/0. Average score (9.7)\n",
      "Win/lose count 7.5/0. Average score (9.333333333333334)\n",
      "Win/lose count 6.0/0. Average score (8.857142857142858)\n",
      "Win/lose count 22.5/1.0. Average score (10.4375)\n",
      "Win/lose count 3.5/0. Average score (9.666666666666666)\n",
      "Win/lose count 2.5/0. Average score (8.95)\n",
      "Win/lose count 11.5/0. Average score (9.181818181818182)\n",
      "Win/lose count 2.0/0. Average score (8.583333333333334)\n",
      "Win/lose count 9.5/0. Average score (8.653846153846153)\n",
      "Win/lose count 3.0/0. Average score (8.25)\n",
      "Win/lose count 6.0/0. Average score (8.1)\n",
      "Win/lose count 13.0/0. Average score (8.40625)\n",
      "Win/lose count 10.5/1.0. Average score (8.470588235294118)\n",
      "Win/lose count 12.5/0. Average score (8.694444444444445)\n",
      "Win/lose count 20.0/1.0. Average score (9.236842105263158)\n",
      "Win/lose count 10.5/0. Average score (9.3)\n",
      "Final score: 9.3\n",
      "\n",
      "Testing CNN Based Agent\n",
      "Win/lose count 31.0/1.0. Average score (30.0)\n",
      "Win/lose count 23.5/0. Average score (26.75)\n",
      "Win/lose count 22.5/0. Average score (25.333333333333332)\n",
      "Win/lose count 7.5/0. Average score (20.875)\n",
      "Win/lose count 9.5/0. Average score (18.6)\n",
      "Win/lose count 40.5/0. Average score (22.25)\n",
      "Win/lose count 26.5/0. Average score (22.857142857142858)\n",
      "Win/lose count 14.0/0. Average score (21.75)\n",
      "Win/lose count 28.0/0. Average score (22.444444444444443)\n",
      "Win/lose count 27.0/0. Average score (22.9)\n",
      "Win/lose count 52.5/0. Average score (25.59090909090909)\n",
      "Win/lose count 37.5/0. Average score (26.583333333333332)\n",
      "Win/lose count 32.0/0. Average score (27.0)\n",
      "Win/lose count 7.5/0. Average score (25.607142857142858)\n",
      "Win/lose count 27.0/0. Average score (25.7)\n",
      "Win/lose count 46.0/0. Average score (26.96875)\n",
      "Win/lose count 33.0/0. Average score (27.323529411764707)\n",
      "Win/lose count 29.5/0. Average score (27.444444444444443)\n",
      "Win/lose count 36.5/0. Average score (27.92105263157895)\n",
      "Win/lose count 58.0/0. Average score (29.425)\n",
      "Final score: 29.425\n"
     ]
    }
   ],
   "source": [
    "env = Environment(grid_size=size, max_time=T,temperature=0.9)\n",
    "\n",
    "agent_cnn = DQN_CNN(size, lr=.1, epsilon = 0.1, memory_size=2000, batch_size = 32)\n",
    "agent_cnn.load(name_weights='cnn_trainmodel.h5',name_model='cnn_trainmodel.json')\n",
    "\n",
    "agent_fc = DQN_FC(size, lr=.1, epsilon = 0.1, memory_size=2000, batch_size = 32)\n",
    "agent_fc.load(name_weights='fc_trainmodel.h5',name_model='fc_trainmodel.json')\n",
    "\n",
    "epochs_test = 20\n",
    "\n",
    "print('Testing of the FC Based Agent')\n",
    "test(agent_fc,env,epochs_test,prefix='fc_test')\n",
    "\n",
    "print('\\nTesting CNN Based Agent')\n",
    "test(agent_cnn,env,epochs_test,prefix='cnn_test')"
   ]
  },
  {
   "cell_type": "code",
   "execution_count": 37,
   "metadata": {},
   "outputs": [
    {
     "data": {
      "text/html": [
       "<video alt=\"test\" controls>\n",
       "                <source src=\"data:video/mp4;base64,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\" type=\"video/mp4\" />\n",
       "             </video>"
      ],
      "text/plain": [
       "<IPython.core.display.HTML object>"
      ]
     },
     "execution_count": 37,
     "metadata": {},
     "output_type": "execute_result"
    }
   ],
   "source": [
    "HTML(display_videos('cnn_test10.mp4'))"
   ]
  },
  {
   "cell_type": "code",
   "execution_count": 38,
   "metadata": {},
   "outputs": [
    {
     "data": {
      "text/html": [
       "<video alt=\"test\" controls>\n",
       "                <source src=\"data:video/mp4;base64,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\" type=\"video/mp4\" />\n",
       "             </video>"
      ],
      "text/plain": [
       "<IPython.core.display.HTML object>"
      ]
     },
     "execution_count": 38,
     "metadata": {},
     "output_type": "execute_result"
    }
   ],
   "source": [
    "HTML(display_videos('fc_test10.mp4'))"
   ]
  },
  {
   "cell_type": "markdown",
   "metadata": {},
   "source": [
    "Temperature increases the density of the reward pixel. Therefore it increase the score. It's also observed that the rat does not explore the board and gets stuck in between 2 positions and keep oscillating there."
   ]
  },
  {
   "cell_type": "markdown",
   "metadata": {},
   "source": [
    "***\n",
    "\n",
    "The algorithm tends to not explore the map which can be an issue. We propose two ideas in order to encourage exploration:\n",
    "1. Incorporating a decreasing $\\epsilon$-greedy exploration. You can use the method ```set_epsilon```\n",
    "2. Append via the environment a new state that describes if a cell has been visited or not\n",
    "\n",
    "***\n",
    "__Question 10__ Design a new ```train_explore``` function and environment class ```EnvironmentExploring``` to tackle the issue of exploration.\n",
    "\n"
   ]
  },
  {
   "cell_type": "code",
   "execution_count": 39,
   "metadata": {},
   "outputs": [],
   "source": [
    "def train_explore(agent,env,epoch, epsilon_start=0.7, epsilon_end=0.1, epsilon_decay=60000, prefix=''):\n",
    "    # Number of won games\n",
    "    score = 0\n",
    "    loss = 0\n",
    "    steps_done = 0\n",
    "    \n",
    "    agent.set_epsilon(epsilon_start)\n",
    "    \n",
    "    for e in range(epoch):\n",
    "       \n",
    "        \n",
    "        # At each epoch, we restart to a fresh game and get the initial state\n",
    "        state = env.reset()\n",
    "        # This assumes that the games will terminate\n",
    "        game_over = False\n",
    "\n",
    "        win = 0\n",
    "        lose = 0\n",
    "\n",
    "        while not game_over:\n",
    "            # The agent performs an action\n",
    "            action = agent.act(state)\n",
    "\n",
    "            # Apply an action to the environment, get the next state, the reward\n",
    "            # and if the games end\n",
    "            prev_state = state\n",
    "            state, reward, game_over = env.act(action, train=True)\n",
    "\n",
    "            # Update the counters\n",
    "            if reward > 0:\n",
    "                win = win + reward\n",
    "            if reward < 0:\n",
    "                lose = lose -reward\n",
    "\n",
    "            # Apply the reinforcement strategy\n",
    "            loss = agent.reinforce(prev_state, state,  action, reward, game_over)\n",
    "            \n",
    "            eps_threshold = epsilon_start + (epsilon_end - epsilon_start) * steps_done / epsilon_decay\n",
    "        \n",
    "            agent.set_epsilon(eps_threshold)\n",
    "            steps_done += 1\n",
    "\n",
    "        # Save as a mp4\n",
    "        if e % 10 == 0:\n",
    "            env.draw(prefix+str(e))\n",
    "\n",
    "        # Update stats\n",
    "        score += win-lose\n",
    "\n",
    "        print(\"Epoch {:03d}/{:03d} | Loss {:.4f} | Win/lose count {}/{} ({})\"\n",
    "              .format(e, epoch, loss, win, lose, win-lose))\n",
    "        agent.save(name_weights=prefix+'model.h5',name_model=prefix+'model.json')\n",
    "        \n",
    "class EnvironmentExploring(Environment):\n",
    "    def __init__(self, grid_size=10, max_time=500, temperature=0.1):\n",
    "        super(EnvironmentExploring, self).__init__(grid_size, max_time, temperature)\n",
    "        \n",
    "        self.malus_position = np.zeros_like(self.position)\n",
    "    \n",
    "    def act(self, action, train=False):\n",
    "        \"\"\"This function returns the new state, reward and decides if the\n",
    "        game ends.\"\"\"\n",
    "\n",
    "        self.get_frame(int(self.t))\n",
    "\n",
    "        self.position = np.zeros((self.grid_size, self.grid_size))\n",
    "\n",
    "        self.position[0:2,:]= -1\n",
    "        self.position[:,0:2] = -1\n",
    "        self.position[-2:, :] = -1\n",
    "        self.position[-2:, :] = -1\n",
    "\n",
    "        self.position[self.x, self.y] = 1\n",
    "        \n",
    "        # Adding explored cases\n",
    "        self.malus_position[self.x, self.y] += 0.1\n",
    "        \n",
    "        if action == 0:  # Right\n",
    "            if self.x == self.grid_size-3:\n",
    "                self.x = self.x-1\n",
    "            else:\n",
    "                self.x = self.x + 1\n",
    "        elif action == 1:  # Left\n",
    "            if self.x == 2:\n",
    "                self.x = self.x+1\n",
    "            else:\n",
    "                self.x = self.x-1\n",
    "        elif action == 2:  # Up\n",
    "            if self.y == self.grid_size - 3:\n",
    "                self.y = self.y - 1\n",
    "            else:\n",
    "                self.y = self.y + 1\n",
    "        elif action == 3:  # Down\n",
    "            if self.y == 2:\n",
    "                self.y = self.y + 1\n",
    "            else:\n",
    "                self.y = self.y - 1\n",
    "        else:\n",
    "            RuntimeError('Error: This action is not recognized')\n",
    "            \n",
    "\n",
    "        self.t = self.t + 1\n",
    "        reward = self.board[self.x, self.y]\n",
    "        if train:\n",
    "            reward -= self.malus_position[self.x, self.y]\n",
    "        self.board[self.x, self.y] = 0\n",
    "        game_over = self.t > self.max_time\n",
    "        state = np.concatenate((self.board.reshape(self.grid_size, self.grid_size,1),\n",
    "                                self.position.reshape(self.grid_size, self.grid_size,1),\n",
    "                                self.malus_position.reshape(self.grid_size, self.grid_size,1)),axis=2)\n",
    "        state = state[self.x-2:self.x+3,self.y-2:self.y+3,:]\n",
    "\n",
    "        return state, reward, game_over\n",
    "\n",
    "    def reset(self):\n",
    "        \"\"\"This function resets the game and returns the initial state\"\"\"\n",
    "\n",
    "        self.x = np.random.randint(3, self.grid_size-3, size=1)[0]\n",
    "        self.y = np.random.randint(3, self.grid_size-3, size=1)[0]\n",
    "\n",
    "\n",
    "        bonus = 0.5*np.random.binomial(1,self.temperature,size=self.grid_size**2)\n",
    "        bonus = bonus.reshape(self.grid_size,self.grid_size)\n",
    "\n",
    "        malus = -1.0*np.random.binomial(1,self.temperature,size=self.grid_size**2)\n",
    "        malus = malus.reshape(self.grid_size, self.grid_size)\n",
    "\n",
    "        self.to_draw = np.zeros((self.max_time+2, self.grid_size*self.scale, self.grid_size*self.scale, 3))\n",
    "\n",
    "\n",
    "        malus[bonus>0]=0\n",
    "\n",
    "        self.board = bonus + malus\n",
    "\n",
    "        self.position = np.zeros((self.grid_size, self.grid_size))\n",
    "        self.malus_position = np.zeros_like(self.position)\n",
    "        \n",
    "        self.position[0:2,:]= -1\n",
    "        self.position[:,0:2] = -1\n",
    "        self.position[-2:, :] = -1\n",
    "        self.position[-2:, :] = -1\n",
    "        self.board[self.x,self.y] = 0\n",
    "        self.t = 0\n",
    "\n",
    "        state = np.concatenate((self.board.reshape(self.grid_size, self.grid_size,1),\n",
    "                                self.position.reshape(self.grid_size, self.grid_size,1),\n",
    "                                self.malus_position.reshape(self.grid_size, self.grid_size,1)),axis=2)\n",
    "\n",
    "        state = state[self.x - 2:self.x + 3, self.y - 2:self.y + 3, :]\n",
    "        return state"
   ]
  },
  {
   "cell_type": "code",
   "execution_count": 40,
   "metadata": {},
   "outputs": [
    {
     "name": "stdout",
     "output_type": "stream",
     "text": [
      "Epoch 000/051 | Loss 0.0829 | Win/lose count 5.0/107.99999999999999 (-102.99999999999999)\n",
      "Epoch 001/051 | Loss 0.1151 | Win/lose count 7.0/52.40000000000007 (-45.40000000000007)\n",
      "Epoch 002/051 | Loss 0.0640 | Win/lose count 11.5/51.700000000000024 (-40.200000000000024)\n",
      "Epoch 003/051 | Loss 0.0369 | Win/lose count 7.0/67.30000000000004 (-60.30000000000004)\n",
      "Epoch 004/051 | Loss 0.0604 | Win/lose count 7.5/56.30000000000002 (-48.80000000000002)\n",
      "Epoch 005/051 | Loss 0.0625 | Win/lose count 9.5/41.000000000000036 (-31.500000000000036)\n",
      "Epoch 006/051 | Loss 0.0300 | Win/lose count 7.5/62.19999999999999 (-54.69999999999999)\n",
      "Epoch 007/051 | Loss 0.0482 | Win/lose count 10.5/42.500000000000036 (-32.000000000000036)\n",
      "Epoch 008/051 | Loss 0.0343 | Win/lose count 9.0/82.9 (-73.9)\n",
      "Epoch 009/051 | Loss 0.0460 | Win/lose count 15.0/36.60000000000005 (-21.60000000000005)\n",
      "Epoch 010/051 | Loss 0.0488 | Win/lose count 12.0/43.50000000000004 (-31.500000000000043)\n",
      "Epoch 011/051 | Loss 0.0455 | Win/lose count 13.5/40.30000000000001 (-26.80000000000001)\n",
      "Epoch 012/051 | Loss 0.0403 | Win/lose count 4.0/65.00000000000001 (-61.000000000000014)\n",
      "Epoch 013/051 | Loss 0.0367 | Win/lose count 17.5/40.70000000000003 (-23.20000000000003)\n",
      "Epoch 014/051 | Loss 0.0399 | Win/lose count 11.0/41.80000000000004 (-30.80000000000004)\n",
      "Epoch 015/051 | Loss 0.0292 | Win/lose count 17.5/34.70000000000002 (-17.200000000000017)\n",
      "Epoch 016/051 | Loss 0.0501 | Win/lose count 6.5/48.00000000000002 (-41.50000000000002)\n",
      "Epoch 017/051 | Loss 0.0255 | Win/lose count 10.5/54.30000000000005 (-43.80000000000005)\n",
      "Epoch 018/051 | Loss 0.0215 | Win/lose count 5.0/64.60000000000001 (-59.60000000000001)\n",
      "Epoch 019/051 | Loss 0.0213 | Win/lose count 11.5/50.200000000000045 (-38.700000000000045)\n",
      "Epoch 020/051 | Loss 0.0286 | Win/lose count 11.0/44.30000000000001 (-33.30000000000001)\n",
      "Epoch 021/051 | Loss 0.0334 | Win/lose count 9.0/69.39999999999999 (-60.39999999999999)\n",
      "Epoch 022/051 | Loss 0.0369 | Win/lose count 4.5/104.00000000000001 (-99.50000000000001)\n",
      "Epoch 023/051 | Loss 0.0334 | Win/lose count 2.5/76.1 (-73.6)\n",
      "Epoch 024/051 | Loss 0.0344 | Win/lose count 6.5/54.10000000000002 (-47.60000000000002)\n",
      "Epoch 025/051 | Loss 0.0754 | Win/lose count 9.5/53.80000000000006 (-44.30000000000006)\n",
      "Epoch 026/051 | Loss 0.0654 | Win/lose count 7.5/63.4 (-55.9)\n",
      "Epoch 027/051 | Loss 0.0421 | Win/lose count 10.0/70.9 (-60.900000000000006)\n",
      "Epoch 028/051 | Loss 0.0404 | Win/lose count 7.5/58.700000000000024 (-51.200000000000024)\n",
      "Epoch 029/051 | Loss 0.0574 | Win/lose count 10.0/48.20000000000005 (-38.20000000000005)\n",
      "Epoch 030/051 | Loss 0.0345 | Win/lose count 9.5/48.200000000000045 (-38.700000000000045)\n",
      "Epoch 031/051 | Loss 0.0791 | Win/lose count 6.0/72.70000000000003 (-66.70000000000003)\n",
      "Epoch 032/051 | Loss 0.0707 | Win/lose count 4.5/93.50000000000003 (-89.00000000000003)\n",
      "Epoch 033/051 | Loss 0.0287 | Win/lose count 3.5/104.49999999999997 (-100.99999999999997)\n",
      "Epoch 034/051 | Loss 0.0617 | Win/lose count 4.5/73.9 (-69.4)\n",
      "Epoch 035/051 | Loss 0.0638 | Win/lose count 7.5/75.39999999999996 (-67.89999999999996)\n",
      "Epoch 036/051 | Loss 0.0543 | Win/lose count 14.0/45.30000000000003 (-31.300000000000033)\n",
      "Epoch 037/051 | Loss 0.0461 | Win/lose count 5.5/78.49999999999994 (-72.99999999999994)\n",
      "Epoch 038/051 | Loss 0.0375 | Win/lose count 10.5/60.70000000000001 (-50.20000000000001)\n",
      "Epoch 039/051 | Loss 0.0278 | Win/lose count 10.5/40.70000000000002 (-30.200000000000017)\n",
      "Epoch 040/051 | Loss 0.0366 | Win/lose count 13.0/30.300000000000033 (-17.300000000000033)\n",
      "Epoch 041/051 | Loss 0.0308 | Win/lose count 6.5/56.4 (-49.9)\n",
      "Epoch 042/051 | Loss 0.0204 | Win/lose count 16.0/49.200000000000045 (-33.200000000000045)\n",
      "Epoch 043/051 | Loss 0.0244 | Win/lose count 9.5/52.100000000000065 (-42.600000000000065)\n",
      "Epoch 044/051 | Loss 0.0313 | Win/lose count 10.0/59.50000000000002 (-49.50000000000002)\n",
      "Epoch 045/051 | Loss 0.0356 | Win/lose count 11.5/43.3 (-31.799999999999997)\n",
      "Epoch 046/051 | Loss 0.0262 | Win/lose count 14.5/42.20000000000004 (-27.70000000000004)\n",
      "Epoch 047/051 | Loss 0.0290 | Win/lose count 8.5/61.80000000000001 (-53.30000000000001)\n",
      "Epoch 048/051 | Loss 0.0327 | Win/lose count 9.5/50.500000000000064 (-41.000000000000064)\n",
      "Epoch 049/051 | Loss 0.0209 | Win/lose count 16.0/40.10000000000003 (-24.10000000000003)\n",
      "Epoch 050/051 | Loss 0.0275 | Win/lose count 12.0/46.10000000000001 (-34.10000000000001)\n"
     ]
    },
    {
     "data": {
      "text/html": [
       "<video alt=\"test\" controls>\n",
       "                <source src=\"data:video/mp4;base64,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\" type=\"video/mp4\" />\n",
       "             </video>"
      ],
      "text/plain": [
       "<IPython.core.display.HTML object>"
      ]
     },
     "execution_count": 40,
     "metadata": {},
     "output_type": "execute_result"
    }
   ],
   "source": [
    "# Training\n",
    "env = EnvironmentExploring(grid_size=size, max_time=T, temperature=0.3)\n",
    "agent = DQN_CNN(size, lr=.001, epsilon = 0.9, memory_size=2000, batch_size = 32,n_state=3)\n",
    "train_explore(agent, env, 51, epsilon_start=0.7, epsilon_end=0.1, \n",
    "              epsilon_decay=60000, prefix='cnn_train_explore')\n",
    "HTML(display_videos('cnn_train_explore50.mp4'))"
   ]
  },
  {
   "cell_type": "code",
   "execution_count": 42,
   "metadata": {},
   "outputs": [
    {
     "name": "stdout",
     "output_type": "stream",
     "text": [
      "Win/lose count 2.0/3.0. Average score (-1.0)\n",
      "Win/lose count 4.5/8.0. Average score (-2.25)\n",
      "Win/lose count 3.5/8.0. Average score (-3.0)\n",
      "Win/lose count 4.0/11.0. Average score (-4.0)\n",
      "Win/lose count 3.5/7.0. Average score (-3.9)\n",
      "Win/lose count 3.5/4.0. Average score (-3.3333333333333335)\n",
      "Win/lose count 5.0/4.0. Average score (-2.7142857142857144)\n",
      "Win/lose count 6.5/6.0. Average score (-2.3125)\n",
      "Win/lose count 4.0/5.0. Average score (-2.1666666666666665)\n",
      "Win/lose count 4.5/2.0. Average score (-1.7)\n",
      "Win/lose count 8.0/2.0. Average score (-1.0)\n",
      "Win/lose count 3.5/6.0. Average score (-1.125)\n",
      "Win/lose count 7.0/10.0. Average score (-1.2692307692307692)\n",
      "Win/lose count 5.5/6.0. Average score (-1.2142857142857142)\n",
      "Win/lose count 3.0/7.0. Average score (-1.4)\n",
      "Win/lose count 3.0/1.0. Average score (-1.1875)\n",
      "Win/lose count 5.0/2.0. Average score (-0.9411764705882353)\n",
      "Win/lose count 2.0/2.0. Average score (-0.8888888888888888)\n",
      "Win/lose count 5.0/7.0. Average score (-0.9473684210526315)\n",
      "Win/lose count 2.5/7.0. Average score (-1.125)\n",
      "Win/lose count 6.0/4.0. Average score (-0.9761904761904762)\n",
      "Final score: -0.9761904761904762\n"
     ]
    },
    {
     "data": {
      "text/html": [
       "<video alt=\"test\" controls>\n",
       "                <source src=\"data:video/mp4;base64,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\" type=\"video/mp4\" />\n",
       "             </video>"
      ],
      "text/plain": [
       "<IPython.core.display.HTML object>"
      ]
     },
     "execution_count": 42,
     "metadata": {},
     "output_type": "execute_result"
    }
   ],
   "source": [
    "# Evaluation\n",
    "test(agent,env,21,prefix='cnn_test_explore')\n",
    "HTML(display_videos('cnn_test_explore10.mp4'))"
   ]
  },
  {
   "cell_type": "markdown",
   "metadata": {},
   "source": [
    "***\n",
    "***\n",
    "__BONUS question__ Use the expert DQN from the previous question to generate some winning games. Train a model that mimicks its behavior. Compare the performances."
   ]
  },
  {
   "cell_type": "code",
   "execution_count": 47,
   "metadata": {},
   "outputs": [],
   "source": [
    "class Mimic_Agent(Agent):\n",
    "    def __init__(self, grid_size,  epsilon = 0.1, memory_size=100, batch_size = 16,n_state=2):\n",
    "        super(Mimic_Agent, self).__init__(epsilon = epsilon)\n",
    "        self.discount = 0.99\n",
    "        self.grid_size = grid_size\n",
    "        self.n_state = n_state\n",
    "        self.memory = Memory(memory_size)\n",
    "        self.batch_size = batch_size\n",
    "\n",
    "    def learned_act(self, s):\n",
    "        return np.argmax(self.model.predict(s.reshape([1,s.shape[0],s.shape[1],s.shape[2]]))[0,:])\n",
    "\n",
    "    def reinforce(self, s_, a_):\n",
    "        # Two steps: first memorize the states, second learn from the pool\n",
    "\n",
    "        self.memory.remember([s_[:,:,1:], a_])\n",
    "        \n",
    "        input_states = np.zeros((self.batch_size, 5,5,self.n_state))\n",
    "        target_q = np.zeros((self.batch_size, 4))\n",
    "        \n",
    "        for i in range(self.batch_size):\n",
    "            s_, a_  = self.memory.random_access()\n",
    "            \n",
    "            target_q[i, a_] = 5\n",
    "            input_states[i] = s_\n",
    "        \n",
    "        l = self.model.train_on_batch(input_states, target_q)\n",
    "        \n",
    "        return l\n",
    "\n",
    "    def save(self,name_weights='model.h5',name_model='model.json'):\n",
    "        self.model.save_weights(name_weights, overwrite=True)\n",
    "        with open(name_model, \"w\") as outfile:\n",
    "            json.dump(self.model.to_json(), outfile)\n",
    "            \n",
    "    def load(self,name_weights='model.h5',name_model='model.json'):\n",
    "        with open(name_model, \"r\") as jfile:\n",
    "            model = model_from_json(json.load(jfile))\n",
    "        model.load_weights(name_weights)\n",
    "        model.compile(\"sgd\", \"mse\")\n",
    "        self.model = model\n",
    "        \n",
    "class CNN_Mimic_Agent(Mimic_Agent):\n",
    "    def __init__(self, *args,lr=0.1,**kwargs):\n",
    "        super(CNN_Mimic_Agent, self).__init__(*args,**kwargs)\n",
    "        \n",
    "        model = Sequential()\n",
    "        model.add(Conv2D(50,(2,2),input_shape=(5,5,self.n_state,),activation='relu'))\n",
    "        model.add(Flatten())\n",
    "        model.add(Dense(4))\n",
    "        model.compile(sgd(lr=lr, decay=1e-4, momentum=0.0), \"mse\")\n",
    "        self.model = model\n",
    "        \n",
    "# Training the Mimic Agent\n",
    "def train_mimic_agent(ref, agent,env,epoch,epsilon=0.1, decay=0.99, prefix=''):\n",
    "    # Number of won games\n",
    "    score = 0\n",
    "    loss = 0\n",
    "\n",
    "    for e in range(epoch):\n",
    "        # At each epoch, we restart to a fresh game and get the initial state\n",
    "        state = env.reset()\n",
    "        # This assumes that the games will terminate\n",
    "        game_over = False\n",
    "\n",
    "        win = 0\n",
    "        lose = 0\n",
    "        \n",
    "        agent.set_epsilon(epsilon)\n",
    "\n",
    "        while not game_over:\n",
    "            # The agent performs an action\n",
    "            action = ref.act(state, train=False)\n",
    "\n",
    "            \n",
    "            # Apply an action to the environment, get the next state, the reward\n",
    "            # and if the games end\n",
    "            prev_state = state\n",
    "            state, reward, game_over = env.act(action, train=True)\n",
    "\n",
    "            # Update the counters\n",
    "            if reward > 0:\n",
    "                win = win + reward\n",
    "            if reward < 0:\n",
    "                lose = lose -reward\n",
    "                \n",
    "            # Apply the reinforcement strategy\n",
    "            loss = agent.reinforce(prev_state,  action)\n",
    "\n",
    "        # Save as a mp4\n",
    "        if e % 10 == 0:\n",
    "            env.draw(prefix+str(e))\n",
    "\n",
    "        # Update stats\n",
    "        score += win-lose\n",
    "\n",
    "        print(\"Epoch {:03d}/{:03d} | Loss {:.4f} | Win/lose count {}/{} ({})\"\n",
    "              .format(e, epoch, loss, win, lose, win-lose))\n",
    "        agent.save(name_weights=prefix+'model.h5',name_model=prefix+'model.json')"
   ]
  },
  {
   "cell_type": "code",
   "execution_count": 48,
   "metadata": {},
   "outputs": [
    {
     "name": "stdout",
     "output_type": "stream",
     "text": [
      "Epoch 000/015 | Loss 0.8874 | Win/lose count 4.0/172.30000000000004 (-168.30000000000004)\n",
      "Epoch 001/015 | Loss 1.5290 | Win/lose count 7.0/101.40000000000002 (-94.40000000000002)\n",
      "Epoch 002/015 | Loss 1.7365 | Win/lose count 4.5/179.29999999999998 (-174.79999999999998)\n",
      "Epoch 003/015 | Loss 1.7830 | Win/lose count 2.5/266.5 (-264.0)\n",
      "Epoch 004/015 | Loss 1.8704 | Win/lose count 2.0/261.80000000000007 (-259.80000000000007)\n",
      "Epoch 005/015 | Loss 2.2542 | Win/lose count 3.5/151.10000000000002 (-147.60000000000002)\n",
      "Epoch 006/015 | Loss 1.6417 | Win/lose count 5.0/213.29999999999998 (-208.29999999999998)\n",
      "Epoch 007/015 | Loss 2.2006 | Win/lose count 3.0/200.4 (-197.4)\n",
      "Epoch 008/015 | Loss 1.9293 | Win/lose count 6.0/132.89999999999992 (-126.89999999999992)\n",
      "Epoch 009/015 | Loss 2.5069 | Win/lose count 5.5/118.29999999999994 (-112.79999999999994)\n",
      "Epoch 010/015 | Loss 1.9896 | Win/lose count 3.5/223.09999999999997 (-219.59999999999997)\n",
      "Epoch 011/015 | Loss 1.7395 | Win/lose count 3.5/163.19999999999996 (-159.69999999999996)\n",
      "Epoch 012/015 | Loss 2.0528 | Win/lose count 4.0/250.19999999999996 (-246.19999999999996)\n",
      "Epoch 013/015 | Loss 1.2509 | Win/lose count 6.0/224.1 (-218.1)\n",
      "Epoch 014/015 | Loss 1.6865 | Win/lose count 5.0/151.6 (-146.6)\n"
     ]
    }
   ],
   "source": [
    "epochs_train = 15\n",
    "pro_agent = agent\n",
    "mimic_agent = CNN_Mimic_Agent(size, lr=.1, epsilon = 0.1, memory_size=2000, batch_size = 32,n_state=2)\n",
    "env = EnvironmentExploring(grid_size=size, max_time=T, temperature=0.3)\n",
    "train_mimic_agent(pro_agent,mimic_agent, env, epochs_train, prefix='train_cnn_mimick_agent')"
   ]
  },
  {
   "cell_type": "code",
   "execution_count": 50,
   "metadata": {},
   "outputs": [
    {
     "name": "stdout",
     "output_type": "stream",
     "text": [
      "Win/lose count 0/0. Average score (0.0)\n",
      "Win/lose count 0/1.0. Average score (-0.5)\n",
      "Win/lose count 0.5/0. Average score (-0.16666666666666666)\n",
      "Win/lose count 0.5/0. Average score (0.0)\n",
      "Win/lose count 0.5/0. Average score (0.1)\n",
      "Win/lose count 0/0. Average score (0.08333333333333333)\n",
      "Win/lose count 0/0. Average score (0.07142857142857142)\n",
      "Win/lose count 0.5/0. Average score (0.125)\n",
      "Win/lose count 0.5/0. Average score (0.16666666666666666)\n",
      "Win/lose count 0.5/0. Average score (0.2)\n",
      "Win/lose count 1.0/0. Average score (0.2727272727272727)\n",
      "Win/lose count 0/0. Average score (0.25)\n",
      "Win/lose count 0/0. Average score (0.23076923076923078)\n",
      "Win/lose count 0.5/0. Average score (0.25)\n",
      "Win/lose count 0/0. Average score (0.23333333333333334)\n",
      "Win/lose count 0/0. Average score (0.21875)\n",
      "Win/lose count 0/0. Average score (0.20588235294117646)\n",
      "Win/lose count 1.0/1.0. Average score (0.19444444444444445)\n",
      "Win/lose count 0.5/0. Average score (0.21052631578947367)\n",
      "Win/lose count 0/0. Average score (0.2)\n",
      "Final score: 0.2\n"
     ]
    }
   ],
   "source": [
    "# Evaluation\n",
    "env_test = Environment(grid_size=size, max_time=T,temperature=0.3)\n",
    "test(mimic_agent,env_test,epochs_test,prefix='test_cnn_mimick_agent')"
   ]
  },
  {
   "cell_type": "code",
   "execution_count": 51,
   "metadata": {},
   "outputs": [
    {
     "data": {
      "text/html": [
       "<video alt=\"test\" controls>\n",
       "                <source src=\"data:video/mp4;base64,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\" type=\"video/mp4\" />\n",
       "             </video>"
      ],
      "text/plain": [
       "<IPython.core.display.HTML object>"
      ]
     },
     "execution_count": 51,
     "metadata": {},
     "output_type": "execute_result"
    }
   ],
   "source": [
    "HTML(display_videos('test_cnn_mimick_agent15.mp4'))"
   ]
  },
  {
   "cell_type": "markdown",
   "metadata": {},
   "source": [
    "> Performance of the agent drops significantly but training becomes faster."
   ]
  },
  {
   "cell_type": "markdown",
   "metadata": {},
   "source": [
    "***"
   ]
  }
 ],
 "metadata": {
  "kernelspec": {
   "display_name": "Python 3",
   "language": "python",
   "name": "python3"
  },
  "language_info": {
   "codemirror_mode": {
    "name": "ipython",
    "version": 3
   },
   "file_extension": ".py",
   "mimetype": "text/x-python",
   "name": "python",
   "nbconvert_exporter": "python",
   "pygments_lexer": "ipython3",
   "version": "3.6.8"
  }
 },
 "nbformat": 4,
 "nbformat_minor": 2
}
